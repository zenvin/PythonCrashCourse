{
 "cells": [
  {
   "cell_type": "markdown",
   "metadata": {},
   "source": [
    "# Chapter: 9 - Classes\n",
    "Object-oriented programming is one the most effective approaches to writing software. In object-oriented programming you write *classess* that represent real-world things and situations, and you create *objects* based on these classes. When you write a class, you define the general behavior that a whole category of objects can have.\n",
    "\n",
    "When you create individual objects from the class, each object is automatically equipped with the general behavior; you can then give each object whatever unique traits you desire. You'll be amazed how well real-world situations can be modeled with object-oriented programming.\n",
    "\n",
    "Making an object from a class is called *instantiation*, and you work with *instances* of a class. In this chapter you'll write classess and create instances of those classes. You'll specify the kind of information that can be stored in instances, and you'll define actions that can be stored in instances, and you'll define actions that can be taken with these instances. You'll also write classess that extend the functionality of existing classess, so similar classes can share code efficiently. You'll store your classess in modules and import classes written by other programmers into your own program files.\n",
    "\n",
    "Understanding object-oriented programming will help you see the world as a programmer does. It'll help you really know your code, not just what's happening line by line, but also the bigger concepts behind it. Knowing the logic behind classes will train you to think logically so you can write programs that effectively address almost any problem you encounter.\n",
    "\n",
    "Classes also make life easier for you and the other programmers you'll work with as you take on increasingly complex challenges. When you and other programmers write code based on the same kind of logic, you'll be able to understand each other's work. Your programs will make sense to many collaborators, allowing everyone to accomplish more."
   ]
  },
  {
   "cell_type": "markdown",
   "metadata": {},
   "source": [
    "## Creating and using a class\n",
    "You can model almost anything using classes. Let's start by writing a simple class, `Dog`, that represents a dog--not one dog in particular, but any dog. What do we know about most pet dogs? Well, they all have a name and age. We also know that most dogs sit and roll over. Those two pieces of information (name and age) and those two behaviors (sit and roll over) will go into our `Dog` class because they're common to most dogs. This class will tell Python how to make an object representing a dog. After our class is written, we'll use it to make individual instances, each of which represents one specific dog."
   ]
  },
  {
   "cell_type": "markdown",
   "metadata": {},
   "source": [
    "### Creating the Dog Class\n",
    "Each instance created from the `Dog` class will store a `name` and an `age`, and we'll give each dog the ability to `sit()` and `roll_over()`:"
   ]
  },
  {
   "cell_type": "code",
   "execution_count": 2,
   "metadata": {},
   "outputs": [],
   "source": [
    "class Dog:\n",
    "\t\"\"\"A simple attempt to model a dog.\"\"\"\n",
    "\n",
    "\tdef __init__(self, name, age):\n",
    "\t\t\"\"\"Initialize name and age attributes.\"\"\"\n",
    "\t\tself.name = name\n",
    "\t\tself.age = age\n",
    "\n",
    "\tdef sit(self):\n",
    "\t\t\"\"\"Simulate a dog sitting in response to a command.\"\"\"\n",
    "\t\tprint(f\"{self.name} is now sitting.\")\n",
    "\n",
    "\tdef roll_over(self):\n",
    "\t\t\"\"\"Simulate rolling over in response to a command.\"\"\"\n",
    "\t\tprint(f\"{self.name} rolled over!\")\n",
    "\t\t"
   ]
  },
  {
   "cell_type": "markdown",
   "metadata": {},
   "source": [
    "You'll see this structure throughout this chapter and have lost of time to get used to it. At line 1, we define a class called `Dog`. By convention, capitalized names refer to classes in Python. There are no parentheses in the class definition because we're creating this class from scratch. At line 2 we write a docstring describing what this class does."
   ]
  },
  {
   "cell_type": "markdown",
   "metadata": {},
   "source": [
    "### The __init__() Method\n",
    "\n",
    "A function that's part of a class is a *method*. Everything you learned about functions applies to methods as well; the only practical difference for now is the way we'll call methods. The _init_() method at line 4 is a special method that Python runs automatically whenever we create a new instance based on the `Dog` class. This method has two leading underscores and two trailing underscores, a convention that helps prevent Python's default method names from conflicting with your method names. Make sure to use two underscores on each side of _init_(). If you use just one on each side, the method wont' be called automatically when you use your class, which can result in errors that are different to identify.\n",
    "\n",
    "We define the _init_() method to have three parameters: `self, name` and `age`. The `self` parameter is required in the method definition, and it must come first before the other parameters. It must be included in the definition because when Python calls this method later (to create an instance of `Dog`), the method call will automatically pass the `self` argument. Every method call associated with an instance automatically passess `self`, which is a reference to the instance itself; it gives the individual instance access to the arributes and methods in the class. When we make an instance of `Dog`, Python will call the _init_() method from the `Dog` class. We'll pass `Dog()` a name and an age as arguments; `self` is passed automatically, so we don't need to pass it. Whenever we want to make an instance fro the `Dog` class, we'll provide values for only the last two parameters, `name` and `age`.\n",
    "\n",
    "The two variables defined at line 6 & 7, each have the prefix `self`. Any variable prefixed with `self` is available to every method in the class. and we'll also be able to access these varaiables through any instance created from the class. The line `self.name = name` takes the value associated with the parameter `name` and assigns it to the variable `name`, which is then attached to the instance being created. The same process happens with `self.age = age`. Variable that are accesible through instances like this are called *attributes*.\n",
    "\n",
    "The `Dog` class has two other methods defined: `sit()` and `roll_over()` at line 9. Because these methods don't need additional information to run, we just define them to have one parameter, `self`. The isntances we create later will have access to these methods. In other words, they'll be able to sit and roll over. For now, `sit()` and `roll_over()` don't do much. They simply print a message saying the dog is sitting or rolling over. But the concept can be extended to realistic situations: if this class were part of an actual computer game, these methods would contain code to make an animated dog sit or roll over. If this class was written to control a robot, these methods would direct movements that cause a robotic dog to sit and roll over."
   ]
  },
  {
   "cell_type": "markdown",
   "metadata": {},
   "source": [
    "### Making an Instance from a Class\n",
    "Think of a class as a set of instructions for how to make an instance. The class `Dog` is a set of instructions that tell Python how to make individual instances representing specific dogs. \n",
    "\n",
    "Let's make an instance representing a specific dog:"
   ]
  },
  {
   "cell_type": "code",
   "execution_count": 3,
   "metadata": {},
   "outputs": [
    {
     "name": "stdout",
     "output_type": "stream",
     "text": [
      "My dog's name is Willie.\n",
      "My dog is 6 years old.\n"
     ]
    }
   ],
   "source": [
    "my_dog = Dog('Willie', 6)\n",
    "\n",
    "print(f\"My dog's name is {my_dog.name}.\")\n",
    "print(f\"My dog is {my_dog.age} years old.\")"
   ]
  },
  {
   "cell_type": "markdown",
   "metadata": {},
   "source": [
    "The `Dog` class we're using here is the one we just wrote int he previous example. At line 1, we tell Python to create a dog whose name is `Willie` and whose age is `6`. When Python reads this line, it calls the _init_() method in `Dog` with the arguments `Willie` and `6`. The _init_() method creates an instance representing this particular dog and sets the `name` and `age` attributes using the values we provided. Python then returns an instance representing this dog. We assign that instance to the variable `my_dog`. The naming convention is helpful here: we can usually assume that a capitalized name like `Dog` refers to a class, and a lowercase name like `my_dog` refers to a single instance created from a class."
   ]
  },
  {
   "cell_type": "markdown",
   "metadata": {},
   "source": [
    "### Accessing Attributes\n",
    "To access the attributes of an instance, you use dot notation. At line 3, we access the value of `my_dog`'s attribute `name` by writing:\n",
    "\n",
    "`my_dog.name`\n",
    "\n",
    "Dot notation is used often in Python. This syntax demostrates how Python finds an attribute's value. Here Python looks at the instance `my_dog` and then finds the attribute `name` associated with `my_dog`. This is the same attribute referred to as `self.name` in the class `Dog`. At line 4 we use the same approach to work with the attribute `age`.\n",
    "\n",
    "The output is a summary of what we know about `my_dog`:\n",
    "\n",
    "`My dog's name is Willie.\n",
    "My dog is 6 years old.`"
   ]
  },
  {
   "cell_type": "markdown",
   "metadata": {},
   "source": [
    "### Calling Methods\n",
    "After we create an instance from the class `Dog`, we can use dot notation to call any method defined in `Dog`. Let's make our dog sit and roll over:"
   ]
  },
  {
   "cell_type": "code",
   "execution_count": 4,
   "metadata": {},
   "outputs": [
    {
     "name": "stdout",
     "output_type": "stream",
     "text": [
      "Willie is now sitting.\n",
      "Willie rolled over!\n"
     ]
    }
   ],
   "source": [
    "my_dog.sit()\n",
    "my_dog.roll_over()"
   ]
  },
  {
   "cell_type": "markdown",
   "metadata": {},
   "source": [
    "To call a method, give the name of the instance (in this case, `my_dog`) and the method you want to call, separated by a dot. When Python reads `my_dog.sit()`, it looks for the method `sit()` in the class `Dog` and runs that code. Python interprets the line `my_dog.roll_over()` in the same way. \n",
    "\n",
    "Now Willie does what we tell him to:\n",
    "\n",
    "`Willie is now sitting.\n",
    "Willie rolled over!`\n",
    "\n",
    "This syntax is quite useful. When attributes and methods have been given appropriately descriptive names like `name`, `age`, `sit()` and `roll_over()`, we can easily infer what a block of code, even one we've never seen before is supposed to do."
   ]
  },
  {
   "cell_type": "markdown",
   "metadata": {},
   "source": [
    "### Creating Multiple Instances\n",
    "You can create as many instances from a class as you need. Let's create a second dog called `your_dog`:"
   ]
  },
  {
   "cell_type": "code",
   "execution_count": 7,
   "metadata": {
    "scrolled": true
   },
   "outputs": [
    {
     "name": "stdout",
     "output_type": "stream",
     "text": [
      "My dog's name is Willie.\n",
      "My dog is 6 years old.\n",
      "Willie is now sitting.\n",
      "\n",
      "Your dog's name is Lucy.\n",
      "Your dog is 3 years old.\n",
      "Lucy is now sitting.\n"
     ]
    }
   ],
   "source": [
    "my_dog = Dog('Willie', 6)\n",
    "your_dog = Dog('Lucy', 3)\n",
    "\n",
    "print(f\"My dog's name is {my_dog.name}.\")\n",
    "print(f\"My dog is {my_dog.age} years old.\")\n",
    "my_dog.sit()\n",
    "\n",
    "print(f\"\\nYour dog's name is {your_dog.name}.\")\n",
    "print(f\"Your dog is {your_dog.age} years old.\")\n",
    "your_dog.sit()"
   ]
  },
  {
   "cell_type": "markdown",
   "metadata": {},
   "source": [
    "In this example we create a dog named Willie and a dog named Lucy. Each dog is a separate instance with its own set of attributes, capable of the same set of actions:\n",
    "\n",
    "`My dog's name is Willie.\n",
    "My dog is 6 years old.\n",
    "Willie is now sitting.`\n",
    "\n",
    "`Your dog's name is Lucy.\n",
    "Your dog is 3 years old.\n",
    "Lucy is now sitting.`\n",
    "\n",
    "Even if we used the same name and age for the second dog, Python would still create a separate instance from the `Dog` class. You can make as many instances from one class as you need, as long as you give each instance a unique name or it occupies a unique spot in a list or dictionary."
   ]
  },
  {
   "cell_type": "code",
   "execution_count": null,
   "metadata": {},
   "outputs": [],
   "source": [
    "End on page 162 Try it yourself"
   ]
  }
 ],
 "metadata": {
  "kernelspec": {
   "display_name": "Python 3",
   "language": "python",
   "name": "python3"
  },
  "language_info": {
   "codemirror_mode": {
    "name": "ipython",
    "version": 3
   },
   "file_extension": ".py",
   "mimetype": "text/x-python",
   "name": "python",
   "nbconvert_exporter": "python",
   "pygments_lexer": "ipython3",
   "version": "3.7.1"
  }
 },
 "nbformat": 4,
 "nbformat_minor": 4
}
