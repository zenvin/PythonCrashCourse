{
 "cells": [
  {
   "cell_type": "markdown",
   "metadata": {},
   "source": [
    "# Chapter: 9 - Classes\n",
    "Object-oriented programming is one the most effective approaches to writing software. In object-oriented programming you write *classess* that represent real-world things and situations, and you create *objects* based on these classes. When you write a class, you define the general behavior that a whole category of objects can have.\n",
    "\n",
    "When you create individual objects from the class, each object is automatically equipped with the general behavior; you can then give each object whatever unique traits you desire. You'll be amazed how well real-world situations can be modeled with object-oriented programming.\n",
    "\n",
    "Making an object from a class is called *instantiation*, and you work with *instances* of a class. In this chapter you'll write classess and create instances of those classes. You'll specify the kind of information that can be stored in instances, and you'll define actions that can be stored in instances, and you'll define actions that can be taken with these instances. You'll also write classess that extend the functionality of existing classess, so similar classes can share code efficiently. You'll store your classess in modules and import classes written by other programmers into your own program files.\n",
    "\n",
    "Understanding object-oriented programming will help you see the world as a programmer does. It'll help you really know your code, not just what's happening line by line, but also the bigger concepts behind it. Knowing the logic behind classes will train you to think logically so you can write programs that effectively address almost any problem you encounter.\n",
    "\n",
    "Classes also make life easier for you and the other programmers you'll work with as you take on increasingly complex challenges. When you and other programmers write code based on the same kind of logic, you'll be able to understand each other's work. Your programs will make sense to many collaborators, allowing everyone to accomplish more."
   ]
  },
  {
   "cell_type": "markdown",
   "metadata": {},
   "source": [
    "## Creating and using a class\n",
    "You can model almost anything using classes. Let's start by writing a simple class, `Dog`, that represents a dog--not one dog in particular, but any dog. What do we know about most pet dogs? Well, they all have a name and age. We also know that most dogs sit and roll over. Those two pieces of information (name and age) and those two behaviors (sit and roll over) will go into our `Dog` class because they're common to most dogs. This class will tell Python how to make an object representing a dog. After our class is written, we'll use it to make individual instances, each of which represents one specific dog."
   ]
  },
  {
   "cell_type": "markdown",
   "metadata": {},
   "source": [
    "### Creating the Dog Class\n",
    "Each instance created from the `Dog` class will store a `name` and an `age`, and we'll give each dog the ability to `sit()` and `roll_over()`:"
   ]
  },
  {
   "cell_type": "code",
   "execution_count": 2,
   "metadata": {},
   "outputs": [],
   "source": [
    "class Dog:\n",
    "\t\"\"\"A simple attempt to model a dog.\"\"\"\n",
    "\n",
    "\tdef __init__(self, name, age):\n",
    "\t\t\"\"\"Initialize name and age attributes.\"\"\"\n",
    "\t\tself.name = name\n",
    "\t\tself.age = age\n",
    "\n",
    "\tdef sit(self):\n",
    "\t\t\"\"\"Simulate a dog sitting in response to a command.\"\"\"\n",
    "\t\tprint(f\"{self.name} is now sitting.\")\n",
    "\n",
    "\tdef roll_over(self):\n",
    "\t\t\"\"\"Simulate rolling over in response to a command.\"\"\"\n",
    "\t\tprint(f\"{self.name} rolled over!\")\n",
    "\t\t"
   ]
  },
  {
   "cell_type": "markdown",
   "metadata": {},
   "source": [
    "You'll see this structure throughout this chapter and have lost of time to get used to it. At line 1, we define a class called `Dog`. By convention, capitalized names refer to classes in Python. There are no parentheses in the class definition because we're creating this class from scratch. At line 2 we write a docstring describing what this class does."
   ]
  },
  {
   "cell_type": "markdown",
   "metadata": {},
   "source": [
    "### The __init__() Method\n",
    "\n",
    "A function that's part of a class is a *method*. Everything you learned about functions applies to methods as well; the only practical difference for now is the way we'll call methods. The _init_() method at line 4 is a special method that Python runs automatically whenever we create a new instance based on the `Dog` class. This method has two leading underscores and two trailing underscores, a convention that helps prevent Python's default method names from conflicting with your method names. Make sure to use two underscores on each side of _init_(). If you use just one on each side, the method wont' be called automatically when you use your class, which can result in errors that are different to identify.\n",
    "\n",
    "We define the _init_() method to have three parameters: `self, name` and `age`. The `self` parameter is required in the method definition, and it must come first before the other parameters. It must be included in the definition because when Python calls this method later (to create an instance of `Dog`), the method call will automatically pass the `self` argument. Every method call associated with an instance automatically passess `self`, which is a reference to the instance itself; it gives the individual instance access to the arributes and methods in the class. When we make an instance of `Dog`, Python will call the _init_() method from the `Dog` class. We'll pass `Dog()` a name and an age as arguments; `self` is passed automatically, so we don't need to pass it. Whenever we want to make an instance fro the `Dog` class, we'll provide values for only the last two parameters, `name` and `age`.\n",
    "\n",
    "The two variables defined at line 6 & 7, each have the prefix `self`. Any variable prefixed with `self` is available to every method in the class. and we'll also be able to access these varaiables through any instance created from the class. The line `self.name = name` takes the value associated with the parameter `name` and assigns it to the variable `name`, which is then attached to the instance being created. The same process happens with `self.age = age`. Variable that are accesible through instances like this are called *attributes*.\n",
    "\n",
    "The `Dog` class has two other methods defined: `sit()` and `roll_over()` at line 9. Because these methods don't need additional information to run, we just define them to have one parameter, `self`. The isntances we create later will have access to these methods. In other words, they'll be able to sit and roll over. For now, `sit()` and `roll_over()` don't do much. They simply print a message saying the dog is sitting or rolling over. But the concept can be extended to realistic situations: if this class were part of an actual computer game, these methods would contain code to make an animated dog sit or roll over. If this class was written to control a robot, these methods would direct movements that cause a robotic dog to sit and roll over."
   ]
  },
  {
   "cell_type": "markdown",
   "metadata": {},
   "source": [
    "### Making an Instance from a Class\n",
    "Think of a class as a set of instructions for how to make an instance. The class `Dog` is a set of instructions that tell Python how to make individual instances representing specific dogs. \n",
    "\n",
    "Let's make an instance representing a specific dog:"
   ]
  },
  {
   "cell_type": "code",
   "execution_count": 3,
   "metadata": {},
   "outputs": [
    {
     "name": "stdout",
     "output_type": "stream",
     "text": [
      "My dog's name is Willie.\n",
      "My dog is 6 years old.\n"
     ]
    }
   ],
   "source": [
    "my_dog = Dog('Willie', 6)\n",
    "\n",
    "print(f\"My dog's name is {my_dog.name}.\")\n",
    "print(f\"My dog is {my_dog.age} years old.\")"
   ]
  },
  {
   "cell_type": "markdown",
   "metadata": {},
   "source": [
    "The `Dog` class we're using here is the one we just wrote int he previous example. At line 1, we tell Python to create a dog whose name is `Willie` and whose age is `6`. When Python reads this line, it calls the _init_() method in `Dog` with the arguments `Willie` and `6`. The _init_() method creates an instance representing this particular dog and sets the `name` and `age` attributes using the values we provided. Python then returns an instance representing this dog. We assign that instance to the variable `my_dog`. The naming convention is helpful here: we can usually assume that a capitalized name like `Dog` refers to a class, and a lowercase name like `my_dog` refers to a single instance created from a class."
   ]
  },
  {
   "cell_type": "markdown",
   "metadata": {},
   "source": [
    "### Accessing Attributes\n",
    "To access the attributes of an instance, you use dot notation. At line 3, we access the value of `my_dog`'s attribute `name` by writing:\n",
    "\n",
    "`my_dog.name`\n",
    "\n",
    "Dot notation is used often in Python. This syntax demostrates how Python finds an attribute's value. Here Python looks at the instance `my_dog` and then finds the attribute `name` associated with `my_dog`. This is the same attribute referred to as `self.name` in the class `Dog`. At line 4 we use the same approach to work with the attribute `age`.\n",
    "\n",
    "The output is a summary of what we know about `my_dog`:\n",
    "\n",
    "`My dog's name is Willie.\n",
    "My dog is 6 years old.`"
   ]
  },
  {
   "cell_type": "markdown",
   "metadata": {},
   "source": [
    "### Calling Methods\n",
    "After we create an instance from the class `Dog`, we can use dot notation to call any method defined in `Dog`. Let's make our dog sit and roll over:"
   ]
  },
  {
   "cell_type": "code",
   "execution_count": 4,
   "metadata": {},
   "outputs": [
    {
     "name": "stdout",
     "output_type": "stream",
     "text": [
      "Willie is now sitting.\n",
      "Willie rolled over!\n"
     ]
    }
   ],
   "source": [
    "my_dog.sit()\n",
    "my_dog.roll_over()"
   ]
  },
  {
   "cell_type": "markdown",
   "metadata": {},
   "source": [
    "To call a method, give the name of the instance (in this case, `my_dog`) and the method you want to call, separated by a dot. When Python reads `my_dog.sit()`, it looks for the method `sit()` in the class `Dog` and runs that code. Python interprets the line `my_dog.roll_over()` in the same way. \n",
    "\n",
    "Now Willie does what we tell him to:\n",
    "\n",
    "`Willie is now sitting.\n",
    "Willie rolled over!`\n",
    "\n",
    "This syntax is quite useful. When attributes and methods have been given appropriately descriptive names like `name`, `age`, `sit()` and `roll_over()`, we can easily infer what a block of code, even one we've never seen before is supposed to do."
   ]
  },
  {
   "cell_type": "markdown",
   "metadata": {},
   "source": [
    "### Creating Multiple Instances\n",
    "You can create as many instances from a class as you need. Let's create a second dog called `your_dog`:"
   ]
  },
  {
   "cell_type": "code",
   "execution_count": 7,
   "metadata": {
    "scrolled": true
   },
   "outputs": [
    {
     "name": "stdout",
     "output_type": "stream",
     "text": [
      "My dog's name is Willie.\n",
      "My dog is 6 years old.\n",
      "Willie is now sitting.\n",
      "\n",
      "Your dog's name is Lucy.\n",
      "Your dog is 3 years old.\n",
      "Lucy is now sitting.\n"
     ]
    }
   ],
   "source": [
    "my_dog = Dog('Willie', 6)\n",
    "your_dog = Dog('Lucy', 3)\n",
    "\n",
    "print(f\"My dog's name is {my_dog.name}.\")\n",
    "print(f\"My dog is {my_dog.age} years old.\")\n",
    "my_dog.sit()\n",
    "\n",
    "print(f\"\\nYour dog's name is {your_dog.name}.\")\n",
    "print(f\"Your dog is {your_dog.age} years old.\")\n",
    "your_dog.sit()"
   ]
  },
  {
   "cell_type": "markdown",
   "metadata": {},
   "source": [
    "In this example we create a dog named Willie and a dog named Lucy. Each dog is a separate instance with its own set of attributes, capable of the same set of actions:\n",
    "\n",
    "`My dog's name is Willie.\n",
    "My dog is 6 years old.\n",
    "Willie is now sitting.`\n",
    "\n",
    "`Your dog's name is Lucy.\n",
    "Your dog is 3 years old.\n",
    "Lucy is now sitting.`\n",
    "\n",
    "Even if we used the same name and age for the second dog, Python would still create a separate instance from the `Dog` class. You can make as many instances from one class as you need, as long as you give each instance a unique name or it occupies a unique spot in a list or dictionary."
   ]
  },
  {
   "cell_type": "markdown",
   "metadata": {},
   "source": [
    "### TRY IT YOURSELF\n",
    "**9-1. Restaurant:** Make a class called `Restaurant`. The _init_() method for `Restaurant` should store two attributes: a `restaurant_name` and a `cuisine_type`. Make a method called `describe_restaurant()` that prints these two pieces of informationation, aand a method called `open_restaurant()` that prints a message indicating that the restaurant is open.\n",
    "\n",
    "Make an instance called `restaurant` from your class, Print the two attributes individually and then call both methods."
   ]
  },
  {
   "cell_type": "code",
   "execution_count": 19,
   "metadata": {},
   "outputs": [
    {
     "name": "stdout",
     "output_type": "stream",
     "text": [
      "Restaurant name is Chin'S Kithchen.\n",
      "Chin'S Kithchen serves the best Asiancuisine in town.\n",
      "The Chin'S Kithchen restaurant specializes in Asian cuisine.\n",
      "The Chin'S Kithchen is open for business.\n"
     ]
    }
   ],
   "source": [
    "class Restaurant:\n",
    "    \"\"\"A simple attempt to model a restaurant.\"\"\"\n",
    "    \n",
    "    def __init__(self, restaurant_name, cuisine_type):\n",
    "        \"\"\"Initialize name and cuisine attributes.\"\"\"\n",
    "        self.restaurant_name = restaurant_name\n",
    "        self.cuisine_type = cuisine_type\n",
    "        \n",
    "    def describe_restaurant(self):\n",
    "        print(f\"The {self.restaurant_name.title()} restaurant specializes in {self.cuisine_type.title()} cuisine.\")\n",
    "    \n",
    "    def open_restaurant(self):\n",
    "        print(f\"The {self.restaurant_name.title()} is open for business.\")\n",
    "\n",
    "# Create an instance called restaurant:        \n",
    "restaurant_0 = Restaurant(\"chin's kithchen\", \"asian\")\n",
    "\n",
    "# Print the two attributes individually:\n",
    "print(f\"Restaurant name is {restaurant_0.restaurant_name.title()}.\")\n",
    "print(f\"{restaurant_0.restaurant_name.title()} serves the best {restaurant_0.cuisine_type.title()}cuisine in town.\")\n",
    "\n",
    "#Calling both methods:\n",
    "restaurant_0.describe_restaurant()\n",
    "restaurant_0.open_restaurant()\n"
   ]
  },
  {
   "cell_type": "markdown",
   "metadata": {},
   "source": [
    "**9-2. Three Restaurants:** Start with your class from 9-1. Create three different instances from the class, and the call `describe_restaurant()` for each instance."
   ]
  },
  {
   "cell_type": "code",
   "execution_count": 20,
   "metadata": {},
   "outputs": [
    {
     "name": "stdout",
     "output_type": "stream",
     "text": [
      "The Chuck Wagon restaurant specializes in American cuisine.\n",
      "The Yoshino restaurant specializes in Japanese cuisine.\n",
      "The Roberto restaurant specializes in Mexican cuisine.\n"
     ]
    }
   ],
   "source": [
    "restaurant_1 = Restaurant(\"chuck wagon\", \"american\")\n",
    "restaurant_2 = Restaurant(\"yoshino\", \"japanese\")\n",
    "restaurant_3 = Restaurant(\"roberto\", \"mexican\")\n",
    "\n",
    "restaurant_1.describe_restaurant()\n",
    "restaurant_2.describe_restaurant()\n",
    "restaurant_3.describe_restaurant()"
   ]
  },
  {
   "cell_type": "markdown",
   "metadata": {},
   "source": [
    "**9-3. Users:** Make a class called `User`. Create two attributes called `first_name` and `last_name`, and then create several other attributes that are typically stored in a user profile. Make a method called `describe_user()` that prints a summary of the user's information. Make another method called `greet_user()` that prints a personalized greeting to the user. \n",
    "Create several instances representing different users, and call both methods for each user."
   ]
  },
  {
   "cell_type": "code",
   "execution_count": 13,
   "metadata": {},
   "outputs": [
    {
     "name": "stdout",
     "output_type": "stream",
     "text": [
      "Vinnie Zennie, age 36 and weight is 180.\n",
      "Bob Dole: age is 20.\n",
      "Suzzy Smith: weight is 99.\n"
     ]
    }
   ],
   "source": [
    "class User:\n",
    "    \"\"\"A simple model of a user.\"\"\"\n",
    "    def __init__(self, first_name, last_name, age=\"\", weight=\"\"):\n",
    "        self.first_name = first_name\n",
    "        self.last_name = last_name\n",
    "        self.age = age\n",
    "        self.weight = weight\n",
    "        \n",
    "    def describe_user(self):\n",
    "        if self.age and self.weight:\n",
    "            print(f\"{self.first_name.title()} {self.last_name.title()}, age {self.age} and weight is {self.weight}.\")\n",
    "        elif self.age:\n",
    "            print(f\"{self.first_name.title()} {self.last_name.title()}: age is {self.age}.\")\n",
    "        elif self.weight:\n",
    "            print(f\"{self.first_name.title()} {self.last_name.title()}: weight is {self.weight}.\")\n",
    "        else:\n",
    "            print(f\"{self.first_name.title()} {self.last_name.title()}\")\n",
    "                  \n",
    "    def greet_user(self):\n",
    "        print(f\"Hello {self.first_name} {self.last_name}.\")\n",
    "        \n",
    "        \n",
    "vinnie = User(\"vinnie\", \"zennie\", '36', '180')\n",
    "bobbie = User(\"bob\", \"dole\", \"20\")\n",
    "suzy = User('suzzy', \"smith\", weight=\"99\")\n",
    "\n",
    "vinnie.describe_user()\n",
    "bobbie.describe_user()\n",
    "suzy.describe_user()"
   ]
  },
  {
   "cell_type": "markdown",
   "metadata": {},
   "source": [
    "## Working with Classes and Instances\n",
    "You can use classes to represent many real-world situations. Once you write a class, you'll spend most of your time working with instances created from that class. One of the first tasks you'll want to do is modify the attributes associated with a particular instance. You can modify the arrtibutes of an instance directly or write methods that update attributes in specific ways."
   ]
  },
  {
   "cell_type": "markdown",
   "metadata": {},
   "source": [
    "### The Car Class\n",
    "Let's write a new class reprsenting a car. Our class will store information about the kind of car we're working with, and it will have a method that summarizes this information:"
   ]
  },
  {
   "cell_type": "code",
   "execution_count": 17,
   "metadata": {},
   "outputs": [
    {
     "name": "stdout",
     "output_type": "stream",
     "text": [
      "2019 Audi A4\n"
     ]
    }
   ],
   "source": [
    "class Car: \n",
    "    \"\"\"A simple attempt to represent a car.\"\"\"\n",
    "    \n",
    "    def __init__(self, make, model, year):\n",
    "        \"\"\"Initialize attributes to describe a car.\"\"\"\n",
    "        self.make = make\n",
    "        self.model = model\n",
    "        self.year = year\n",
    "        \n",
    "    def get_descriptive_name(self):\n",
    "        \"\"\"Return a neatly formatted descriptive name.\"\"\"\n",
    "        long_name = f\"{self.year} {self.make} {self.model}\"\n",
    "        return long_name.title()\n",
    "\n",
    "my_new_car = Car('audi', 'a4', 2019)\n",
    "print(my_new_car.get_descriptive_name())"
   ]
  },
  {
   "cell_type": "markdown",
   "metadata": {},
   "source": [
    "At line 4 in the Car class, we define the _init_() method with the self parameter first, just like we did before with our `Dog` class. We also give it three other parameters: `make`, `model` and `year`. The `__init__()` method takes in these parameters and assigns them to the attributes that will be associated with instances made from this class. When we make a new `Car` instance, we'll need to specity a make, model, and year for our instance.\n",
    "\n",
    "At line 10, we define a method called `get_descriptive_name()` that puts a car's `year`, `make` and `model` into one string neatly describing the car. This will spare us from having to print each attribute's value individually. To work with the attribute values in this method, we use `self.make`, `self.model` and `self.year`. At line 15, we make an instance from the `Car` class and assign it to the variable `my_new_car`. Then we call `get_descriptive_name()` to show what kind of car we have: `2019 Audi A4`."
   ]
  },
  {
   "cell_type": "markdown",
   "metadata": {},
   "source": [
    "To make the class more interesting, let's add an attribute that changes over time. We'll add an attribute that stores the car's overall mileage."
   ]
  },
  {
   "cell_type": "markdown",
   "metadata": {},
   "source": [
    "### Setting a Default Value for an Attribute\n",
    "When an instance is created, attributes can be defined without being passed in parameters. These attributes can be defined in the `__init__()` method, where they are assigned a default value.\n",
    "\n",
    "Let's add an attribute called `odometer_reading` that always start with a value of 0. We'll also add a method `read_odometer()` that helps us reach each car's odometer:"
   ]
  },
  {
   "cell_type": "code",
   "execution_count": 18,
   "metadata": {},
   "outputs": [
    {
     "name": "stdout",
     "output_type": "stream",
     "text": [
      "2019 Audi A4\n",
      "This car has 0 miles on it.\n"
     ]
    }
   ],
   "source": [
    "class Car: \n",
    "    \"\"\"A simple attempt to represent a car.\"\"\"\n",
    "    \n",
    "    def __init__(self, make, model, year):\n",
    "        \"\"\"Initialize attributes to describe a car.\"\"\"\n",
    "        self.make = make\n",
    "        self.model = model\n",
    "        self.year = year\n",
    "        self.odometer_reading = 0\n",
    "        \n",
    "    def get_descriptive_name(self):\n",
    "        \"\"\"Return a neatly formatted descriptive name.\"\"\"\n",
    "        long_name = f\"{self.year} {self.make} {self.model}\"\n",
    "        return long_name.title()\n",
    "\n",
    "    def read_odometer(self):\n",
    "        \"\"\"Print a statement showing the car's mileage.\"\"\"\n",
    "        print(f\"This car has {self.odometer_reading} miles on it.\")\n",
    "        \n",
    "my_new_car = Car('audi', 'a4', 2019)\n",
    "print(my_new_car.get_descriptive_name())\n",
    "my_new_car.read_odometer()"
   ]
  },
  {
   "cell_type": "markdown",
   "metadata": {},
   "source": [
    "This time when Python calls the `__init__()` method to create new instance, it stores the make, model and year values as attributes like it did in the previous example. Then Python creates a new attribute called `odometer_reading` and sets its initial value to 0 (line 9). We also have a new method called `read_odometer()` at line 16 that makes it easy to read a car's mileage.\n",
    "\n",
    "Our car starts with a mileage of 0:\n",
    "\n",
    "`2019 Audi A4\n",
    "This car has 0 miles on it.`\n",
    "\n",
    "Not many cars sold with exactly 0 miles on the odometer, so we need a way to change the value of this attribute."
   ]
  },
  {
   "cell_type": "markdown",
   "metadata": {},
   "source": [
    "### Modifying Attribute Values\n",
    "You can change an attribute's value in three ways: you can change the value directly through and instance, set the value through a method, or increment the value (add a certain amount to it) through a method. Let's look at each approaches"
   ]
  },
  {
   "cell_type": "markdown",
   "metadata": {},
   "source": [
    "#### Modifying an Attribute's Value Directly\n",
    "The simplest way to modify the value of an attribute is to access the attribute directly through an instance. Here we set the odometer reading to 23 directly:"
   ]
  },
  {
   "cell_type": "code",
   "execution_count": 19,
   "metadata": {},
   "outputs": [
    {
     "name": "stdout",
     "output_type": "stream",
     "text": [
      "2019 Audi A4\n",
      "This car has 23 miles on it.\n"
     ]
    }
   ],
   "source": [
    "class Car: \n",
    "    \"\"\"A simple attempt to represent a car.\"\"\"\n",
    "    \n",
    "    def __init__(self, make, model, year):\n",
    "        \"\"\"Initialize attributes to describe a car.\"\"\"\n",
    "        self.make = make\n",
    "        self.model = model\n",
    "        self.year = year\n",
    "        self.odometer_reading = 0\n",
    "        \n",
    "    def get_descriptive_name(self):\n",
    "        \"\"\"Return a neatly formatted descriptive name.\"\"\"\n",
    "        long_name = f\"{self.year} {self.make} {self.model}\"\n",
    "        return long_name.title()\n",
    "\n",
    "    def read_odometer(self):\n",
    "        \"\"\"Print a statement showing the car's mileage.\"\"\"\n",
    "        print(f\"This car has {self.odometer_reading} miles on it.\")\n",
    "        \n",
    "my_new_car = Car('audi', 'a4', 2019)\n",
    "print(my_new_car.get_descriptive_name())\n",
    "\n",
    "my_new_car.odometer_reading = 23\n",
    "my_new_car.read_odometer()"
   ]
  },
  {
   "cell_type": "markdown",
   "metadata": {},
   "source": [
    "At line 23, we use dot notation to access the car's `odometer_reading` attribute and set its value directly. This line tells Python to take the instance `my_new_car`, find the attribute `odometer_reading` associated with it, and set the value of that attribute to 23:\n",
    "\n",
    "`2019 Audi A4\n",
    "This car has 23 miles on it.`\n",
    "\n",
    "Sometimes you'll want to access attributes directly like this, but other times you'll want to write a method that updates the value for you."
   ]
  },
  {
   "cell_type": "markdown",
   "metadata": {},
   "source": [
    "#### Modifying an Attribute's Value Through a Method\n",
    "It can be helpful to have methods that update certain attributes for you. Instead of accessing the attribute directly, you pass the new value to a method that handles the updating internally. \n",
    "\n",
    "Here's an exmaple showing a method called `update_odometer()`:"
   ]
  },
  {
   "cell_type": "code",
   "execution_count": 3,
   "metadata": {},
   "outputs": [
    {
     "name": "stdout",
     "output_type": "stream",
     "text": [
      "2019 Audi A4\n",
      "This car has 23 miles on it.\n"
     ]
    }
   ],
   "source": [
    "class Car: \n",
    "    \"\"\"A simple attempt to represent a car.\"\"\"\n",
    "    \n",
    "    def __init__(self, make, model, year):\n",
    "        \"\"\"Initialize attributes to describe a car.\"\"\"\n",
    "        self.make = make\n",
    "        self.model = model\n",
    "        self.year = year\n",
    "        self.odometer_reading = 0\n",
    "        \n",
    "    def get_descriptive_name(self):\n",
    "        \"\"\"Return a neatly formatted descriptive name.\"\"\"\n",
    "        long_name = f\"{self.year} {self.make} {self.model}\"\n",
    "        return long_name.title()\n",
    "\n",
    "    def read_odometer(self):\n",
    "        \"\"\"Print a statement showing the car's mileage.\"\"\"\n",
    "        print(f\"This car has {self.odometer_reading} miles on it.\")\n",
    "        \n",
    "    def update_odometer(self, mileage):\n",
    "        \"\"\"Set the odometer reading to the given value.\"\"\"\n",
    "        self.odometer_reading = mileage\n",
    "        \n",
    "my_new_car = Car('audi', 'a4', 2019)\n",
    "print(my_new_car.get_descriptive_name())\n",
    "\n",
    "my_new_car.update_odometer(23)\n",
    "my_new_car.read_odometer()"
   ]
  },
  {
   "cell_type": "markdown",
   "metadata": {},
   "source": [
    "The only modification to `Car` is the addition of `update_odometer()` at line 20. This method takes in a mileage value and assigns it to `self.odometer_reading`. At line 27, we call `update_odometer()` and it gives `23` as an argument (corresponding to the `mileage` parameter in the method definition). It sets the odometer reading to 23, and `read_odometer()` prints the reading:\n",
    "\n",
    "`2019 Audi A4\n",
    "This car has 23 miles on it.`\n",
    "\n",
    "We can extend the method `update_odometer()` to do additional work everytime the odometer reading is modified. Let's add a little logic to make sure no one tries to roll back the odometer reading:"
   ]
  },
  {
   "cell_type": "code",
   "execution_count": 5,
   "metadata": {},
   "outputs": [
    {
     "name": "stdout",
     "output_type": "stream",
     "text": [
      "2019 Audi A4\n",
      "You can't roll back and odometer!\n",
      "This car has 23 miles on it.\n"
     ]
    }
   ],
   "source": [
    "class Car: \n",
    "    \"\"\"A simple attempt to represent a car.\"\"\"\n",
    "    \n",
    "    def __init__(self, make, model, year):\n",
    "        \"\"\"Initialize attributes to describe a car.\"\"\"\n",
    "        self.make = make\n",
    "        self.model = model\n",
    "        self.year = year\n",
    "        self.odometer_reading = 23\n",
    "        \n",
    "    def get_descriptive_name(self):\n",
    "        \"\"\"Return a neatly formatted descriptive name.\"\"\"\n",
    "        long_name = f\"{self.year} {self.make} {self.model}\"\n",
    "        return long_name.title()\n",
    "\n",
    "    def read_odometer(self):\n",
    "        \"\"\"Print a statement showing the car's mileage.\"\"\"\n",
    "        print(f\"This car has {self.odometer_reading} miles on it.\")\n",
    "        \n",
    "    def update_odometer(self, mileage):\n",
    "        \"\"\"\n",
    "        Set the odometer reading to the given value.\n",
    "        Reject the change if it attempts to roll the odometer back.\"\"\"\n",
    "        if mileage >= self.odometer_reading:\n",
    "            self.odometer_reading = mileage\n",
    "        else: \n",
    "            print(\"You can't roll back and odometer!\")\n",
    "my_new_car = Car('audi', 'a4', 2019)\n",
    "print(my_new_car.get_descriptive_name())\n",
    "\n",
    "my_new_car.update_odometer(1)\n",
    "my_new_car.read_odometer()"
   ]
  },
  {
   "cell_type": "markdown",
   "metadata": {},
   "source": [
    "Now the `update_odometer()` checks that the new reading makes sense before modifying the attribute. If the new mileage, `mileage`, is greater than or equal to the existing mileage, `self_reading`, you can update the odometer reading to the new mileage (line 24). If the new mileage is less than the existing mileage, you'll get a warning tha tyou can't roll back an odometer (line 27)."
   ]
  },
  {
   "cell_type": "markdown",
   "metadata": {},
   "source": [
    "#### Incrementing an Attribute's Value Through a Method\n",
    "Sometimes you'll want to increment an attribute's value by a certain amount rather than set an entirely new value. Say we buy a used car and put 100 miles on it between the time we buy it and the time we register it. Here's method that allows us to pass this incremental amount and add that value to the odometer reading:"
   ]
  },
  {
   "cell_type": "code",
   "execution_count": 7,
   "metadata": {},
   "outputs": [
    {
     "name": "stdout",
     "output_type": "stream",
     "text": [
      "2015 Subaru Outback\n",
      "This car has 23500 miles on it.\n",
      "This car has 23600 miles on it.\n"
     ]
    }
   ],
   "source": [
    "class Car: \n",
    "    \"\"\"A simple attempt to represent a car.\"\"\"\n",
    "    \n",
    "    def __init__(self, make, model, year):\n",
    "        \"\"\"Initialize attributes to describe a car.\"\"\"\n",
    "        self.make = make\n",
    "        self.model = model\n",
    "        self.year = year\n",
    "        self.odometer_reading = 0\n",
    "        \n",
    "    def get_descriptive_name(self):\n",
    "        \"\"\"Return a neatly formatted descriptive name.\"\"\"\n",
    "        long_name = f\"{self.year} {self.make} {self.model}\"\n",
    "        return long_name.title()\n",
    "\n",
    "    def read_odometer(self):\n",
    "        \"\"\"Print a statement showing the car's mileage.\"\"\"\n",
    "        print(f\"This car has {self.odometer_reading} miles on it.\")\n",
    "        \n",
    "    def update_odometer(self, mileage):\n",
    "        \"\"\"\n",
    "        Set the odometer reading to the given value.\n",
    "        Reject the change if it attempts to roll the odometer back.\"\"\"\n",
    "        if mileage >= self.odometer_reading:\n",
    "            self.odometer_reading = mileage\n",
    "        else: \n",
    "            print(\"You can't roll back and odometer!\")\n",
    "            \n",
    "    def increment_odometer(self, miles):\n",
    "        \"\"\"Add the given to the odometer reading.\"\"\"\n",
    "        self.odometer_reading += miles\n",
    "        \n",
    "my_used_car = Car('subaru', 'outback', 2015)\n",
    "print(my_used_car.get_descriptive_name())\n",
    "\n",
    "my_used_car.update_odometer(23_500)\n",
    "my_used_car.read_odometer()\n",
    "\n",
    "my_used_car.increment_odometer(100)\n",
    "my_used_car.read_odometer()"
   ]
  },
  {
   "cell_type": "markdown",
   "metadata": {},
   "source": [
    "The new method `increment_odometer()` at line 29 takes in a number of miles and adds this value to `self.odometer_reading`. At line 33, we create a used car, `my_used_car`. We set its odometer to 23,500 by calling `update_odometer()` and passing it `23_500` at line 36.  At line 39, we call `increment_odometer()` and pass it `100` to add the 100 miles that we drove between buying the car and registering it:\n",
    "\n",
    "`2015 Subaru Outback\n",
    "This car has 23500 miles on it.\n",
    "This car has 23600 miles on it.`\n",
    "\n",
    "You can easily modified this method to reject negative increments so no one uses this function to roll back an odometer."
   ]
  },
  {
   "cell_type": "markdown",
   "metadata": {},
   "source": [
    "### TRY IT YOURSELF\n",
    "**9-4. Number Served:** Start with your program from exercise 9-1.Create an instance called `restaurant` for this class. Print the numbers of customers the restaurant has served, and then change this value and print it again."
   ]
  },
  {
   "cell_type": "code",
   "execution_count": 18,
   "metadata": {},
   "outputs": [
    {
     "name": "stdout",
     "output_type": "stream",
     "text": [
      "Now serving 0 guests!\n",
      "Now serving 80 guests!\n"
     ]
    }
   ],
   "source": [
    "class Restaurant:\n",
    "    \"\"\"A simple attempt to model a restaurant.\"\"\"\n",
    "    \n",
    "    def __init__(self, restaurant_name, cuisine_type):\n",
    "        \"\"\"Initialize name and cuisine attributes.\"\"\"\n",
    "        self.restaurant_name = restaurant_name\n",
    "        self.cuisine_type = cuisine_type\n",
    "        self.number_served = 0\n",
    "        \n",
    "    def describe_restaurant(self):\n",
    "        print(f\"The {self.restaurant_name.title()} restaurant specializes in {self.cuisine_type.title()} cuisine.\")\n",
    "    \n",
    "    def open_restaurant(self):\n",
    "        print(f\"The {self.restaurant_name.title()} is open for business.\")\n",
    "        \n",
    "    def set_number_served(self):\n",
    "        print(f\"Now serving {self.number_served} guests!\")\\\n",
    "    \n",
    "    def increment_number_served(self, additional_served):\n",
    "        self.number_served += additional_served\n",
    "\n",
    "restaurant = Restaurant('vinnies', 'italian')\n",
    "              \n",
    "restaurant.set_number_served()\n",
    "restaurant.increment_number_served(80)\n",
    "restaurant.set_number_served()"
   ]
  },
  {
   "cell_type": "markdown",
   "metadata": {},
   "source": [
    "**9-5. Login Attempts:** Add an attribute called `login_attempts` to your User class exercise from 9-3\n"
   ]
  },
  {
   "cell_type": "code",
   "execution_count": 32,
   "metadata": {},
   "outputs": [
    {
     "name": "stdout",
     "output_type": "stream",
     "text": [
      "13\n",
      "26\n",
      "39\n",
      "Reset to 0 login attempts.\n"
     ]
    }
   ],
   "source": [
    "class User:\n",
    "    \"\"\"A simple model of a user.\"\"\"\n",
    "    def __init__(self, first_name, last_name, age=\"\", weight=\"\"):\n",
    "        self.first_name = first_name\n",
    "        self.last_name = last_name\n",
    "        self.age = age\n",
    "        self.weight = weight\n",
    "        self.login_attempts = 0\n",
    "        \n",
    "    def describe_user(self):\n",
    "        if self.age and self.weight:\n",
    "            print(f\"{self.first_name.title()} {self.last_name.title()}, age {self.age} and weight is {self.weight}.\")\n",
    "        elif self.age:\n",
    "            print(f\"{self.first_name.title()} {self.last_name.title()}: age is {self.age}.\")\n",
    "        elif self.weight:\n",
    "            print(f\"{self.first_name.title()} {self.last_name.title()}: weight is {self.weight}.\")\n",
    "        else:\n",
    "            print(f\"{self.first_name.title()} {self.last_name.title()}\")\n",
    "                  \n",
    "    def greet_user(self):\n",
    "        print(f\"Hello {self.first_name} {self.last_name}.\")\n",
    "        \n",
    "    def increment_login_attempts(self, additional_login_attempts):\n",
    "        self.login_attempts += additional_login_attempts\n",
    "        print(f\"{self.login_attempts}\")\n",
    "        \n",
    "    def reset_login_attempts(self):\n",
    "        self.login_attempts = 0\n",
    "        print(f\"Reset to {self.login_attempts} login attempts.\")\n",
    "        \n",
    "vinnie = User(\"vinnie\", \"zennie\", '36', '180')\n",
    "\n",
    "vinnie.increment_login_attempts(13)\n",
    "vinnie.increment_login_attempts(13)\n",
    "vinnie.increment_login_attempts(13)\n",
    "vinnie.reset_login_attempts()\n"
   ]
  },
  {
   "cell_type": "markdown",
   "metadata": {},
   "source": [
    "## Inheritance\n",
    "You don't always have to start from scratch when writing a class. If the class you're writing is a specialized version of another class you wrote, you can use *inheritance*. When one class *inherits* from another, it takes on the attributes and methods of the first class. The original class is called the *parent class*, and the new class is the *child class*. The child class can inherit any or all of the attributes and methods of its parent class, but it's also free to define new attributes and methods of its own.\n",
    "\n",
    "### The _init_() Method for a Child Class\n",
    "When you're writing a new class based on an exisiting class, you'll often want to call the `__init__()` method from the parent class. This will initialize any attributes that were defined in the parent `__init__()` method and make them available in the child class. \n",
    "\n",
    "As an example, let's model an electric car. An electric car is just a specific kind of car, so we can base our new `ElectricCar` class on the `Car` class we wrote earlier. Then we'll only have to write code for the attributes and behavior specific to electric cars.\n",
    "\n",
    "Let's start by making a simple version of the `ElectricCar` class, which does everything the `Car` class does:"
   ]
  },
  {
   "cell_type": "code",
   "execution_count": 34,
   "metadata": {},
   "outputs": [
    {
     "name": "stdout",
     "output_type": "stream",
     "text": [
      "2019 Tesla Model S\n"
     ]
    }
   ],
   "source": [
    "class Car: \n",
    "    \"\"\"A simple attempt to represent a car.\"\"\"\n",
    "    \n",
    "    def __init__(self, make, model, year):\n",
    "        \"\"\"Initialize attributes to describe a car.\"\"\"\n",
    "        self.make = make\n",
    "        self.model = model\n",
    "        self.year = year\n",
    "        self.odometer_reading = 0\n",
    "        \n",
    "    def get_descriptive_name(self):\n",
    "        \"\"\"Return a neatly formatted descriptive name.\"\"\"\n",
    "        long_name = f\"{self.year} {self.make} {self.model}\"\n",
    "        return long_name.title()\n",
    "\n",
    "    def read_odometer(self):\n",
    "        \"\"\"Print a statement showing the car's mileage.\"\"\"\n",
    "        print(f\"This car has {self.odometer_reading} miles on it.\")\n",
    "        \n",
    "    def update_odometer(self, mileage):\n",
    "        \"\"\"\n",
    "        Set the odometer reading to the given value.\n",
    "        Reject the change if it attempts to roll the odometer back.\"\"\"\n",
    "        if mileage >= self.odometer_reading:\n",
    "            self.odometer_reading = mileage\n",
    "        else: \n",
    "            print(\"You can't roll back and odometer!\")\n",
    "            \n",
    "    def increment_odometer(self, miles):\n",
    "        \"\"\"Add the given to the odometer reading.\"\"\"\n",
    "        self.odometer_reading += miles\n",
    "        \n",
    "class ElectricCar(Car):\n",
    "    \"\"\"Represent aspects of a car, specific to electric vehicles.\"\"\"\n",
    "    \n",
    "    def __init__(self, make, model, year):\n",
    "        \"\"\"Initialize attributes of the parent class.\"\"\"\n",
    "        super().__init__(make, model, year)\n",
    "        \n",
    "my_tesla = ElectricCar('tesla', 'model s', 2019)\n",
    "print(my_tesla.get_descriptive_name())\n"
   ]
  },
  {
   "cell_type": "markdown",
   "metadata": {},
   "source": [
    "At line 1, we start with `Car`. When you create a child class, the parent class must be part of the current file and must appear before the child class in the file. At line 33 we define the child class, `ElectricCar`. The name of the parent class must be included in parentheses in the definition of a child class. The `__init__()` method at line 36 takes in the information required to make a `Car` instance.\n",
    "\n",
    "The `super()` function at line 38 is a special function that allows you to call a method from the parent class. This line tells Python to call the `__init__()` method from `Car`, which gives an `ElectricCar` instance all the attributes defined in that method. The name *super* comes from a convention of calling the parent class a *superclass* and the child class a *subclass*.\n",
    "\n",
    "We test whether inheritance is working properly by trying to create an electric car with the same kind of information we'd provide when making a regular car. At line 40, we make an instance of the `ElectricCar` class and assign it to `my_tesla`. This line calls the `__init__()` method defined in `ElectricCar`, which in turn tells Python to call the `__init__()` method defined in the parent class `Car`. We provide the arguments `tesla`, `model s` and `2019`. \n",
    "\n",
    "Aside from `__init__()`, there are no attributes or methods yet that are particular to an electric car. At this point we're just making sure the electric car has the appropriate `Car` behaviors:\n",
    "\n",
    "`2019 Tesla Model S`\n",
    "\n",
    "The `ElectricCar` instances works just like an instnace of `Car`, so now we can being defining attributes and methods specific to electric cars. "
   ]
  },
  {
   "cell_type": "markdown",
   "metadata": {},
   "source": [
    "### Defining Attributes and Methods for the Child Class\n",
    "Once you have a child class that inherits from a parent class, you can add any new attributes and methods necessary to differentiate the child class from the parent class. \n",
    "\n",
    "Let's add an attribute that's specific to electric cars (a battery, for example) and a method to report on this attribute. We'll store the battery size and write a method that prints a description of the battery:"
   ]
  },
  {
   "cell_type": "code",
   "execution_count": 37,
   "metadata": {},
   "outputs": [
    {
     "name": "stdout",
     "output_type": "stream",
     "text": [
      "2019 Tesla Model S\n",
      "This car has a 75-kwh battery.\n"
     ]
    }
   ],
   "source": [
    "class Car: \n",
    "    \"\"\"A simple attempt to represent a car.\"\"\"\n",
    "    \n",
    "    def __init__(self, make, model, year):\n",
    "        \"\"\"Initialize attributes to describe a car.\"\"\"\n",
    "        self.make = make\n",
    "        self.model = model\n",
    "        self.year = year\n",
    "        self.odometer_reading = 0\n",
    "        \n",
    "    def get_descriptive_name(self):\n",
    "        \"\"\"Return a neatly formatted descriptive name.\"\"\"\n",
    "        long_name = f\"{self.year} {self.make} {self.model}\"\n",
    "        return long_name.title()\n",
    "\n",
    "    def read_odometer(self):\n",
    "        \"\"\"Print a statement showing the car's mileage.\"\"\"\n",
    "        print(f\"This car has {self.odometer_reading} miles on it.\")\n",
    "        \n",
    "    def update_odometer(self, mileage):\n",
    "        \"\"\"\n",
    "        Set the odometer reading to the given value.\n",
    "        Reject the change if it attempts to roll the odometer back.\"\"\"\n",
    "        if mileage >= self.odometer_reading:\n",
    "            self.odometer_reading = mileage\n",
    "        else: \n",
    "            print(\"You can't roll back and odometer!\")\n",
    "            \n",
    "    def increment_odometer(self, miles):\n",
    "        \"\"\"Add the given to the odometer reading.\"\"\"\n",
    "        self.odometer_reading += miles\n",
    "        \n",
    "class ElectricCar(Car):\n",
    "    \"\"\"Represent aspects of a car, specific to electric vehicles.\"\"\"\n",
    "    \n",
    "    def __init__(self, make, model, year):\n",
    "        \"\"\"\n",
    "        Initialize attributes of the parent class.\n",
    "        Then initialize attributes specific to an electric car.\n",
    "        \"\"\"\n",
    "        super().__init__(make, model, year)\n",
    "        self.battery_size = 75\n",
    "        \n",
    "    def describe_battery(self):\n",
    "        \"\"\"Print a statement  describing the battery size.\"\"\"\n",
    "        print(f\"This car has a {self.battery_size}-kwh battery.\")\n",
    "    \n",
    "my_tesla = ElectricCar('tesla', 'model s', 2019)\n",
    "print(my_tesla.get_descriptive_name())\n",
    "my_tesla.describe_battery()\n"
   ]
  },
  {
   "cell_type": "markdown",
   "metadata": {},
   "source": [
    "At line 42 we add a new attribute `self.battery_size` and set its initial value to, say 75. This attribute will be associated with all instances created from the `ElectricCar` class but won't be associated with any instances of `Car`. We also add a method called `describe_battery()` that prints information about the battery at line 44. When we call this method, we get a description that is clearly specific to an electric car:\n",
    "\n",
    "`2019 Tesla Model S\n",
    "This car has a 75-kwh battery.`\n",
    "\n",
    "There's no limit to how much you can specialize the `ElectricCar` class. you can add as many attributes and methods as you ned to model an electric car to whatever degree of accuracy you need. An attribute or method that could belong to any car, rather than one that's specific to an electric car, should be added to the `Car` class instead of the `ElectricCar` class. Then anyone who uses the `Car` class will have that functionality available as well, and the `ElectricCar` class will only contain code for the information and behavior specific to electric vehicles. "
   ]
  },
  {
   "cell_type": "markdown",
   "metadata": {},
   "source": [
    "### Overriding Methods from the Parent Class\n",
    "You can override any method from the parent class that doesn't fit what you're trying to model with the child class. To do this, you define a method in the child class with the same name, as the method you want to override in the parent class. Python will disregard the parent class method and only pay attention to the method you define in the child class.\n",
    "\n",
    "Say the class `Car` had a method called `fill_gas_tank()`. This method is meaningless for an all-electric vehicle, so you might want to override this method. Here's one way to do that:"
   ]
  },
  {
   "cell_type": "code",
   "execution_count": 41,
   "metadata": {},
   "outputs": [],
   "source": [
    "class ElectricCar(Car): \n",
    "\n",
    "    def fill_gas_tank(self):\n",
    "        \"\"\"Electric cars don't have gas tanks!\"\"\"\n",
    "        print(\"This car doesn't need a gas tank!\")"
   ]
  },
  {
   "cell_type": "markdown",
   "metadata": {},
   "source": [
    "Now if someone tries to call `fill_gas_tank()` with an electric car, Python will ignore the method `fill_gas_tank()` in `Car` and run this code instead. When you use inheritance, you can make your child classes retain what you need and override anything you don't need from the parent class."
   ]
  },
  {
   "cell_type": "markdown",
   "metadata": {},
   "source": [
    "### Instances as Atrributes\n",
    "When modeling something from the real world in code, you may find that you're adding more and more detail to a class. You'll find that you have a growing list of attributes and methods and that your files are becoming lengthy. In these situations, you might recognize that part of one class can be written as a separate class. You can break your large class into smaller classes that work together. \n",
    "\n",
    "For example, if we continue adding detail to the `ElectricCar` class, we might notice that we're adding many attributes and methods specific to the car's battery. When we see this happening, we can stop and move those attributes and methods to separate class called `Battery`. Then we can use a `Battery` instance as an attribute in the `ElectricCar` class:"
   ]
  },
  {
   "cell_type": "code",
   "execution_count": 44,
   "metadata": {},
   "outputs": [
    {
     "name": "stdout",
     "output_type": "stream",
     "text": [
      "2019 Tesla Model S\n",
      "This car has a 75-kWh battery.\n"
     ]
    }
   ],
   "source": [
    "class Car: \n",
    "    \"\"\"A simple attempt to represent a car.\"\"\"\n",
    "    \n",
    "    def __init__(self, make, model, year):\n",
    "        \"\"\"Initialize attributes to describe a car.\"\"\"\n",
    "        self.make = make\n",
    "        self.model = model\n",
    "        self.year = year\n",
    "        self.odometer_reading = 0\n",
    "        \n",
    "    def get_descriptive_name(self):\n",
    "        \"\"\"Return a neatly formatted descriptive name.\"\"\"\n",
    "        long_name = f\"{self.year} {self.make} {self.model}\"\n",
    "        return long_name.title()\n",
    "\n",
    "    def read_odometer(self):\n",
    "        \"\"\"Print a statement showing the car's mileage.\"\"\"\n",
    "        print(f\"This car has {self.odometer_reading} miles on it.\")\n",
    "        \n",
    "    def update_odometer(self, mileage):\n",
    "        \"\"\"\n",
    "        Set the odometer reading to the given value.\n",
    "        Reject the change if it attempts to roll the odometer back.\"\"\"\n",
    "        if mileage >= self.odometer_reading:\n",
    "            self.odometer_reading = mileage\n",
    "        else: \n",
    "            print(\"You can't roll back and odometer!\")\n",
    "            \n",
    "    def increment_odometer(self, miles):\n",
    "        \"\"\"Add the given to the odometer reading.\"\"\"\n",
    "        self.odometer_reading += miles\n",
    "\n",
    "class Battery:\n",
    "    \"\"\"A simple attempt to model a battery for an electric car.\"\"\"\n",
    "    \n",
    "    def __init__(self, battery_size=75):\n",
    "        \"\"\"Initialize the battery's attributes.\"\"\"\n",
    "        self.battery_size = battery_size\n",
    "    \n",
    "    def describe_battery(self):\n",
    "        \"\"\"Print a statement describing the battery size.\"\"\"\n",
    "        print(f\"This car has a {self.battery_size}-kWh battery.\")\n",
    "        \n",
    "class ElectricCar(Car):\n",
    "    \"\"\"Represent aspects of a car, specific to electric vehicles.\"\"\"\n",
    "    \n",
    "    def __init__(self, make, model, year):\n",
    "        \"\"\"\n",
    "        Initialize attributes of the parent class.\n",
    "        Then initialize attributes specific to an electric car.\n",
    "        \"\"\"\n",
    "        super().__init__(make, model, year)\n",
    "        self.battery = Battery()\n",
    "        \n",
    "    def describe_battery(self):\n",
    "        \"\"\"Print a statement  describing the battery size.\"\"\"\n",
    "        print(f\"This car has a {self.battery_size}-kwh battery.\")\n",
    "    \n",
    "my_tesla = ElectricCar('tesla', 'model s', 2019)\n",
    "print(my_tesla.get_descriptive_name())\n",
    "my_tesla.battery.describe_battery()"
   ]
  },
  {
   "cell_type": "markdown",
   "metadata": {},
   "source": [
    "At line 33, we define a new class called `Battery` that doesn't inherit from any other class. The `__init__()` method at line 36 has one parameter, `battery_size`, in addition to `self`. This is an optional parameter that sets the battery's size to 75 if no value is provided. The method `describe_battery()` has been moved to this class as well (line 40).\n",
    "\n",
    "In the `ElectricCar` class, we now add an attribute called `self.battery` (line 53). This line tells Python to create a new instance of `Battery` (with a default size of 75, because we're not specifying a value) and assign that instance to the attribute `self.battery`. This will happen every time the `__init__()` method is called; any `ElectricCar` instance will now have a `Battery` instance created automatically.\n",
    "\n",
    "We create an electric car and assign it to the variable `my_tesla`. When we want to describe the battery, we need to work through the car's battery attribute:"
   ]
  },
  {
   "cell_type": "code",
   "execution_count": 46,
   "metadata": {},
   "outputs": [
    {
     "name": "stdout",
     "output_type": "stream",
     "text": [
      "This car has a 75-kWh battery.\n"
     ]
    }
   ],
   "source": [
    "my_tesla.battery.describe_battery()"
   ]
  },
  {
   "cell_type": "markdown",
   "metadata": {},
   "source": [
    "This line tells Python to look at the instance `my_tesla`, find its `battery` attribute, and call the method `describe_battery()` that's associtated with the `Battery` instance stored in the attribute. \n",
    "\n",
    "The output is identical to what we saw previously:\n",
    "\n",
    "`2019 Tesla Model S\n",
    "This car has a 75-kWh battery.`"
   ]
  },
  {
   "cell_type": "markdown",
   "metadata": {},
   "source": [
    "This looks like a lot of extra work, but now we can describe the battery in as much detail as we want without cluttering the `ElectricCar` class. Let's add another method to `Battery` that reports the range of the car based on the battery size:"
   ]
  },
  {
   "cell_type": "code",
   "execution_count": 47,
   "metadata": {},
   "outputs": [
    {
     "name": "stdout",
     "output_type": "stream",
     "text": [
      "2019 Tesla Model S\n",
      "This car has a 75-kWh battery.\n",
      "This car can go about 260 miles on a full charge.\n"
     ]
    }
   ],
   "source": [
    "class Car: \n",
    "    \"\"\"A simple attempt to represent a car.\"\"\"\n",
    "    \n",
    "    def __init__(self, make, model, year):\n",
    "        \"\"\"Initialize attributes to describe a car.\"\"\"\n",
    "        self.make = make\n",
    "        self.model = model\n",
    "        self.year = year\n",
    "        self.odometer_reading = 0\n",
    "        \n",
    "    def get_descriptive_name(self):\n",
    "        \"\"\"Return a neatly formatted descriptive name.\"\"\"\n",
    "        long_name = f\"{self.year} {self.make} {self.model}\"\n",
    "        return long_name.title()\n",
    "\n",
    "    def read_odometer(self):\n",
    "        \"\"\"Print a statement showing the car's mileage.\"\"\"\n",
    "        print(f\"This car has {self.odometer_reading} miles on it.\")\n",
    "        \n",
    "    def update_odometer(self, mileage):\n",
    "        \"\"\"\n",
    "        Set the odometer reading to the given value.\n",
    "        Reject the change if it attempts to roll the odometer back.\"\"\"\n",
    "        if mileage >= self.odometer_reading:\n",
    "            self.odometer_reading = mileage\n",
    "        else: \n",
    "            print(\"You can't roll back and odometer!\")\n",
    "            \n",
    "    def increment_odometer(self, miles):\n",
    "        \"\"\"Add the given to the odometer reading.\"\"\"\n",
    "        self.odometer_reading += miles\n",
    "\n",
    "class Battery:\n",
    "    \"\"\"A simple attempt to model a battery for an electric car.\"\"\"\n",
    "    \n",
    "    def __init__(self, battery_size=75):\n",
    "        \"\"\"Initialize the battery's attributes.\"\"\"\n",
    "        self.battery_size = battery_size\n",
    "    \n",
    "    def describe_battery(self):\n",
    "        \"\"\"Print a statement describing the battery size.\"\"\"\n",
    "        print(f\"This car has a {self.battery_size}-kWh battery.\")\n",
    "        \n",
    "    def get_range(self):\n",
    "        \"\"\"Print a statement about the range this battery provides.\"\"\"\n",
    "        if self.battery_size == 75:\n",
    "            range = 260\n",
    "        elif self.battery_size == 100:\n",
    "            range = 315\n",
    "            \n",
    "        print(f\"This car can go about {range} miles on a full charge.\")\n",
    "        \n",
    "class ElectricCar(Car):\n",
    "    \"\"\"Represent aspects of a car, specific to electric vehicles.\"\"\"\n",
    "    \n",
    "    def __init__(self, make, model, year):\n",
    "        \"\"\"\n",
    "        Initialize attributes of the parent class.\n",
    "        Then initialize attributes specific to an electric car.\n",
    "        \"\"\"\n",
    "        super().__init__(make, model, year)\n",
    "        self.battery = Battery()\n",
    "        \n",
    "    def describe_battery(self):\n",
    "        \"\"\"Print a statement  describing the battery size.\"\"\"\n",
    "        print(f\"This car has a {self.battery_size}-kwh battery.\")\n",
    "    \n",
    "my_tesla = ElectricCar('tesla', 'model s', 2019)\n",
    "print(my_tesla.get_descriptive_name())\n",
    "my_tesla.battery.describe_battery()\n",
    "my_tesla.battery.get_range()"
   ]
  },
  {
   "cell_type": "markdown",
   "metadata": {},
   "source": [
    "The new method `get_range()` at line 44 performs some simple analysis. If the battery's capacity is 75 kWh, `get_range()` sets the range to 260 miles, and if the capacity is 100kWh, it sets the range to 315 miles. It then reports this value. When we want to use this method, we again have to call it through the car's `battery` attribute at line 71.\n",
    "\n",
    "The output tells us the range of the car based on its battery size:\n",
    "\n",
    "`2019 Tesla Model S\n",
    "This car has a 75-kWh battery.\n",
    "This car can go about 260 miles on a full charge.`"
   ]
  },
  {
   "cell_type": "markdown",
   "metadata": {},
   "source": [
    "### TRY IT YOURSELF\n",
    "**9-6. Ice Cream Stand:** An ice cream stand is a specific kind of restaurant. Write a class called `IceCreamStand` that inherits from the `Restaurant` class you wrote earlier. Add an attribute called `flavors` that stores a list of ice cream flavors. Write a method that displays these flavors. Create an instance of `IceCreamStand` and call thi method."
   ]
  },
  {
   "cell_type": "code",
   "execution_count": 53,
   "metadata": {},
   "outputs": [
    {
     "name": "stdout",
     "output_type": "stream",
     "text": [
      "We have these flavors: ['vanilla', 'chocolate', 'coconut pineapple'].\n"
     ]
    },
    {
     "ename": "AttributeError",
     "evalue": "'Restaurant' object has no attribute 'list_flavors'",
     "output_type": "error",
     "traceback": [
      "\u001b[1;31m---------------------------------------------------------------------------\u001b[0m",
      "\u001b[1;31mAttributeError\u001b[0m                            Traceback (most recent call last)",
      "\u001b[1;32m<ipython-input-53-8ceae4c01161>\u001b[0m in \u001b[0;36m<module>\u001b[1;34m\u001b[0m\n\u001b[0;32m     33\u001b[0m \u001b[1;33m\u001b[0m\u001b[0m\n\u001b[0;32m     34\u001b[0m \u001b[0mjohnny\u001b[0m \u001b[1;33m=\u001b[0m \u001b[0mRestaurant\u001b[0m\u001b[1;33m(\u001b[0m\u001b[1;34m\"johnnie\"\u001b[0m\u001b[1;33m,\u001b[0m \u001b[1;34m\"chinese\"\u001b[0m\u001b[1;33m)\u001b[0m\u001b[1;33m\u001b[0m\u001b[1;33m\u001b[0m\u001b[0m\n\u001b[1;32m---> 35\u001b[1;33m \u001b[0mjohnny\u001b[0m\u001b[1;33m.\u001b[0m\u001b[0mlist_flavors\u001b[0m\u001b[1;33m\u001b[0m\u001b[1;33m\u001b[0m\u001b[0m\n\u001b[0m",
      "\u001b[1;31mAttributeError\u001b[0m: 'Restaurant' object has no attribute 'list_flavors'"
     ]
    }
   ],
   "source": [
    "class Restaurant:\n",
    "    \"\"\"A simple attempt to model a restaurant.\"\"\"\n",
    "    \n",
    "    def __init__(self, restaurant_name, cuisine_type):\n",
    "        \"\"\"Initialize name and cuisine attributes.\"\"\"\n",
    "        self.restaurant_name = restaurant_name\n",
    "        self.cuisine_type = cuisine_type\n",
    "        self.number_served = 0\n",
    "        \n",
    "    def describe_restaurant(self):\n",
    "        print(f\"The {self.restaurant_name.title()} restaurant specializes in {self.cuisine_type.title()} cuisine.\")\n",
    "    \n",
    "    def open_restaurant(self):\n",
    "        print(f\"The {self.restaurant_name.title()} is open for business.\")\n",
    "        \n",
    "    def set_number_served(self):\n",
    "        print(f\"Now serving {self.number_served} guests!\")\\\n",
    "    \n",
    "    def increment_number_served(self, additional_served):\n",
    "        self.number_served += additional_served\n",
    "\n",
    "class IceCreamStand(Restaurant):\n",
    "    \n",
    "    def __init__(self, restaurant_name, cuisine_type):\n",
    "        super().__init__(restaurant_name, cuisine_type)\n",
    "        self.flavors = ['vanilla', 'chocolate', 'coconut pineapple']\n",
    "    \n",
    "    def list_flavors(self):\n",
    "        print(f\"We have these flavors: {self.flavors}.\")\n",
    "        \n",
    "vinnie = IceCreamStand('vinnie', 'ice cream stand')\n",
    "vinnie.list_flavors()\n",
    "\n",
    "johnny = Restaurant(\"johnnie\", \"chinese\")\n",
    "johnny.list_flavors"
   ]
  },
  {
   "cell_type": "markdown",
   "metadata": {},
   "source": [
    "**9-7. Admin:** An administrator is a special kind of user. Write a class called `Admin` that in herits from the `User` class you wrote in Exercise 9-3. Add an attribute `privileges` that stores a list of strings like 'can add post', 'can delete post', 'can ban user', and so on. Write a method called `show_privileges()` that lists the administrator's set of privileges. Create an instance of `Admin`, and call your method."
   ]
  },
  {
   "cell_type": "code",
   "execution_count": 6,
   "metadata": {},
   "outputs": [
    {
     "name": "stdout",
     "output_type": "stream",
     "text": [
      "You have the following privileges: ['can add post', 'can delete post', 'can ban user']\n"
     ]
    }
   ],
   "source": [
    "class User:\n",
    "    \"\"\"A simple model of a user.\"\"\"\n",
    "    def __init__(self, first_name, last_name, age=\"\", weight=\"\"):\n",
    "        self.first_name = first_name\n",
    "        self.last_name = last_name\n",
    "        self.age = age\n",
    "        self.weight = weight\n",
    "        \n",
    "    def describe_user(self):\n",
    "        if self.age and self.weight:\n",
    "            print(f\"{self.first_name.title()} {self.last_name.title()}, age {self.age} and weight is {self.weight}.\")\n",
    "        elif self.age:\n",
    "            print(f\"{self.first_name.title()} {self.last_name.title()}: age is {self.age}.\")\n",
    "        elif self.weight:\n",
    "            print(f\"{self.first_name.title()} {self.last_name.title()}: weight is {self.weight}.\")\n",
    "        else:\n",
    "            print(f\"{self.first_name.title()} {self.last_name.title()}\")\n",
    "                  \n",
    "    def greet_user(self):\n",
    "        print(f\"Hello {self.first_name} {self.last_name}.\")\n",
    "\n",
    "class Admin(User):\n",
    "    def __init__(self, first_name, last_name, age=\"\", weight=\"\" ):\n",
    "        super().__init__(first_name, last_name, age=\"\", weight=\"\")\n",
    "        self.privileges = ['can add post', 'can delete post', 'can ban user']\n",
    "    \n",
    "    def show_privileges(self):\n",
    "        print(f\"You have the following privileges: {self.privileges}\")\n",
    "        \n",
    "vinnie = Admin('Vinnie', 'Zen')\n",
    "vinnie.show_privileges()"
   ]
  },
  {
   "cell_type": "markdown",
   "metadata": {},
   "source": [
    "**9.8. Privileges:** Write a separate `Privileges` class. The class should have one attribute, `privileges`, that stores a list of strings as described in 9-7. Move the `show_privileges()` method to this class. Make a `Privileges` instnace as an attribut in the `Admin` class. Create a new instance of `Admin` and use your method to show its privileges."
   ]
  },
  {
   "cell_type": "code",
   "execution_count": 8,
   "metadata": {},
   "outputs": [
    {
     "name": "stdout",
     "output_type": "stream",
     "text": [
      "You have the following privileges: ['can add post', 'can delete post', 'can ban user']\n",
      "You have the following privileges: ['can add post', 'can delete post', 'can ban user', 'can reset CPU']\n"
     ]
    }
   ],
   "source": [
    "class User:\n",
    "    \"\"\"A simple model of a user.\"\"\"\n",
    "    def __init__(self, first_name, last_name, age=\"\", weight=\"\"):\n",
    "        self.first_name = first_name\n",
    "        self.last_name = last_name\n",
    "        self.age = age\n",
    "        self.weight = weight\n",
    "        \n",
    "    def describe_user(self):\n",
    "        if self.age and self.weight:\n",
    "            print(f\"{self.first_name.title()} {self.last_name.title()}, age {self.age} and weight is {self.weight}.\")\n",
    "        elif self.age:\n",
    "            print(f\"{self.first_name.title()} {self.last_name.title()}: age is {self.age}.\")\n",
    "        elif self.weight:\n",
    "            print(f\"{self.first_name.title()} {self.last_name.title()}: weight is {self.weight}.\")\n",
    "        else:\n",
    "            print(f\"{self.first_name.title()} {self.last_name.title()}\")\n",
    "                  \n",
    "    def greet_user(self):\n",
    "        print(f\"Hello {self.first_name} {self.last_name}.\")\n",
    "\n",
    "class Admin(User):\n",
    "    def __init__(self, first_name, last_name, age=\"\", weight=\"\" ):\n",
    "        super().__init__(first_name, last_name, age=\"\", weight=\"\")\n",
    "        self.privileges = ['can add post', 'can delete post', 'can ban user']\n",
    "    \n",
    "    def show_privileges(self):\n",
    "        print(f\"You have the following privileges: {self.privileges}\")\n",
    "\n",
    "class Privileges:\n",
    "    def __init__(self):\n",
    "        self.privileges = ['can add post', 'can delete post', 'can ban user', 'can reset CPU']\n",
    "        \n",
    "    def show_privileges(self):\n",
    "        print(f\"You have the following privileges: {self.privileges}\")\n",
    "        \n",
    "        \n",
    "vinnie = Admin('Vinnie', 'Zen')\n",
    "vinnie.show_privileges()\n",
    "\n",
    "priv = Privileges()\n",
    "priv.show_privileges()"
   ]
  },
  {
   "cell_type": "markdown",
   "metadata": {},
   "source": [
    "**9-9. Battery Upgrade:** Use the final version of `electric_car.py` from this section. Add a method to the `Battery` class called `upgrade_battery()`. This method should check the battery size and set the capacity to 100 if it isn't already. Make an electreic car with a default battery size, call `get_range()` a second time after upgrading the battery. You should see an increase in the car's range."
   ]
  },
  {
   "cell_type": "code",
   "execution_count": 13,
   "metadata": {},
   "outputs": [
    {
     "name": "stdout",
     "output_type": "stream",
     "text": [
      "2019 Tesla Model S\n",
      "This car has a 75-kWh battery.\n",
      "This car can go about 260 miles on a full charge.\n",
      "This car has a 100-kWh battery.\n"
     ]
    }
   ],
   "source": [
    "class Car: \n",
    "    \"\"\"A simple attempt to represent a car.\"\"\"\n",
    "    \n",
    "    def __init__(self, make, model, year):\n",
    "        \"\"\"Initialize attributes to describe a car.\"\"\"\n",
    "        self.make = make\n",
    "        self.model = model\n",
    "        self.year = year\n",
    "        self.odometer_reading = 0\n",
    "        \n",
    "    def get_descriptive_name(self):\n",
    "        \"\"\"Return a neatly formatted descriptive name.\"\"\"\n",
    "        long_name = f\"{self.year} {self.make} {self.model}\"\n",
    "        return long_name.title()\n",
    "\n",
    "    def read_odometer(self):\n",
    "        \"\"\"Print a statement showing the car's mileage.\"\"\"\n",
    "        print(f\"This car has {self.odometer_reading} miles on it.\")\n",
    "        \n",
    "    def update_odometer(self, mileage):\n",
    "        \"\"\"\n",
    "        Set the odometer reading to the given value.\n",
    "        Reject the change if it attempts to roll the odometer back.\"\"\"\n",
    "        if mileage >= self.odometer_reading:\n",
    "            self.odometer_reading = mileage\n",
    "        else: \n",
    "            print(\"You can't roll back and odometer!\")\n",
    "            \n",
    "    def increment_odometer(self, miles):\n",
    "        \"\"\"Add the given to the odometer reading.\"\"\"\n",
    "        self.odometer_reading += miles\n",
    "\n",
    "class Battery:\n",
    "    \"\"\"A simple attempt to model a battery for an electric car.\"\"\"\n",
    "    \n",
    "    def __init__(self, battery_size=75):\n",
    "        \"\"\"Initialize the battery's attributes.\"\"\"\n",
    "        self.battery_size = battery_size\n",
    "    \n",
    "    def describe_battery(self):\n",
    "        \"\"\"Print a statement describing the battery size.\"\"\"\n",
    "        print(f\"This car has a {self.battery_size}-kWh battery.\")\n",
    "        \n",
    "    def get_range(self):\n",
    "        \"\"\"Print a statement about the range this battery provides.\"\"\"\n",
    "        if self.battery_size == 75:\n",
    "            range = 260\n",
    "        elif self.battery_size == 100:\n",
    "            range = 315\n",
    "        print(f\"This car can go about {range} miles on a full charge.\")\n",
    "    \n",
    "    def upgrade_battery(self):\n",
    "        if self.battery_size != 100:\n",
    "            self.battery_size = 100\n",
    "        \n",
    "class ElectricCar(Car):\n",
    "    \"\"\"Represent aspects of a car, specific to electric vehicles.\"\"\"\n",
    "    \n",
    "    def __init__(self, make, model, year):\n",
    "        \"\"\"\n",
    "        Initialize attributes of the parent class.\n",
    "        Then initialize attributes specific to an electric car.\n",
    "        \"\"\"\n",
    "        super().__init__(make, model, year)\n",
    "        self.battery = Battery()\n",
    "        \n",
    "    def describe_battery(self):\n",
    "        \"\"\"Print a statement  describing the battery size.\"\"\"\n",
    "        print(f\"This car has a {self.battery_size}-kwh battery.\")\n",
    "    \n",
    "my_tesla = ElectricCar('tesla', 'model s', 2019)\n",
    "print(my_tesla.get_descriptive_name())\n",
    "my_tesla.battery.describe_battery()\n",
    "my_tesla.battery.get_range()\n",
    "my_tesla.battery.upgrade_battery()\n",
    "my_tesla.battery.describe_battery()"
   ]
  },
  {
   "cell_type": "markdown",
   "metadata": {},
   "source": [
    "## Importing Classes\n",
    "As you add more functionality to your classess, your files can get long, even when you use inheritance properly. In keeping with the overall philosophy of Python, you'll want to keep your files as uncluttered as possible. To help, Python lets you store classes in modules and then import the classes you need into your main program.\n",
    "\n",
    "### Importing a Single Class\n",
    "Let's create a module containing just the `Car` calss. This brings up a subtle naming issue: we've already have a file named `car.py` in this chapter, but this module should be named `car.py` because it contains code representing a car. We'll resolve this naming issue by storing the `Car` class in a module named `car.py` replacing the `car.py` file we were previously using. From now on, any program that uses this module will need a more specific filename, such as `my_car.py`. Here's `car.py` with just the code from the class `Car`:"
   ]
  },
  {
   "cell_type": "code",
   "execution_count": 14,
   "metadata": {},
   "outputs": [],
   "source": [
    "\"\"\"A class that can be used to represent a car.\"\"\"\n",
    "\n",
    "class Car:\n",
    "\t\"\"\"A simple attempt to represent a car\"\"\"\n",
    "\n",
    "\tdef __init__(self, make, model, year):\n",
    "\t\t\"\"\"Initialize attributes to describe a car\"\"\"\n",
    "\t\tself.make = make\n",
    "\t\tself.model = model\n",
    "\t\tself.year = year\n",
    "\t\tself.odometer_reading = 0\n",
    "\n",
    "\tdef get_descriptive_name(self):\n",
    "\t\t\"\"\"Return a nearly formatted descriptive name.\"\"\"\n",
    "\t\tlong_name = f\"{self.year} {self.make} {self.model}\"\n",
    "\t\treturn long_name\n",
    "\n",
    "\tdef read_odometer(self):\n",
    "\t\t\"\"\"Print a statement showing the car's mileage.\"\"\"\n",
    "\t\tprint(f\"This car has {self.odometer_reading} miles on it.\")\n",
    "\n",
    "\tdef update_odometer(self, mileage):\n",
    "\t\t\"\"\"\n",
    "\t\tSet the odometer reading to the given value.\n",
    "\t\tReject the change if it attempts to roll the odometer back.\n",
    "\t\t\"\"\"\n",
    "\n",
    "\t\tif mileage >= self.odometer_reading:\n",
    "\t\t\tself.odometer_reading = mileage\n",
    "\t\telse:\n",
    "\t\t\tprint(\"You can't roll back an odometer!\")\n",
    "\n",
    "\tdef increment_odometer(self, miles):\n",
    "\t\t\"\"\"Add the given amount to odometer reading.\"\"\"\n",
    "\t\tself.odometer_reading += miles"
   ]
  },
  {
   "cell_type": "markdown",
   "metadata": {},
   "source": [
    "At line 1, we include a module-level docstring that briefly describe the contents of this module. You should write a docstring for each module you create.\n",
    "\n",
    "Now we make a separate file called `my_car.py`. This file will import the `Car` class and the create an instance from that class:"
   ]
  },
  {
   "cell_type": "code",
   "execution_count": 15,
   "metadata": {},
   "outputs": [
    {
     "name": "stdout",
     "output_type": "stream",
     "text": [
      "2019 audi a4\n",
      "This car has 23 miles on it.\n"
     ]
    }
   ],
   "source": [
    "from car import Car\n",
    "\n",
    "my_new_car = Car('audi', 'a4', 2019)\n",
    "print(my_new_car.get_descriptive_name())\n",
    "\n",
    "my_new_car.odometer_reading = 23\n",
    "my_new_car.read_odometer()"
   ]
  },
  {
   "cell_type": "markdown",
   "metadata": {},
   "source": [
    "The `import` statement at line 1 tells Python to open the `car` module and import the class `Car`. Now we can use the `Car` class as if ti were defined in this file. The output is the same as we saw earlier:\n",
    "\n",
    "`2019 audi a4\n",
    "This car has 23 miles on it.`\n",
    "\n",
    "Importing classes is an effective way to program. Picture how long this program file would be if the entire `Car` class were included. When you instead move the class to a module and import the module, you still get all the same functionality, but you keep your main program file clean and easy to read. You also store most of the logic in separate files; once your classes work as you want them to, you can leave those files alone and focus on the higher-level logic of your main program.\n",
    "\n",
    "### Storing Multiple Classes in a Module\n",
    "You can store as many classes as you need in a single module, although each class in am odule should be related somehow. The classes `Battery` and `ElectricCar` both help represent cars, so let's add them to the module *car.py*. \n",
    "\n",
    "Now we can make a new file called *my_electric_car.py*, import the `ElectricCar` class, and make an electric car"
   ]
  },
  {
   "cell_type": "code",
   "execution_count": 1,
   "metadata": {},
   "outputs": [
    {
     "name": "stdout",
     "output_type": "stream",
     "text": [
      "2019 Tesla Model S\n",
      "This car has a 75-kWh battery.\n",
      "This car can go about 260 miles on a full charge.\n"
     ]
    }
   ],
   "source": [
    "from car import ElectricCar\n",
    "\n",
    "my_tesla = ElectricCar('tesla', 'model s', 2019)\n",
    "\n",
    "print(my_tesla.get_descriptive_name())\n",
    "my_tesla.battery.describe_battery()\n",
    "my_tesla.battery.get_range()"
   ]
  },
  {
   "cell_type": "markdown",
   "metadata": {},
   "source": [
    "### Importing Multiple Classes from a Module\n",
    "You can import as many classes as you need into a program file. If we want to make a regular car and an electric car in the same file, we need to import both classes, `Car` and `ElectricCar`:"
   ]
  },
  {
   "cell_type": "code",
   "execution_count": 2,
   "metadata": {},
   "outputs": [
    {
     "name": "stdout",
     "output_type": "stream",
     "text": [
      "2019 Volkswagen Beetle\n",
      "2019 Tesla Roadster\n"
     ]
    }
   ],
   "source": [
    "from car import Car, ElectricCar\n",
    "\n",
    "my_beetle = Car('Volkswagen', 'beetle', 2019)\n",
    "print(my_beetle.get_descriptive_name())\n",
    "\n",
    "my_tesla = ElectricCar('tesla', 'roadster', 2019)\n",
    "print(my_tesla.get_descriptive_name())"
   ]
  },
  {
   "cell_type": "markdown",
   "metadata": {},
   "source": [
    "You import muliple classes from a module by separating each class with a comma at line 1. Once you've imported the necessary classes, you're free to make as many instances of each class as you need.\n",
    "\n",
    "In this example we make a regular Volkswagen Beettle at line 3 and an electric Tesla Roadster at line 6:\n",
    "\n",
    "`2019 Volkswagen Beetle\n",
    "2019 Tesla Roadster`"
   ]
  },
  {
   "cell_type": "markdown",
   "metadata": {},
   "source": [
    "### Importing an Entire Module\n",
    "You can also import an entire module and then access the classes you need using dot notation. This approach is simple and results in code that is easy to read. Because every call that creates an instance of a class includes the module nem you won't have naming conflicts with any names used in the current file.\n",
    "Here's what it looks like to import the entire car module and the create a regular car and an electric car:"
   ]
  },
  {
   "cell_type": "code",
   "execution_count": 3,
   "metadata": {},
   "outputs": [
    {
     "name": "stdout",
     "output_type": "stream",
     "text": [
      "2019 Volkswagen Beetle\n",
      "2019 Tesla Roadster\n"
     ]
    }
   ],
   "source": [
    "import car\n",
    "\n",
    "my_beetle = car.Car('volkswagen', 'beetle', 2019)\n",
    "print(my_beetle.get_descriptive_name())\n",
    "\n",
    "my_telsa = car.ElectricCar('tesla', 'roadster', 2019)\n",
    "print(my_tesla.get_descriptive_name())"
   ]
  },
  {
   "cell_type": "markdown",
   "metadata": {},
   "source": [
    "At line 1, we import the entire `car` module. We then access the classes we need through the `module_name.ClassName` syntax. At line 3 we again create a Volkswagen Beetle, and at line 6 we create a Tesla Roadster."
   ]
  },
  {
   "cell_type": "markdown",
   "metadata": {},
   "source": [
    "### Importing All Classes from a Module\n",
    "You can import all classes from a module using the following syntax:\n",
    "\n",
    "`from module_name import *`\n",
    "\n",
    "This method *is not recommended* for two reasons. First, it's helpful to be able to read the `import` statements at the top of a file and get a clear sense of which classes a program uses. With this approach it's unclear which classes you're suing from the module. This approach can also lead to confusion with names in the file. If you acciendentally import a class with the same name as something else in your program file, you can create errors that are hard to diagnose. I show this here because even though it's not a recommended approach, you're likely to see it in other people's code at some point.\n",
    "\n",
    "If you need to import many classes from a module, you're better off importing the entire module and using the `module_name.ClassName` syntax. You won't see all the classes used at the top of the file, but you'll see clearly where the module is used in the program. You'll also avoid the potential naming conflicts that can arise when you import every class in a module."
   ]
  },
  {
   "cell_type": "markdown",
   "metadata": {},
   "source": [
    "### Importing a Module into a Module\n",
    "Sometimes you'll want to spread out your classes over several modules to keep anyone from growing too large and avoid storing unrealted classes in the same module. When you store your classes in several modules, you may find that a class in one module depends on a class in another module. When this happens, you can import the required class into the first module. \n",
    "\n",
    "For example, let's store the `Car` class in one module and the `ElectricCar` and `Battery` classes in a separate module. We'll make a new module called *electric_car.py*--replacing *electric_car.py* file we created earlier--and copy just the `Battery` and `ElectricCar` classes into this file:"
   ]
  },
  {
   "cell_type": "code",
   "execution_count": 4,
   "metadata": {},
   "outputs": [
    {
     "ename": "IndentationError",
     "evalue": "expected an indented block (<ipython-input-4-a73c30c5a707>, line 9)",
     "output_type": "error",
     "traceback": [
      "\u001b[1;36m  File \u001b[1;32m\"<ipython-input-4-a73c30c5a707>\"\u001b[1;36m, line \u001b[1;32m9\u001b[0m\n\u001b[1;33m    class ElectricCar(Car):\u001b[0m\n\u001b[1;37m        ^\u001b[0m\n\u001b[1;31mIndentationError\u001b[0m\u001b[1;31m:\u001b[0m expected an indented block\n"
     ]
    }
   ],
   "source": [
    "#electric_car. py\n",
    "\n",
    "\"\"\"A set of classes that can be used to represent electric cars.\"\"\"\n",
    "\n",
    "from car import Car\n",
    "\n",
    "class Battery:\n",
    "    #--snip--\n",
    "\n",
    "class ElectricCar(Car):\n",
    "    #--snip--"
   ]
  },
  {
   "cell_type": "markdown",
   "metadata": {},
   "source": [
    "The class `ElectricCar` needs access to its parent class `Car`, so we import `Car` directly into the module at line 5. If  we forget this line, Python will raise an error when we try to import the `electric_car` module. We also need to update the `Car` module so it contains only the `Car` class:"
   ]
  },
  {
   "cell_type": "code",
   "execution_count": 5,
   "metadata": {},
   "outputs": [
    {
     "ename": "SyntaxError",
     "evalue": "invalid syntax (<ipython-input-5-627d722f83a2>, line 6)",
     "output_type": "error",
     "traceback": [
      "\u001b[1;36m  File \u001b[1;32m\"<ipython-input-5-627d722f83a2>\"\u001b[1;36m, line \u001b[1;32m6\u001b[0m\n\u001b[1;33m    --snip--\u001b[0m\n\u001b[1;37m            ^\u001b[0m\n\u001b[1;31mSyntaxError\u001b[0m\u001b[1;31m:\u001b[0m invalid syntax\n"
     ]
    }
   ],
   "source": [
    "#car.py\n",
    "\n",
    "\"\"\"A class that can be used to represent a car.\"\"\"\n",
    "\n",
    "class Car:\n",
    "    --snip--"
   ]
  },
  {
   "cell_type": "markdown",
   "metadata": {},
   "source": [
    "Now we can import from each module separately and create whatever kind of car we need:"
   ]
  },
  {
   "cell_type": "code",
   "execution_count": 6,
   "metadata": {},
   "outputs": [
    {
     "name": "stdout",
     "output_type": "stream",
     "text": [
      "2019 Volkswagen Beetle\n",
      "2019 Tesla Roadster\n"
     ]
    }
   ],
   "source": [
    "#my_cars.py\n",
    "\n",
    "from car import Car\n",
    "from electric_car import ElectricCar\n",
    "\n",
    "my_beetle = Car('Volkswagen', 'beetle', 2019)\n",
    "print(my_beetle.get_descriptive_name())\n",
    "\n",
    "my_tesla = ElectricCar('tesla', 'roadster', 2019)\n",
    "print(my_tesla.get_descriptive_name())"
   ]
  },
  {
   "cell_type": "markdown",
   "metadata": {},
   "source": [
    "At line 3 we import `Car` from its module, and `ElectricCar` from its module. We then create one regular car and one electric car. Both kinds of cars are created correctly:\n",
    "\n",
    "`2019 Volkswagen Beetle\n",
    "2019 Tesla Roadster`"
   ]
  },
  {
   "cell_type": "markdown",
   "metadata": {},
   "source": [
    "### Using Aliases\n",
    "As you saw in Chapter 8, aliases can be quite helpful when using modules to organize your project's code. You can use aliases when importing classes as well. \n",
    "\n",
    "As an example, consider a program where you want to make a bunch of electric cars. It might get tedious to type (and read) `ElectricCar` over and over again. You can give `ElectricCar` an alias in the import statement:\n",
    "\n",
    "`from electric_car import ElectricCar as EC`\n",
    "\n",
    "No you can use this alias whenver you want to make an electric car:\n",
    "\n",
    "`my_telsa = EC('tesla', 'roadster', 2019)`"
   ]
  },
  {
   "cell_type": "markdown",
   "metadata": {},
   "source": [
    "### Finding Your Own Workflow\n",
    "As you can see, Python gives you many options for how to structure code in a large project. It's important to know all these possiblities so you can determine the best ways to organize your projects as well as understand other people's projects.\n",
    "\n",
    "When you're starting out, keep your code structure simple. Try doing everytying in one file and moving your classes to seaprate modules once everytying is working. If you like how modules and files interact, try storing your classes in modules when you start a project. Find an approach that lets you write code that works, and go from there."
   ]
  },
  {
   "cell_type": "markdown",
   "metadata": {},
   "source": [
    "### TRY IT YOURSELF\n",
    "**9-10. Imported Restaurant:** Using your latest `Restaurant` class, store it in module. Make a separate file that imports `Restaurant`. Make a `Restaurant` instance and call one of `Restaurant`'s methods to show tha tthe import statement is working properly."
   ]
  },
  {
   "cell_type": "code",
   "execution_count": 7,
   "metadata": {},
   "outputs": [
    {
     "name": "stdout",
     "output_type": "stream",
     "text": [
      "The Vinnie restaurant specializes in Asian cuisine.\n"
     ]
    }
   ],
   "source": [
    "import restaurant\n",
    "\n",
    "my_restaurant = restaurant.Restaurant('vinnie', 'asian')\n",
    "my_restaurant.describe_restaurant()"
   ]
  },
  {
   "cell_type": "markdown",
   "metadata": {},
   "source": [
    "**9-11. Imported Admin:** Start with your work from Exercise 9-8. Store the classes `User`, `Privileges` and `Admin` in one module. Create a separate file, make an `Admin` instance, and call `show_privileges()` to show that everything is working correctly."
   ]
  },
  {
   "cell_type": "code",
   "execution_count": 9,
   "metadata": {},
   "outputs": [
    {
     "name": "stdout",
     "output_type": "stream",
     "text": [
      "You have the following privileges: ['can add post', 'can delete post', 'can ban user']\n"
     ]
    }
   ],
   "source": [
    "import user_admin_privileges\n",
    "\n",
    "vinnie = user_admin_privileges.Admin('vinnie', 'zen')\n",
    "vinnie.show_privileges()"
   ]
  },
  {
   "cell_type": "markdown",
   "metadata": {},
   "source": [
    "**9-12. Multilple Modules:** Store the `User` class in one module, and store the `Privileges` and `Admin` classes in a separate module. In a separate file, create an `Admin` instance and call `show_privileges()` to show that everything is still working correctly."
   ]
  },
  {
   "cell_type": "code",
   "execution_count": 14,
   "metadata": {},
   "outputs": [
    {
     "name": "stdout",
     "output_type": "stream",
     "text": [
      "You have the following privileges: ['can add post', 'can delete post', 'can ban user']\n"
     ]
    }
   ],
   "source": [
    "import user\n",
    "import privileges_admin \n",
    "\n",
    "vinnie = privileges_admin.Admin('vinnie', 'zen')\n",
    "vinnie.show_privileges()"
   ]
  },
  {
   "cell_type": "markdown",
   "metadata": {},
   "source": [
    "### The Python Standard Library\n",
    "The *Python standard library* is a set of modules included with every Python installation. Now that you have a basic understanding of how functions and classess work, you can start to use modules like these that other programmers have written. YOu can use any function or class in the standard library by including a simple `import` statement at the top of your file. Let's look at one module, `random`, which can be useful in modeling many real-world situations.\n",
    "\n",
    "One interesting function from the random module is `randint()`. This function takes two integer arguments and returns a randomly selected integer between (and including) those numbers.\n",
    "\n",
    "Here's how to generate a random number between 1 and 6:"
   ]
  },
  {
   "cell_type": "code",
   "execution_count": 15,
   "metadata": {},
   "outputs": [
    {
     "data": {
      "text/plain": [
       "5"
      ]
     },
     "execution_count": 15,
     "metadata": {},
     "output_type": "execute_result"
    }
   ],
   "source": [
    "from random import randint\n",
    "randint(1, 6)"
   ]
  },
  {
   "cell_type": "markdown",
   "metadata": {},
   "source": [
    "Another useful function is `choice()`. This function takes in a lsit or tuple and returns a randomly \n",
    "chosen element:"
   ]
  },
  {
   "cell_type": "code",
   "execution_count": 1,
   "metadata": {},
   "outputs": [
    {
     "data": {
      "text/plain": [
       "'eli'"
      ]
     },
     "execution_count": 1,
     "metadata": {},
     "output_type": "execute_result"
    }
   ],
   "source": [
    "from random import choice\n",
    "players = ['charles', 'martina', 'michael', 'florence', 'eli']\n",
    "first_up = choice(players)\n",
    "first_up"
   ]
  },
  {
   "cell_type": "markdown",
   "metadata": {},
   "source": [
    "The `random` module shouldn't be used when building security-related applications, but it's good enough for many fun and interesting projects.\n",
    "\n",
    "**NOTE:** You can also download modules from external sources. You'll see a number of these exmaples in Part II, where we'll need external modules to complete each project."
   ]
  },
  {
   "cell_type": "markdown",
   "metadata": {},
   "source": [
    "### TRY IT YOURSELF\n",
    "**9-13. Dice:** Make a class `Die` with one attribute called `sides`, which has a default value of 6. Write a method called `roll_die()` that prints a random number between 1 and the number of sides the die has. Make a 6-sided die and roll it 10 times.\n",
    "\n",
    "Make a 10-sided die and a 20-sided die. Roll each die ten times."
   ]
  },
  {
   "cell_type": "code",
   "execution_count": 40,
   "metadata": {},
   "outputs": [
    {
     "name": "stdout",
     "output_type": "stream",
     "text": [
      "\n",
      " Rolling 6-sided die ten times:\n",
      "3\n",
      "3\n",
      "5\n",
      "4\n",
      "2\n",
      "1\n",
      "6\n",
      "3\n",
      "4\n",
      "6\n",
      "\n",
      " Rolling 10-sided die ten times:\n",
      "10\n",
      "8\n",
      "6\n",
      "8\n",
      "7\n",
      "7\n",
      "5\n",
      "5\n",
      "8\n",
      "4\n",
      "\n",
      " Rolling 20-sided die ten times:\n",
      "10\n",
      "8\n",
      "12\n",
      "18\n",
      "15\n",
      "4\n",
      "4\n",
      "1\n",
      "13\n",
      "4\n"
     ]
    }
   ],
   "source": [
    "from random import randint\n",
    "\n",
    "class Die:\n",
    "    \"\"\"An attempt to create a virtual die.\"\"\"\n",
    "    def __init__(self, sides):\n",
    "        self.sides = sides\n",
    "    \n",
    "    def roll_die(self):\n",
    "        \"\"\"Roll a die for a random number once.\"\"\"\n",
    "        number = randint(1, self.sides)\n",
    "        print(number)\n",
    "        \n",
    "    def roll_die_ten(self):\n",
    "        \"\"\"Roll a die ten times.\"\"\"\n",
    "        print(f\"\\n Rolling {self.sides}-sided die ten times:\")\n",
    "        for i in range(0, 10):\n",
    "            self.roll_die()\n",
    "            \n",
    "six_die = Die(6)\n",
    "six_die.roll_die_ten()\n",
    "\n",
    "ten_die = Die(10)\n",
    "ten_die.roll_die_ten()\n",
    "\n",
    "twenty_die = Die(20)\n",
    "twenty_die.roll_die_ten()"
   ]
  },
  {
   "cell_type": "markdown",
   "metadata": {},
   "source": [
    "**9-14. Lottery:** Make a list or tuple containing a series of 10 numbers and five letters. Randomly select four numbers or letters from the list and print a message saying that any ticket matching these four numbers or letters wins a prize."
   ]
  },
  {
   "cell_type": "code",
   "execution_count": 58,
   "metadata": {},
   "outputs": [
    {
     "name": "stdout",
     "output_type": "stream",
     "text": [
      "Your numbers are: ['z', 'o', 's', 'g', 'n', 40, 86, 50, 88, 69, 4, 77, 99, 20, 45].\n",
      "We pulled a 45!\n",
      "We pulled a 20!\n",
      "We pulled a 99!\n",
      "We pulled a 77!\n",
      "Any ticket matching these four numbers or letters wins a prize: [45, 20, 99, 77].\n"
     ]
    }
   ],
   "source": [
    "from random import randint\n",
    "import string\n",
    "\n",
    "# to make a list of numbers randomly.\n",
    "original_list = []\n",
    "\n",
    "for i in range(0, 5):\n",
    "    original_list.append(choice(string.ascii_letters).lower())\n",
    "\n",
    "for i in range(0, 10):\n",
    "    original_list.append(randint(0, 100))\n",
    "\n",
    "print(f\"Your numbers are: {original_list}.\")\n",
    "\n",
    "# to create a list that randomly selects 4 number or letters from the orignal list.\n",
    "winning_list = []\n",
    "\n",
    "for i in range(0, 4):\n",
    "    winning_number = original_list.pop() \n",
    "    winning_list.append(winning_number)\n",
    "    print(f\"We pulled a {winning_number}!\")\n",
    "print(f\"Any ticket matching these four numbers or letters wins a prize: {winning_list}.\")"
   ]
  },
  {
   "cell_type": "code",
   "execution_count": 57,
   "metadata": {},
   "outputs": [
    {
     "name": "stdout",
     "output_type": "stream",
     "text": [
      "Let's see what the winning ticket is...\n",
      "  We pulled a 8!\n",
      "  We pulled a d!\n",
      "  We pulled a b!\n",
      "  We pulled a c!\n"
     ]
    }
   ],
   "source": [
    "# learned from ehmatthes.githubio\n",
    "\n",
    "from random import choice\n",
    "\n",
    "possibilities = [1, 2, 3, 4, 5, 6, 7, 8, 9, 10, 'a', 'b', 'c', 'd', 'e']\n",
    "\n",
    "winning_ticket = []\n",
    "print(\"Let's see what the winning ticket is...\")\n",
    "\n",
    "# We don't want to repeat winning numbers or letters, so we'll use a\n",
    "#   while loop.\n",
    "while len(winning_ticket) < 4:\n",
    "    pulled_item = choice(possibilities)\n",
    "\n",
    "    # Only add the pulled item to the winning ticket if it hasn't\n",
    "    #   already been pulled.\n",
    "    if pulled_item not in winning_ticket:\n",
    "        print(f\"  We pulled a {pulled_item}!\")\n",
    "        winning_ticket.append(pulled_item)"
   ]
  },
  {
   "cell_type": "markdown",
   "metadata": {},
   "source": [
    "**9-15. Lottery Analysis:** You can use a loop to see how hard it might be to win the kind of lottery you must modeled. Make a list of tuple called `my_ticket`. Write a loop that keeps pulling numbers until your ticket wins. Print a message reporting how many times the loop had to run to give you a winning ticket."
   ]
  },
  {
   "cell_type": "code",
   "execution_count": 1,
   "metadata": {},
   "outputs": [
    {
     "name": "stdout",
     "output_type": "stream",
     "text": [
      "We have a winning ticket!\n",
      "Your ticket: [7, 2, 'e', 1]\n",
      "Winning ticket: [7, 'e', 1, 2]\n",
      "It only took 96 tries to win!\n"
     ]
    }
   ],
   "source": [
    "# this one stumped me.\n",
    "\n",
    "from random import choice\n",
    "\n",
    "def get_winning_ticket(possibilities):\n",
    "    \"\"\"Return a winning ticket from a set of possibilities.\"\"\"\n",
    "    winning_ticket = []\n",
    "\n",
    "    # We don't want to repeat winning numbers or letters, so we'll use a\n",
    "    #   while loop.\n",
    "    while len(winning_ticket) < 4:\n",
    "        pulled_item = choice(possibilities)\n",
    "\n",
    "        # Only add the pulled item to the winning ticket if it hasn't\n",
    "        #   already been pulled.\n",
    "        if pulled_item not in winning_ticket:\n",
    "            winning_ticket.append(pulled_item)\n",
    "\n",
    "    return winning_ticket\n",
    "\n",
    "def check_ticket(played_ticket, winning_ticket):\n",
    "    # Check all elements in the played ticket. If any are not in the \n",
    "    #   winning ticket, return False.\n",
    "    for element in played_ticket:\n",
    "        if element not in winning_ticket:\n",
    "            return False\n",
    "\n",
    "    # We must have a winning ticket!\n",
    "    return True\n",
    "\n",
    "def make_random_ticket(possibilities):\n",
    "    \"\"\"Return a random ticket from a set of possibilities.\"\"\"\n",
    "    ticket = []\n",
    "    # We don't want to repeat numbers or letters, so we'll use a while loop.\n",
    "    while len(ticket) < 4:\n",
    "        pulled_item = choice(possibilities)\n",
    "\n",
    "        # Only add the pulled item to the ticket if it hasn't already\n",
    "        #   been pulled.\n",
    "        if pulled_item not in ticket:\n",
    "            ticket.append(pulled_item)\n",
    "\n",
    "    return ticket\n",
    "\n",
    "\n",
    "possibilities = [1, 2, 3, 4, 5, 6, 7, 8, 9, 10, 'a', 'b', 'c', 'd', 'e']\n",
    "winning_ticket = get_winning_ticket(possibilities)\n",
    "\n",
    "plays = 0\n",
    "won = False\n",
    "\n",
    "# Let's set a max number of tries, in case this takes forever!\n",
    "max_tries = 1_000_000\n",
    "\n",
    "while not won:\n",
    "    new_ticket = make_random_ticket(possibilities)\n",
    "    won = check_ticket(new_ticket, winning_ticket)\n",
    "    plays += 1\n",
    "    if plays >= max_tries:\n",
    "        break\n",
    "\n",
    "if won:\n",
    "    print(\"We have a winning ticket!\")\n",
    "    print(f\"Your ticket: {new_ticket}\")\n",
    "    print(f\"Winning ticket: {winning_ticket}\")\n",
    "    print(f\"It only took {plays} tries to win!\")\n",
    "else:\n",
    "    print(f\"Tried {plays} times, without pulling a winner. :(\")\n",
    "    print(f\"Your ticket: {new_ticket}\")\n",
    "    print(f\"Winning ticket: {winning_ticket}\")"
   ]
  },
  {
   "cell_type": "markdown",
   "metadata": {},
   "source": [
    "## Styling Classes\n",
    "A few styling issues related to classes are worth clarifying, especially as your programs become more complicated.\n",
    "\n",
    "Class names should be written in *CamelCase*. To do this, capitalize the first letter of each word in the name, and don't use underscore. Instance and module names should be written in lowercase with underscores between words. \n",
    "\n",
    "Every class should have a **docstring** immediately following the class definition. The docstring should be a brief description  of what the class does, and you should follow the same formatting conventions you used for writing docstrings in functions. Each module should also have a doctring describing what the classes in a module can be used for.\n",
    "\n",
    "You can use blank lines to organize code, but don't use them excessively. Within a class, you can use one blank line between methods, and with a module you can use two blank lines to separate class. \n",
    "\n",
    "If you need to import a module from the standard library and a module that you wrote, place the import statement for the standard library module first. Then add a blank line and the import statement for the module you wrote. In programs with multiple import statements, this convention makes it easier to see where the different modules used in the program comes from."
   ]
  },
  {
   "cell_type": "markdown",
   "metadata": {},
   "source": [
    "## Summary\n",
    "In this chapter you learned how to write your own classes. You learned how to store information in a class using attributes and how to write methods that give your classes the behavior they need. You learned to write `__init__()` methods that create instances from your classes with exactly the attributes you want. YOu saw how to modify the attributes of an instance directly and through methods. You learned that inheritance can simplify the creation of classes that are related to each other, and you learned to use instances of one class as attributes in another class to keep each class simple.\n",
    "\n",
    "You saw how storing classes in modules and importing classes you need into the files where they'll be used can keep your project organized.you started learning about the Python standarad library, and you saw an example based on the `random` module. Finally, you learned to style your classes using Python conventions.\n",
    "\n",
    "In Chapter 10, you'll learn to work with files so you can save teh work you've done in a program and the work you've allowed users to do. You'll also learn about *exceptions*, a special Python class designed to help you respond to erros when they arise.\n"
   ]
  }
 ],
 "metadata": {
  "kernelspec": {
   "display_name": "Python 3",
   "language": "python",
   "name": "python3"
  },
  "language_info": {
   "codemirror_mode": {
    "name": "ipython",
    "version": 3
   },
   "file_extension": ".py",
   "mimetype": "text/x-python",
   "name": "python",
   "nbconvert_exporter": "python",
   "pygments_lexer": "ipython3",
   "version": "3.7.1"
  }
 },
 "nbformat": 4,
 "nbformat_minor": 4
}
