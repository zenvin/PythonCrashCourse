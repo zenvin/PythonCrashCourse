{
 "cells": [
  {
   "cell_type": "markdown",
   "metadata": {},
   "source": [
    "In this chapter you'll learn to write *functions*, which are named blocks of code that are designed to do one specific job. When you want to perfom a particular task tha tyou've defined in a function, you *call* the function responsible for it. If you need to perform that task multiple times throughout your program, you don't need to type all the code for the same task again and again; you just call the code inside the function. You'll find that using functions makes your programs easier to write, read, test and fix.\n",
    "\n",
    "In this chapter you will also learn ways to pass information into functions. You'll learn how to write certain functions whose primary job is to display information and other functions designed to process data and return a value or set of values. Finally, you'll learn to store functions in separate files called *modules* to help organize your main program files."
   ]
  },
  {
   "cell_type": "markdown",
   "metadata": {},
   "source": [
    "## Defining a Function\n",
    "\n",
    "Here's a simple function named `greet_user()` that prints a greeting:"
   ]
  },
  {
   "cell_type": "code",
   "execution_count": 3,
   "metadata": {},
   "outputs": [
    {
     "name": "stdout",
     "output_type": "stream",
     "text": [
      "Hello!\n"
     ]
    }
   ],
   "source": [
    "#greeter.py\n",
    "\n",
    "def greet_user():\n",
    "    \"\"\"Display a simple greeting.\"\"\"\n",
    "    print(\"Hello!\")\n",
    "\n",
    "greet_user()\n"
   ]
  },
  {
   "cell_type": "markdown",
   "metadata": {},
   "source": [
    "This example shows the simplest structure of a function. Line 3 uses the keyword `def` to inform Python that you're defining a function. This is the *function defintion*, which tells Python the named of the function and, if applicable, what kind of information the function needs to do its job. The parenthese hold that information. In this case, the name of the function `greet_user()`, and it needs no information to do its job, so its parentheses are empty. (Even so, the parentheses are required.) Finally, the definition ends in a colon. \n",
    "\n",
    "Any idented lines that follow `def greet_user():` make up the body of the function. The text at line 4 is a comment called a *docstring*, which describes what the function does. Docstrings are enclosed in triple quotes, which Python looks for when it generates documentation for the functions in your programs. \n",
    "\n",
    "The line `print(\"Hello!\")` at line 5 is the only line of actual code in the body of this function, so `greet_user()` has just one job: `print(\"Hello!\")`.\n",
    "\n",
    "When you want to use this function, you call it. A *function call* tells Python to execute the code in the function. To *call* a function, you write the name of the function, followed by any necessary information in parentheses, as shown at line 7. Because no information is needed here, calling our function is as simple as entering `greet_user()`. As expected, it prints `Hello!`."
   ]
  },
  {
   "cell_type": "markdown",
   "metadata": {},
   "source": [
    "### Passing Information to a Function\n",
    "\n",
    "Modified slightly, the function `greet_user()` can not only tell the user `Hello!` but also greet them by name. For the function to do this, you enter `username` in the parentheses of the function's definition at `def greet_user()`. By adding `username` here you allow the function to accept any value of `username` you specify. The function now expects you to provide a value for `username` each time you call it. When you call `greet_user()`, you can pass it a name, such as 'jesse', inside the parentheses:"
   ]
  },
  {
   "cell_type": "code",
   "execution_count": 5,
   "metadata": {},
   "outputs": [
    {
     "name": "stdout",
     "output_type": "stream",
     "text": [
      "Hello, Jesse!\n"
     ]
    }
   ],
   "source": [
    "def greet_user(username):\n",
    "    \"\"\"Display a simple greeting.\"\"\"\n",
    "    print(f\"Hello, {username.title()}!\")\n",
    "\n",
    "greet_user('jesse')"
   ]
  },
  {
   "cell_type": "markdown",
   "metadata": {},
   "source": [
    "### Arguments and Parameters\n",
    "\n",
    "In the preceding `greet_user()` function, we defined `greet_user()` to require a value for the variable `username`. Once we called the function and gave it the information (a person's name), it printed the right greeting.\n",
    "\n",
    "The variable `username` in the definition of `greet_user()` is an example of a *parameter*, a piece of information the function needs to do its job. The value 'jesse' in `greet_user('jesse')` is an example of an *argument*. An argument is a piece of information that's passed from a function call to a function. When we call the function, we place the value we want the function to work with in parentheses. In this case the argument 'jesse' was passed to the function `greet_user()`, and the value was assigned to the parameter `username`."
   ]
  },
  {
   "cell_type": "markdown",
   "metadata": {},
   "source": [
    "### Try It Yourself\n",
    "\n",
    "**8-1. Message:** Write a function called `display_message()` that prints one sentence telling everyone what you learning about in this chapter. Call the function, and make sure the message display correctly."
   ]
  },
  {
   "cell_type": "code",
   "execution_count": 6,
   "metadata": {},
   "outputs": [
    {
     "name": "stdout",
     "output_type": "stream",
     "text": [
      "We are learning about functions in this chapter!\n"
     ]
    }
   ],
   "source": [
    "def display_message():\n",
    "    print(\"We are learning about functions in this chapter!\")\n",
    "\n",
    "display_message()"
   ]
  },
  {
   "cell_type": "markdown",
   "metadata": {},
   "source": [
    "**8-2. Favorite Book:** Write a function called `favorite_book()` that accepts one parameter, `title`. The function should print a message, such as *One of my favorite books is ALice in Wonderland*. Call the function, making sure to include a book title as an argument in the function call. "
   ]
  },
  {
   "cell_type": "code",
   "execution_count": 7,
   "metadata": {},
   "outputs": [
    {
     "name": "stdout",
     "output_type": "stream",
     "text": [
      "One of my favorite books is Hard-Boiled Wonderland And The End Of The World.\n"
     ]
    }
   ],
   "source": [
    "def favorite_book(title):\n",
    "    print(f\"One of my favorite books is {title.title()}.\")\n",
    "    \n",
    "favorite_book('hard-boiled wonderland and the end of the world')"
   ]
  },
  {
   "cell_type": "markdown",
   "metadata": {},
   "source": [
    "## Passing Arguments\n",
    "\n",
    "Because a function definition can have multiple parameters, a function call may need multiple arguments. You can pass arguments to your functions in a number of ways. You can:\n",
    "- Use *positional arguments*, which need to be in the same order the parameters were written.\n",
    "- Use *keyword arguments*, where each argument consists of a variable name and a value; and lists and dictionaries of values. \n",
    "\n"
   ]
  },
  {
   "cell_type": "markdown",
   "metadata": {},
   "source": [
    "### Positional Arguments\n",
    "\n",
    "When you call a function, Python must match each argument in the function call with a parameter in the function definition. The simplest way to do this is based on the order of the arguments provided. Values matched up this way are called *positional arguments*.\n",
    "\n",
    "To see how this works, consider a function that display information about pets. The function tells us what kind of animal each pet is and the pet's name, as shown here:"
   ]
  },
  {
   "cell_type": "code",
   "execution_count": 9,
   "metadata": {},
   "outputs": [
    {
     "name": "stdout",
     "output_type": "stream",
     "text": [
      "\n",
      "I have a hamster.\n",
      "My hamster's name is Harry.\n"
     ]
    }
   ],
   "source": [
    "#pets.py\n",
    "\n",
    "def describe_pet(animal_type, pet_name):\n",
    "    \"\"\"Display information about a pet.\"\"\"\n",
    "    print(f\"\\nI have a {animal_type}.\")\n",
    "    print(f\"My {animal_type}'s name is {pet_name.title()}.\")\n",
    "    \n",
    "describe_pet('hamster', 'harry')"
   ]
  },
  {
   "cell_type": "markdown",
   "metadata": {},
   "source": [
    "The definition shows that this function needs a type of animal and the animal's name (line 3). When we call `describe_pet()`, we need to provide an animal type and a name, in that order. For exmaple, in the function call, the argument 'hamster' is assigned to the parameter `animal_type` and the argument 'harry' is assigned to the parameter `pet_name` (line 8). In the function body, these two parameters are used to display information about the pet being described. "
   ]
  },
  {
   "cell_type": "markdown",
   "metadata": {},
   "source": [
    "### Multiple Function Calls\n",
    "\n",
    "You can call a function as many times as needed. Describing a second, different pet requires just one more call to `describe_pet()`:"
   ]
  },
  {
   "cell_type": "code",
   "execution_count": 11,
   "metadata": {},
   "outputs": [
    {
     "name": "stdout",
     "output_type": "stream",
     "text": [
      "\n",
      "I have a hamster.\n",
      "My hamster's name is Harry.\n",
      "\n",
      "I have a dog.\n",
      "My dog's name is Willie.\n"
     ]
    }
   ],
   "source": [
    "def describe_pet(animal_type, pet_name):\n",
    "    \"\"\"Display information about a pet.\"\"\"\n",
    "    print(f\"\\nI have a {animal_type}.\")\n",
    "    print(f\"My {animal_type}'s name is {pet_name.title()}.\")\n",
    "    \n",
    "describe_pet('hamster', 'harry')\n",
    "describe_pet('dog', 'willie')"
   ]
  },
  {
   "cell_type": "markdown",
   "metadata": {},
   "source": [
    "In this second function call, we pass `describe_pet()` the argument 'dog' and 'willie'. As with the previous set of arguments we used, Python matches 'dog' with the parameter `animal_type` and 'willie' with the parameter `pet_name`.\n",
    "\n",
    "Calling a function multiple times is a very efficient way to work. The code describing a pet is written once in the function. Then, anytime you want to describe a new pet, you call the function with the new pet's information. Even if the code for describing a pet were to expand to ten lines, you could still describe a new pet in just one line by calling the function again. \n",
    "\n",
    "You can use as many positional agruments as you need in your functions. Python works through the arguments yo uprovide when calling the function and matches each one with the corresponding parameter in the function's definition. "
   ]
  },
  {
   "cell_type": "markdown",
   "metadata": {},
   "source": [
    "### Order Matters in Positional Arguments\n",
    "You can get unexpected results if you mix up the order of the arguments in a function call when using positional arguments.\n",
    "\n",
    "In the function call below, we list the name first and the type of animal second. Because the argument 'harry' is listed first this time, that value is assigne to the parameter `animal_type`. Likewise, 'hamster' is assigned to `pet_name`. Now we have a 'harry named Hamster':"
   ]
  },
  {
   "cell_type": "code",
   "execution_count": 13,
   "metadata": {},
   "outputs": [
    {
     "name": "stdout",
     "output_type": "stream",
     "text": [
      "\n",
      "I have a harry.\n",
      "My harry's name is Hamster.\n"
     ]
    }
   ],
   "source": [
    "describe_pet('harry', 'hamster')"
   ]
  },
  {
   "cell_type": "markdown",
   "metadata": {},
   "source": [
    "If you get funny results like this, check to make sure the order of the arguments in you function call matches the order of the parameters in the function's definition. "
   ]
  },
  {
   "cell_type": "markdown",
   "metadata": {},
   "source": [
    "### Keyword Arguments\n",
    "A *keyword argument* is a name-value pair that you pass to a function. You directly associate the name and the value within the argument, so when you pass the argument to the function, there's no confusion (you won't end up with a harry named Hamster). Keyword arguments free you from having to worry about correctly ordering your arguments in the function call, and they clarify the role of each value in the function call. \n",
    "\n",
    "Let's rewrite *pet.py* using keyeword arguments to call `describe_pet()`:"
   ]
  },
  {
   "cell_type": "code",
   "execution_count": 14,
   "metadata": {},
   "outputs": [
    {
     "name": "stdout",
     "output_type": "stream",
     "text": [
      "\n",
      "I have a hamster.\n",
      "My hamster's name is Harry.\n"
     ]
    }
   ],
   "source": [
    "def describe_pet(animal_type, pet_name):\n",
    "    \"\"\"Display information about a pet.\"\"\"\n",
    "    print(f\"\\nI have a {animal_type}.\")\n",
    "    print(f\"My {animal_type}'s name is {pet_name.title()}.\")\n",
    "    \n",
    "describe_pet(animal_type = 'hamster',pet_name = 'harry')"
   ]
  },
  {
   "cell_type": "markdown",
   "metadata": {},
   "source": [
    "The function `describe_pet()` hasn't changed. But when we call the function, we explicitly tell Python which parameter each argument should be matched with. When Python reads the function call, it knows to assign the argument 'hamster' to the parameter `animal_type` and the argument 'harry' to `pet_name`. The output correctly show what we have a hamster named Harry.\n",
    "\n",
    "The order of the keyword arguments doesn't matter because Python knows where each value should go. The following two function calls are equivalent:"
   ]
  },
  {
   "cell_type": "code",
   "execution_count": 15,
   "metadata": {},
   "outputs": [
    {
     "name": "stdout",
     "output_type": "stream",
     "text": [
      "\n",
      "I have a hamster.\n",
      "My hamster's name is Harry.\n",
      "\n",
      "I have a hamster.\n",
      "My hamster's name is Harry.\n"
     ]
    }
   ],
   "source": [
    "describe_pet(animal_type = 'hamster', pet_name = 'Harry')\n",
    "describe_pet(pet_name = 'harry', animal_type = 'hamster')"
   ]
  },
  {
   "cell_type": "markdown",
   "metadata": {},
   "source": [
    "### Default Values \n",
    "When writing a function, you can define a *default value* for wach parameter. If an argument for a parameter is provided in the function call, Python usese the argument value. If not, it uses the parameter default's value. So when you define a default value for a parameter, you can exclude the corresponding argument you'd usually write in the function call. Using default values can simplify your function calls and clarify the ways in which your functions are typically used. \n",
    "\n",
    "For example, if you notice that most of the calls to `describe_pet()` are being used to describe dogs, you can set the default value of `animal_type` to 'dog'. Now anyone calling `describe_pet()` for a dog can omit that information:"
   ]
  },
  {
   "cell_type": "code",
   "execution_count": 1,
   "metadata": {},
   "outputs": [
    {
     "name": "stdout",
     "output_type": "stream",
     "text": [
      "\n",
      "I have a dog.\n",
      "My dog's name is Willie.\n"
     ]
    }
   ],
   "source": [
    "def describe_pet(pet_name, animal_type = 'dog'):\n",
    "    \"\"\"Display information about a pet.\"\"\"\n",
    "    print(f\"\\nI have a {animal_type}.\")\n",
    "    print(f\"My {animal_type}'s name is {pet_name.title()}.\")\n",
    "\n",
    "describe_pet(pet_name = \"willie\")"
   ]
  },
  {
   "cell_type": "markdown",
   "metadata": {},
   "source": [
    "Note that the order of the parameters in the function definition had to be changed. Because the default value makes it unnecessary to specity a type of animal as an argument, the only argument left in the function call is the pet's name. Python still interprets this as a positional agrument, so if the function is called with just a pet's name, that argument will match up with the first parameter listed in the function's definition. This is the reason the first parameter needs to be `pet_name`.\n",
    "\n",
    "The simplest way to use this function now is to provide just a dog's name in the function call:"
   ]
  },
  {
   "cell_type": "code",
   "execution_count": 3,
   "metadata": {},
   "outputs": [
    {
     "name": "stdout",
     "output_type": "stream",
     "text": [
      "\n",
      "I have a dog.\n",
      "My dog's name is Willie.\n"
     ]
    }
   ],
   "source": [
    "describe_pet('willie')"
   ]
  },
  {
   "cell_type": "markdown",
   "metadata": {},
   "source": [
    "This function call would have the same output as the previous example. The only argument provided is `'willie'`, so it is matched up with the first parameter inthe definition, `pet_name`. Because no argument is provided for `animal_type`, Python uses the default value `'dog'`. \n",
    "\n",
    "To describe an animal other than a dog, you could use the function call like this:  "
   ]
  },
  {
   "cell_type": "code",
   "execution_count": 4,
   "metadata": {},
   "outputs": [
    {
     "name": "stdout",
     "output_type": "stream",
     "text": [
      "\n",
      "I have a hamster.\n",
      "My hamster's name is Harry.\n"
     ]
    }
   ],
   "source": [
    "describe_pet(pet_name = 'harry', animal_type = 'hamster')"
   ]
  },
  {
   "cell_type": "markdown",
   "metadata": {},
   "source": [
    "Because an explicit argument value for `animal_type` is provided, Python will ignore the parameter's default value.\n",
    "\n",
    "**NOTE** When you use default values, any parameter with a default value needs to be listed after all the parameters that don't have default values. This allows Python to continue interpreting positional arguments correctly."
   ]
  },
  {
   "cell_type": "markdown",
   "metadata": {},
   "source": [
    "### Equivalent Function Calls\n",
    "Because positional arguments, keyword arguments, and default values can all be used together, often you'll have several equivalent ways to call a function. Consider the following definition for `describe_pet()` with one default value provided:\n",
    "\n",
    "`def describe_pet(pet_name, animal_type='dog'):`\n",
    "\n",
    "With this definition, an argument always needs to be provided for `pet_name`, and this value can be provided using the positional or keyword format. If the animal being describe is not a dog, an argument for `animal_type` must be included in the call, and this argument can also be specified using the positional or keyword format.\n",
    "\n",
    "All of the following calls would work for this function:\n",
    "\n",
    "`# A dog named Willie.\n",
    "describe_pet('Willie')\n",
    "describe_pet(pet_name= 'willie')`\n",
    "\n",
    "`# A hamster name Harry\n",
    "describe_pet(pet_name= 'harry', animal_type= 'hamster')\n",
    "describe_pet('harry', 'hamster')\n",
    "describe_pet(animal_type= 'hamster', pet_name= 'harry')`\n",
    "\n",
    "Each of these functions calls would have the same output as the previous examples.\n",
    "\n",
    "**NOTE** It doesn't really matter which calling style you use. As long as your function calls produce the output you want, just use the style you find easiest to understand."
   ]
  },
  {
   "cell_type": "markdown",
   "metadata": {},
   "source": [
    "### Avoid Argument Errors\n",
    "When you start to use functions, don't be surprised if you encounter errors about unmatched arguments. Unmatched arguments occur when you provide fewer or more arguments than a function needs to do its work. For example, here's what happens if we try to call `describe_pet()` with no arguments:"
   ]
  },
  {
   "cell_type": "code",
   "execution_count": 5,
   "metadata": {},
   "outputs": [
    {
     "ename": "TypeError",
     "evalue": "describe_pet() missing 2 required positional arguments: 'animal_type' and 'pet_name'",
     "output_type": "error",
     "traceback": [
      "\u001b[1;31m---------------------------------------------------------------------------\u001b[0m",
      "\u001b[1;31mTypeError\u001b[0m                                 Traceback (most recent call last)",
      "\u001b[1;32m<ipython-input-5-eb4bfcda229f>\u001b[0m in \u001b[0;36m<module>\u001b[1;34m\u001b[0m\n\u001b[0;32m      4\u001b[0m     \u001b[0mprint\u001b[0m\u001b[1;33m(\u001b[0m\u001b[1;34mf\"My {animal_type}'s name is {pet_name.title()}.\"\u001b[0m\u001b[1;33m)\u001b[0m\u001b[1;33m\u001b[0m\u001b[1;33m\u001b[0m\u001b[0m\n\u001b[0;32m      5\u001b[0m \u001b[1;33m\u001b[0m\u001b[0m\n\u001b[1;32m----> 6\u001b[1;33m \u001b[0mdescribe_pet\u001b[0m\u001b[1;33m(\u001b[0m\u001b[1;33m)\u001b[0m\u001b[1;33m\u001b[0m\u001b[1;33m\u001b[0m\u001b[0m\n\u001b[0m",
      "\u001b[1;31mTypeError\u001b[0m: describe_pet() missing 2 required positional arguments: 'animal_type' and 'pet_name'"
     ]
    }
   ],
   "source": [
    "def describe_pet(animal_type, pet_name):\n",
    "    \"\"\"Display information about a pet.\"\"\"\n",
    "    print(f\"\\nI have a {animal_type}.\")\n",
    "    print(f\"My {animal_type}'s name is {pet_name.title()}.\")\n",
    "    \n",
    "describe_pet()"
   ]
  },
  {
   "cell_type": "markdown",
   "metadata": {},
   "source": [
    "Python recognizes that some information is missing from the function call, and the traceback tells us that.\n",
    "\n",
    "The traceback tells us the location of the problem, allowing us to look back and see that something went wrong in our function call. The offending function call is written out for us to see. The traceback tells us the call is missing two arguments and reports the name of the missing arguments. If the function were in a separate file, we could possibly rewrite the call correctly without having to open that file and read the function code.\n",
    "\n",
    "Python is helpful in that it reads the function's code for us and tells us the names of the arguments we need to provide. This is another motivation for giving your variables and functions descriptive names. If you do, Python's error message will be more useful to you and anyone else who might use your code. \n",
    "\n",
    "If you provide too many arguments, you should get a similar traceback that can help you correctly match your function call to the function definition."
   ]
  },
  {
   "cell_type": "markdown",
   "metadata": {},
   "source": [
    "### Try It Yourself\n",
    "**8-3. T-Shirt** Write a function called `make_shirt()` that accepts a size and the text of a message that should be printed on the shirt. The function should print a sentence summarizing the size of the shirt and the message printed on it.\n",
    "Call the function once using positional agruments to make a shirt. Call the function a second time using keyword arguments."
   ]
  },
  {
   "cell_type": "code",
   "execution_count": 7,
   "metadata": {},
   "outputs": [
    {
     "name": "stdout",
     "output_type": "stream",
     "text": [
      "We will be printing 'Eat The Rich' on your large shirt.\n",
      "We will be printing 'Hello World!' on your small shirt.\n"
     ]
    }
   ],
   "source": [
    "def make_shirt(size, message):\n",
    "    \"\"\"Display size and message of a shirt.\"\"\"\n",
    "    print(f\"We will be printing '{message.title()}' on your {size} shirt.\")\n",
    "    \n",
    "# Using positional arguments\n",
    "make_shirt('large', 'eat the rich')\n",
    "\n",
    "# Using keyword arguments\n",
    "make_shirt( size= 'small', message= 'hello world!')"
   ]
  },
  {
   "cell_type": "markdown",
   "metadata": {},
   "source": [
    "**8-4. Large Shirts:** Modify the `make_shirt()` function so that shirts are large by default with a message that reads *I love Python*. Make a large shirt and a medium shirt with the default message, and a shirt of any size with a different message."
   ]
  },
  {
   "cell_type": "code",
   "execution_count": 8,
   "metadata": {},
   "outputs": [
    {
     "name": "stdout",
     "output_type": "stream",
     "text": [
      "We will be printing 'I Love Python!' on your large shirt.\n",
      "We will be printing 'I Love Python!' on your medium shirt.\n",
      "We will be printing 'I Need Some Money' on your ultra-large shirt.\n"
     ]
    }
   ],
   "source": [
    "def make_shirt(size= 'large', message= 'I love Python!'):\n",
    "    \"\"\"Large shirt with message of 'I love Python'.\"\"\"\n",
    "    print(f\"We will be printing '{message.title()}' on your {size} shirt.\")\n",
    "    \n",
    "# with default arguments with large shirt:\n",
    "make_shirt()\n",
    "\n",
    "# default message with medium size shirt:\n",
    "make_shirt(size= 'medium')\n",
    "\n",
    "# any size with a different message:\n",
    "make_shirt(size = 'ultra-large', message= 'i need some money')"
   ]
  },
  {
   "cell_type": "markdown",
   "metadata": {},
   "source": [
    "**8-5.Cities:** Write a function called describe_city() that accepts the name of a city and its country. The function should print a simple sentence, such as `Reyjavik is in Iceland.`. Give the parameter for the country a default value. Call your function for three different cities, at least one of which is not in the default country."
   ]
  },
  {
   "cell_type": "code",
   "execution_count": 11,
   "metadata": {},
   "outputs": [
    {
     "name": "stdout",
     "output_type": "stream",
     "text": [
      "Atlanta is a city in America.\n",
      "Los Angeles is a city in America.\n",
      "Tokyo is a city in America.\n"
     ]
    }
   ],
   "source": [
    "def describe_city(city, country= 'America'):\n",
    "    print(f\"{city.title()} is a city in {country}.\")\n",
    "          \n",
    "describe_city('atlanta')\n",
    "describe_city('los angeles')\n",
    "describe_city('tokyo')\n"
   ]
  },
  {
   "cell_type": "markdown",
   "metadata": {},
   "source": [
    "## Return Values\n",
    "A function doesn't always have to display its output directly. Instead, it can process some data and then return a value or set of values. The value the function returns is called a *return value*. The `return` statement takes a value from inside a function and sends it back to the line that called the function. Return values allow you to move much of your program's grunt work into functions, which can simplify the body of your program. "
   ]
  },
  {
   "cell_type": "markdown",
   "metadata": {},
   "source": [
    "### Returining a Simple Value\n",
    "Let's look at a function that takes a first and last name, and returns a neatly formatted full name:"
   ]
  },
  {
   "cell_type": "code",
   "execution_count": 12,
   "metadata": {},
   "outputs": [
    {
     "name": "stdout",
     "output_type": "stream",
     "text": [
      "Jimi Hendrix\n"
     ]
    }
   ],
   "source": [
    "#formatted.py\n",
    "\n",
    "def get_formatted_name(first_name, last_name):\n",
    "    \"\"\"Return a full name, neatly formatted.\"\"\"\n",
    "    full_name = f\"{first_name} {last_name}\"\n",
    "    return full_name.title()\n",
    "\n",
    "musician = get_formatted_name('jimi', 'hendrix')\n",
    "print(musician)"
   ]
  },
  {
   "cell_type": "markdown",
   "metadata": {},
   "source": [
    "The definition of `get_formatted_name()` takes as parameters a first and last name (line 3). The function combines these two names, adds a space between them, and assigns the result to `full_name` (line 5). The value of `full_name` is converted to title case, and then returned to the calling line at line 6. \n",
    "\n",
    "When you call a function that returns a value, you need to provide a variable that the return value can be assigned to. In this case, the returned value is assigned to the variable `musician` at line 8. The output shows a neatly formatted name made up of the parts of a person's name:\n",
    "`Jimi Hendrix`\n",
    "\n",
    "This might seem like a lot of work to get a neatly formatted name when we could have written:\n",
    "`print('Jimi Hendrix')`\n",
    "But when you consider working with a large program that needs to store many first and last names separately, functions like `get_formatted_name()` become very useful. You store first and last names seperately and then call this function whenever you want to display a full name."
   ]
  },
  {
   "cell_type": "markdown",
   "metadata": {},
   "source": [
    "### Making an Argument Optional\n",
    "Sometimes it makes sense to make an argument optional so that people using the function can choose to provide extra information only if they want to. You can use default values to make an agrument optional. \n",
    "\n",
    "For example, say we want to expand `get_formatted_name()` to handle middle names as well. A first attempt to include middle names might look like this:"
   ]
  },
  {
   "cell_type": "code",
   "execution_count": 13,
   "metadata": {},
   "outputs": [
    {
     "name": "stdout",
     "output_type": "stream",
     "text": [
      "John Lee Hooker\n"
     ]
    }
   ],
   "source": [
    "def get_formatted_name(first_name, middle_name, last_name):\n",
    "    \"\"\"Return a full name, neatly formatted.\"\"\"\n",
    "    full_name = f\"{first_name} {middle_name} {last_name}\"\n",
    "    return full_name.title()\n",
    "\n",
    "musician = get_formatted_name('john', 'lee', 'hooker')\n",
    "print(musician)"
   ]
  },
  {
   "cell_type": "markdown",
   "metadata": {},
   "source": [
    "To make the middle name optional, we can give the `middle_name` argument an empty default value and ignore the argument unless the user provides a value. To make `get_formatted_name()` work without a middle name, we set the default value of `middle_name` to an empty string and move it to the end of the list of parameters:"
   ]
  },
  {
   "cell_type": "code",
   "execution_count": 14,
   "metadata": {},
   "outputs": [
    {
     "name": "stdout",
     "output_type": "stream",
     "text": [
      "Jimi Hendrix\n",
      "John Hooker Lee\n"
     ]
    }
   ],
   "source": [
    "def get_formatted_name(first_name, last_name, middle_name= ''):\n",
    "    \"\"\"Return a full name, neatly formatted.\"\"\"\n",
    "    if middle_name:\n",
    "        full_name = f\"{first_name} {middle_name} {last_name}\"\n",
    "    else:\n",
    "        full_name = f\"{first_name} {last_name}\"\n",
    "    return full_name.title()\n",
    "\n",
    "musician = get_formatted_name('jimi', 'hendrix')\n",
    "print(musician)\n",
    "\n",
    "musician = get_formatted_name('john', 'hooker', 'lee')\n",
    "print(musician)"
   ]
  },
  {
   "cell_type": "markdown",
   "metadata": {},
   "source": [
    "In this example, the name is built from three possible parts. Because there's always a first and last name, these parameters are listed first in the function's definition. The middle name is optional, so it's listed last in the definition, and it's default value is an empty string (line 1).\n",
    "\n",
    "In the body of the function, we check to see if a middle name has been provided. Python interprets non-empty string `True`, so if `middle_name` evaluates to `True` if a middle name argument is in the function call (line 3). If a middle name is provided, the first, middle, and last names are combined to form a full name. This name is then changed to title case and returned to the function call line where it's assigned to the variable `musician` and printed. If no middle name is provided, the empty string fails the `if` test and the `else` block runs (line 5). The full name is made with just a first and last name, and the formatted name is returned to the calling line where it's assigned to `musician` and printed.\n",
    "\n",
    "Calling this function with a first and last name is straightforward. If we're using a middle name, however, we have to make sure the middle name is the last argument passed so Python will match up the positional arguments correctly (line 12).\n",
    "\n",
    "Optional values allow functions to handle a wider range of use cases while letting function calls remain as simple as possible."
   ]
  },
  {
   "cell_type": "markdown",
   "metadata": {},
   "source": [
    "### Returing a Dictionary\n",
    "A function can return any kind of value you need it to, including more complicated data structures like lists and dictionaries. For example, the following function takes in parts of a name and returns a dictionary representing a person:"
   ]
  },
  {
   "cell_type": "code",
   "execution_count": 16,
   "metadata": {},
   "outputs": [
    {
     "name": "stdout",
     "output_type": "stream",
     "text": [
      "{'first': 'jimi', 'last': 'hendrix'}\n"
     ]
    }
   ],
   "source": [
    "#person.py\n",
    "\n",
    "def build_person(first_name, last_name):\n",
    "    \"\"\"Return a dictionary of information about a person.\"\"\"\n",
    "    person = {'first': first_name, 'last': last_name}\n",
    "    return person\n",
    "\n",
    "musician = build_person('jimi', 'hendrix')\n",
    "print(musician)"
   ]
  },
  {
   "cell_type": "markdown",
   "metadata": {},
   "source": [
    "The function `build_person()` takes in a first and last name, and puts these value into a dictionary at line 5. The value of `first_name` is stored with the key `'first'` and the value of `last_name` is stored with the key `'last'`. The entire dictionary representing the perosn is returned at line 6. The return value is printed at line 9 with the original two pieces of textual information now stored in a dictionary:\n",
    "`{'first': 'jimi', 'last': 'hendrix'}`\n",
    "\n",
    "This function takes in simple textual information and puts it into a smore meaningful data structure that lets you work with the information beyond just printing it. The strings `'jimi'` and `'hendrix'` are now labeled as a first name and last name. You can easily extend this function to accept optionaly values like a middle name, and age, an occupation, or any other information you want to store about a person. For exampl, the following change allows you to store a person's age as well:"
   ]
  },
  {
   "cell_type": "code",
   "execution_count": 17,
   "metadata": {},
   "outputs": [
    {
     "name": "stdout",
     "output_type": "stream",
     "text": [
      "{'first': 'jimi', 'last': 'hendrix', 'age': 27}\n"
     ]
    }
   ],
   "source": [
    "def build_person(first_name, last_name, age=None):\n",
    "    \"\"\"Return a dictionary of information about a person.\"\"\"\n",
    "    person = {'first': first_name, 'last': last_name}\n",
    "    if age:\n",
    "        person['age'] = age\n",
    "    return person\n",
    "\n",
    "musician = build_person('jimi', 'hendrix', age=27)\n",
    "print(musician)"
   ]
  },
  {
   "cell_type": "markdown",
   "metadata": {},
   "source": [
    "We add a new optional parameter `age` to the function definition and assign the parameter the special value `None`, which is used when a variable has no specific value assigned to it. You can think of `None` as a placeholder value. In conditional tests, `None` evaluates to `False`. If the function call includes a value for `age`, that value is stored in the dictionary. This function always stores a person's name, but it can also be modified to store any other information you want about a person."
   ]
  },
  {
   "cell_type": "markdown",
   "metadata": {},
   "source": [
    "### Using a Function with a while Loop\n",
    "You can use functions with all the Python structures you've learned about so far. For example, let's use the `get_formatted_name()` function with a while loop to greet users more formally. Here's a first attempt at greeting people using their first and last names:"
   ]
  },
  {
   "cell_type": "code",
   "execution_count": null,
   "metadata": {},
   "outputs": [
    {
     "name": "stdout",
     "output_type": "stream",
     "text": [
      "\n",
      "Please tell me your name:\n",
      "First name: vinnie\n",
      "Last name: king\n",
      "\n",
      "Hello Vinnie King!\n",
      "\n",
      "Please tell me your name:\n"
     ]
    }
   ],
   "source": [
    "#greeter.py\n",
    "\n",
    "def get_formatted_name(first_name, last_name):\n",
    "    \"\"\"Return a full name, neatly formatted.\"\"\"\n",
    "    full_name = f\"{first_name} {last_name}\"\n",
    "    return full_name.title()\n",
    "\n",
    "# This is an infinite loop!\n",
    "while True:\n",
    "    print(f\"\\nPlease tell me your name:\")\n",
    "    f_name = input(\"First name: \")\n",
    "    l_name = input(\"Last name: \")\n",
    "    \n",
    "    formatted_name = get_formatted_name(f_name, l_name)\n",
    "    print(f\"\\nHello {formatted_name}!\")"
   ]
  },
  {
   "cell_type": "markdown",
   "metadata": {},
   "source": [
    "For this example, we use a simple version of `get_formatted_name()` that doesn't involve middle names. The `while` loop asks the users to enter their name, and we prompt for their first and last name separately (line 10).\n",
    "\n",
    "But there's one problem with this `while` loop: We haven't defined a quit condition. Where do you put a quit condition when you ask for a series of inputs? We want the user to be able to quit as easily as possible, so each prompt should offer a way to quit. The `break` statement offers a straight-forward way to exit the loop at either prompt:"
   ]
  },
  {
   "cell_type": "code",
   "execution_count": 1,
   "metadata": {},
   "outputs": [
    {
     "name": "stdout",
     "output_type": "stream",
     "text": [
      "\n",
      "Please tell me your name:\n",
      "(enter 'q' at anyt ime to quit)\n",
      "First name: bob\n",
      "Last name: yeung\n",
      "\n",
      "Hello Bob Yeung!\n",
      "\n",
      "Please tell me your name:\n",
      "(enter 'q' at anyt ime to quit)\n",
      "First name: 1\n",
      "Last name: fsdf\n",
      "\n",
      "Hello 1 Fsdf!\n",
      "\n",
      "Please tell me your name:\n",
      "(enter 'q' at anyt ime to quit)\n",
      "First name: q\n"
     ]
    }
   ],
   "source": [
    "def get_formatted_name(first_name, last_name):\n",
    "    \"\"\"Return a full name, neatly formatted.\"\"\"\n",
    "    full_name = f\"{first_name} {last_name}\"\n",
    "    return full_name.title()\n",
    "\n",
    "while True:\n",
    "    print(f\"\\nPlease tell me your name:\")\n",
    "    print(\"(enter 'q' at anyt ime to quit)\")\n",
    "    \n",
    "    f_name = input(\"First name: \")\n",
    "    if f_name == 'q':\n",
    "        break\n",
    "    l_name = input(\"Last name: \")\n",
    "    if l_name == 'q':\n",
    "        break\n",
    "    \n",
    "    formatted_name = get_formatted_name(f_name, l_name)\n",
    "    print(f\"\\nHello {formatted_name}!\")"
   ]
  },
  {
   "cell_type": "markdown",
   "metadata": {},
   "source": [
    "### Try It Yourself\n",
    "\n",
    "**8-6. Names:** Write a function call `city_country()` that takes in the name of a city and its country. The function shoudl return a string formatted like this: `\"Santiago, Chile\"` Call your function with at least three city-county pairs, and print the values that are returned."
   ]
  },
  {
   "cell_type": "code",
   "execution_count": 4,
   "metadata": {},
   "outputs": [
    {
     "name": "stdout",
     "output_type": "stream",
     "text": [
      "Saigon, Vietnam\n",
      "London, United Kingdom\n",
      "Beijing, China\n"
     ]
    }
   ],
   "source": [
    "def city_country(city, country):\n",
    "    \"\"\"Display a city and it's country.\"\"\"\n",
    "    city_country  = f\"{city}, {country}\"\n",
    "    return city_country.title()\n",
    "\n",
    "country_1 = city_country('saigon', 'vietnam')\n",
    "print(country_1)\n",
    "\n",
    "country_2 = city_country('london', 'united kingdom')\n",
    "print(country_2)\n",
    "\n",
    "country_3 = city_country('beijing', 'china')\n",
    "print(country_3)"
   ]
  },
  {
   "cell_type": "markdown",
   "metadata": {},
   "source": [
    "**8-7. Album:** Write a function called `make_album()` that builds a dictionary describing a music album.  The function should take in an artist name and an album title, and it should return a dictionary containing these two pieces of information. Use the function to make three dictionaries representing different albums. Print each return value to show that the dictionaries are storing the album information correctly."
   ]
  },
  {
   "cell_type": "code",
   "execution_count": 5,
   "metadata": {},
   "outputs": [
    {
     "data": {
      "text/plain": [
       "{'artist': 'Prince', 'title': 'Purple Rain'}"
      ]
     },
     "execution_count": 5,
     "metadata": {},
     "output_type": "execute_result"
    }
   ],
   "source": [
    "def make_album(artist_name, album_title):\n",
    "    album = {'artist': artist_name.title(), 'title': album_title.title()}\n",
    "    return album\n",
    "\n",
    "make_album('prince', 'purple rain')"
   ]
  },
  {
   "cell_type": "markdown",
   "metadata": {},
   "source": [
    "Use `None` to add an optional parameter to `make_album()` that allows you to store the number of songs on an album. If the calling line includes a value for the number of songs, add that value to the album's dictionary. Make at least one new function call that includes the nubmer of songs on an album."
   ]
  },
  {
   "cell_type": "code",
   "execution_count": 14,
   "metadata": {},
   "outputs": [
    {
     "data": {
      "text/plain": [
       "{'artist': 'Prince', 'title': 'Purple Rain', 'Number of Songs on album': 36}"
      ]
     },
     "execution_count": 14,
     "metadata": {},
     "output_type": "execute_result"
    }
   ],
   "source": [
    "def make_album(artist_name, album_title, num_songs=None):\n",
    "    if num_songs:\n",
    "        album = {'artist': artist_name.title(), 'title': album_title.title(), 'Number of Songs on album': num_songs}\n",
    "    else:\n",
    "        album = {'artist': artist_name.title(), 'title': album_title.title()}\n",
    "    return album\n",
    "\n",
    "make_album('prince', 'purple rain', 36)\n",
    "\n"
   ]
  },
  {
   "cell_type": "markdown",
   "metadata": {},
   "source": [
    "**8-8. User-Album:** Start with your program from Exercise 8-7. Write a `while` loop that allows users to enter an album's artist and title. Once you have that information, call `make_album()` with the user's input and print the dictionary that's created. Be sure to include a quit value in the while loop."
   ]
  },
  {
   "cell_type": "code",
   "execution_count": 15,
   "metadata": {},
   "outputs": [
    {
     "name": "stdout",
     "output_type": "stream",
     "text": [
      "\n",
      "Please tell me the artist's name and title of album:\n",
      "(enter 'q' at anyt ime to quit)\n",
      "Artist's Name: Prince\n",
      "Last name: the color purple\n",
      "{'artist': 'Prince', 'title': 'The Color Purple'}\n",
      "\n",
      "Please tell me the artist's name and title of album:\n",
      "(enter 'q' at anyt ime to quit)\n",
      "Artist's Name: 1\n",
      "Last name: q\n"
     ]
    }
   ],
   "source": [
    "def make_album(artist_name, album_title, num_songs=None):\n",
    "    if num_songs:\n",
    "        album = {'artist': artist_name.title(), 'title': album_title.title(), 'Number of Songs on album': num_songs}\n",
    "    else:\n",
    "        album = {'artist': artist_name.title(), 'title': album_title.title()}\n",
    "    return album\n",
    "\n",
    "while True:\n",
    "    print(f\"\\nPlease tell me the artist's name and title of album:\")\n",
    "    print(\"(enter 'q' at anyt ime to quit)\")\n",
    "    \n",
    "    a_name = input(\"Artist's Name: \")\n",
    "    if a_name == 'q':\n",
    "        break\n",
    "    title = input(\"Last name: \")\n",
    "    if title == 'q':\n",
    "        break\n",
    "    \n",
    "    album = make_album(a_name, title)\n",
    "    print(album)\n",
    "\n"
   ]
  },
  {
   "cell_type": "markdown",
   "metadata": {},
   "source": [
    "## Passing a List\n",
    "You'll often find it useful to pass a list to a function, whether it's a list of names, numbers, or more complex objects, such as dictionaries. When you pass a list to a function, the function gets direct access to the contents of the list. Let's use functions to make working with lists more efficient.\n",
    "\n",
    "Say we have a list of users and want to print a greeting to each. The following example sends a list of names to a function called `greet_user()`, which greets each person in the list individually:"
   ]
  },
  {
   "cell_type": "code",
   "execution_count": 1,
   "metadata": {},
   "outputs": [
    {
     "name": "stdout",
     "output_type": "stream",
     "text": [
      "Hello, Hannah!\n",
      "Hello, Ty!\n",
      "Hello, Margot!\n"
     ]
    }
   ],
   "source": [
    "#greet_users.py\n",
    "\n",
    "def greet_users(names):\n",
    "    \"\"\"Print a simple greeting to each user in the list.\"\"\"\n",
    "    for name in names:\n",
    "        msg = f\"Hello, {name.title()}!\"\n",
    "        print(msg)\n",
    "\n",
    "usernames = ['hannah', 'ty', 'margot']\n",
    "greet_users(usernames)"
   ]
  },
  {
   "cell_type": "markdown",
   "metadata": {},
   "source": [
    "We define `greet_users()` so it expects a list of names, which it assigns to the parameter `names`. The function loops through the list it receives and prints a greeting to each user. At line 9, we define a list of users and the pass the list of `usernames` to `greet_users()` in our function call."
   ]
  },
  {
   "cell_type": "markdown",
   "metadata": {},
   "source": [
    "### Modifying a List in a Function\n",
    "When you pass a list to a function, the function can modify the list. Any changes made to the list inside the function's body are permanent, allowing you to work efficiently even when you're dealing with large amounts of data.\n",
    "\n",
    "Consider a company that creates 3D printed models of designs that users submit. Designs that need to be printed are sotred in a list, and after being printed they're moved to a separate list. The following code does this without using functions:"
   ]
  },
  {
   "cell_type": "code",
   "execution_count": 3,
   "metadata": {},
   "outputs": [
    {
     "name": "stdout",
     "output_type": "stream",
     "text": [
      "Printing model: dodecahedron\n",
      "Printing model: robot pendant\n",
      "Printing model: phone case\n",
      "\n",
      "The following models have been printed:\n",
      "dodecahedron\n",
      "robot pendant\n",
      "phone case\n"
     ]
    }
   ],
   "source": [
    "# Start with some designs that need to be printed.\n",
    "unprinted_designs = ['phone case', 'robot pendant', 'dodecahedron']\n",
    "completed_models = []\n",
    "\n",
    "# Simulate printing each design, until none are left.\n",
    "# Move each design to completed_models after printing.\n",
    "while unprinted_designs:\n",
    "    current_design = unprinted_designs.pop()\n",
    "    print(f\"Printing model: {current_design}\")\n",
    "    completed_models.append(current_design)\n",
    "    \n",
    "# Display all completed models.\n",
    "print(\"\\nThe following models have been printed:\")\n",
    "for completed_model in completed_models:\n",
    "    print(completed_model)\n",
    "    "
   ]
  },
  {
   "cell_type": "markdown",
   "metadata": {},
   "source": [
    "This program starts with a list of designs that need to be printed and an empty list called `completed_models` that each design will be moved to after it has been printed. As long as designs remain in `unprinted_designs`, the `while` loop simulates printing each design by removing a design from the end of the list, storing it in `current_design`, and displaying a message that the current design is being printed. It then adds the desing to the list of completed models. When the loop is finished running, a list of the designs that have been printed is displayed.\n",
    "\n",
    "We can reorganize this code by writing two functions, each of which does one specific job. most fo the code won't change; we;re just making it more carefully structured. The first function will handle printing the designs, and the second will summarize the prints that have bee made:"
   ]
  },
  {
   "cell_type": "code",
   "execution_count": 5,
   "metadata": {},
   "outputs": [
    {
     "name": "stdout",
     "output_type": "stream",
     "text": [
      "Printing model: dodecahedron\n",
      "Printing model: robot pendant\n",
      "Printing model: phone case\n",
      "\n",
      "The following models have been printed:\n",
      "dodecahedron\n",
      "robot pendant\n",
      "phone case\n"
     ]
    }
   ],
   "source": [
    "def print_models(unprinted_designs, completed_models):\n",
    "    \"\"\"\n",
    "    Simulate printing each design, until none are left.\n",
    "    Move each design to completed_models after pritning.\n",
    "    \"\"\"\n",
    "    while unprinted_designs:\n",
    "        current_design = unprinted_designs.pop()\n",
    "        print(f\"Printing model: {current_design}\")\n",
    "        completed_models.append(current_design)\n",
    "        \n",
    "def show_completed_models(completed_models):\n",
    "    \"\"\"Show all the models that were printed.\"\"\"\n",
    "    print(f\"\\nThe following models have been printed:\")\n",
    "    for completed_model in completed_models:\n",
    "        print(completed_model)\n",
    "\n",
    "unprinted_designs = ['phone case', 'robot pendant', 'dodecahedron']\n",
    "completed_models = []\n",
    "\n",
    "print_models(unprinted_designs, completed_models)\n",
    "show_completed_models(completed_models)"
   ]
  },
  {
   "cell_type": "markdown",
   "metadata": {},
   "source": [
    "At line 1 we define the function `print_models()` with two parameters: a list of designs that need to be printed and a list of completed models. Given these two lists, the function simulates printing each design by emptying the list of unprinted designs and filling up the list of completed models. At line 11, we define the function `show_completed_models()` with one parameter: the list of completed models. Given this list, `show_completed_models()` display the name of each model that was printed.\n",
    "\n",
    "This program has the same output as the version without the functions, but the code is much more organized. The code that does most of the work has been moved to two separate functions, which makes the main part of the program easier to understand. Look at the body of the program to see how much easier it is to understand what this program is doing:\n",
    "\n",
    "`unprinted_designs = ['phone case', 'robot pendant', 'dodecahedron']\n",
    "completed_models = []`\n",
    "\n",
    "`print_models(unprinted_designs, completed_models)\n",
    "show_completed_models(completed_models)`\n",
    "\n",
    "We set up a list of unprinted designs and an empty list that will hold the completed models. Then, because we've already defined our two functions, all we have to do is call them and pass them the right arguments. We call `print_models()` and pass it the two lists it needs; as expected, `print_models()` simulates printing the designs. Then we call `show_completed_models()` and pass it the list of completed models so it can report the models that have been printed. The descriptive function names allow others to read this code and understand it, even without comments.\n",
    "\n",
    "This program is easier to extend and maintain than the version without functions. If we need to print more designs later on, we can simplly call `print_models()` again. If we realize the printing code needs to be modified, we can change the code once, and our changes will take place everywhere the function is called. This technique is more efficient than having to update code separately in several places in the program. \n",
    "\n",
    "This example also demonstrates the idea that every function should have one specific job. The first function prints each design, and the second display the completed models. This is more beneficial than using one function to do both jobs. If you're writing a function and notice the function is doing too many different tasks, try to split the code into two functions. Remember that you can always call a function from another function, which can be helpful when splitting a complex task into a series of steps."
   ]
  },
  {
   "cell_type": "markdown",
   "metadata": {},
   "source": [
    "### Preventing a Function from Modifying a List\n",
    "Sometimes you'll want to prevent a function from modifying a list. For example, say that you start with a list of unprinted designs and write a function to move them to a list of completed models, as in the previous example. You may decide that even though you've printed all the designs, you want to keep the original list of unprinted designs for your records. But because you moved all the design names out of `unprinted_designs`, the list is now empty, and the empty list is the only version you have; the original is gone. In this case, you can address this issue by passing the function a copy of the list, not the original. Any changes the function makes to the list will affect only the copy leaving the original list intact.\n",
    "\n",
    "You can send a copy of a list to a function like this:\n",
    "`function_name(list_name[:])`\n",
    "\n",
    "The slice notation [:] makes a copy of the list to send to the function. If we didn't want to empty the list of unprinted designes in *printing_models.py*, we could call `print_models()` like this:\n",
    "`print_models(unprinted_designs[:], completed_models)`\n",
    "\n",
    "The function `print_models()` can do its work because it still receives the unames of unprinted designs. But this time it uses a copy of the original unprinted designs list, not the actual `unprinted_designs` list. The list `completed_models` will fill up with the names of printed models like it did before. but the original list of unprinted designs will be unaffected by the function.\n",
    "\n",
    "Even though you can preserve the contents of a list by passing a copy of it to your functions, you should pass the original list ot the functions unless you have a specific reason to pass a copy. It's more efficient for a function to work with an existing list to avoid using the time and memory needed to make a separate copy, especially when you're working with large lists."
   ]
  },
  {
   "cell_type": "markdown",
   "metadata": {},
   "source": [
    "### TRY IT YOURSELF\n",
    "**8-9. Messages:** Make a list containing a series of short text messages. Pass the list to a function called show_messages(), which prints each text messages."
   ]
  },
  {
   "cell_type": "code",
   "execution_count": 7,
   "metadata": {},
   "outputs": [
    {
     "name": "stdout",
     "output_type": "stream",
     "text": [
      "Hi!\n",
      "On my way home!\n",
      "Need anything from the store.\n",
      "Have a good day.\n"
     ]
    }
   ],
   "source": [
    "text_messages = ['Hi!', 'On my way home!', 'Need anything from the store.', 'Have a good day.']\n",
    "\n",
    "def show_messages(text_messages):\n",
    "    for text_message in text_messages:\n",
    "        print(text_message)\n",
    "\n",
    "show_messages(text_messages)"
   ]
  },
  {
   "cell_type": "markdown",
   "metadata": {},
   "source": [
    "**8-10. Sending Messages:** Start with a copy of your program from Exercise 8-9. Write a function called `send_messages()` that prints each text message and moves each message to a new list called `sent_messages` as it's printed. After calling the function, print both of your lists to make sure the messages were moved correctly."
   ]
  },
  {
   "cell_type": "code",
   "execution_count": 13,
   "metadata": {},
   "outputs": [
    {
     "name": "stdout",
     "output_type": "stream",
     "text": [
      "Sending the following text message: Have a good day..\n",
      "Sending the following text message: Need anything from the store..\n",
      "Sending the following text message: On my way home!.\n",
      "Sending the following text message: Hi!.\n",
      "[]\n",
      "['Have a good day.', 'Need anything from the store.', 'On my way home!', 'Hi!']\n"
     ]
    }
   ],
   "source": [
    "text_messages = ['Hi!', 'On my way home!', 'Need anything from the store.', 'Have a good day.']\n",
    "sent_messages = []\n",
    "\n",
    "def send_messages(text_messages):\n",
    "    while text_messages:\n",
    "        sent_message = text_messages.pop()\n",
    "        print(f\"Sending the following text message: {sent_message}\")\n",
    "        sent_messages.append(sent_message)\n",
    "              \n",
    "send_messages(text_messages)\n",
    "\n",
    "print(text_messages)\n",
    "print(sent_messages)"
   ]
  },
  {
   "cell_type": "markdown",
   "metadata": {},
   "source": [
    "**8-11. Archived Messages:** Start with your work from Exercise 8-10. Call the function `send_messages()` with a copy of the list of messages. After calling the function, print both of your lists to show that the original list has retained its messages."
   ]
  },
  {
   "cell_type": "code",
   "execution_count": 14,
   "metadata": {},
   "outputs": [
    {
     "name": "stdout",
     "output_type": "stream",
     "text": [
      "Sending the following text message: Have a good day.\n",
      "Sending the following text message: Need anything from the store.\n",
      "Sending the following text message: On my way home!\n",
      "Sending the following text message: Hi!\n",
      "['Hi!', 'On my way home!', 'Need anything from the store.', 'Have a good day.']\n",
      "['Have a good day.', 'Need anything from the store.', 'On my way home!', 'Hi!']\n"
     ]
    }
   ],
   "source": [
    "text_messages = ['Hi!', 'On my way home!', 'Need anything from the store.', 'Have a good day.']\n",
    "sent_messages = []\n",
    "\n",
    "def send_messages(text_messages):\n",
    "    while text_messages:\n",
    "        sent_message = text_messages.pop()\n",
    "        print(f\"Sending the following text message: {sent_message}\")\n",
    "        sent_messages.append(sent_message)\n",
    "              \n",
    "send_messages(text_messages[:])\n",
    "\n",
    "print(text_messages)\n",
    "print(sent_messages)"
   ]
  },
  {
   "cell_type": "markdown",
   "metadata": {},
   "source": [
    "## Passing an Arbitrary Number of Arguments\n",
    "Sometimes you won't know ahead of time how many arguments a fucntion needs to accept. Fortunately, Python allows a function to collect an arbitrary number of arguments from the calling statement.\n",
    "\n",
    "For example, consider a function that builds a pizza. It needs to accept a number of toppings, but you can't know ahead of time how many toppings a person will want. The function in the following example has one parameter, `*toppings`, but this parameter collects as many arguments as the calling line provides:"
   ]
  },
  {
   "cell_type": "code",
   "execution_count": 15,
   "metadata": {},
   "outputs": [
    {
     "name": "stdout",
     "output_type": "stream",
     "text": [
      "('pepperoni',)\n",
      "('mushrooms', 'green peppers', 'extra cheese')\n"
     ]
    }
   ],
   "source": [
    "def make_pizza(*toppings):\n",
    "    \"\"\"Print the list of toppings that have been requested.\"\"\"\n",
    "    print(toppings)\n",
    "\n",
    "make_pizza('pepperoni')\n",
    "make_pizza('mushrooms', 'green peppers', 'extra cheese')"
   ]
  },
  {
   "cell_type": "markdown",
   "metadata": {},
   "source": [
    "The asterisk in the parameter name `*toppings` tells Python to make an empty tuple called `toppings` and pack whatever values it receives into this tuple. The `print()` call in the function body produces output showing that Python can handle a function call with one value and a call with three values. It treats the different calls similarly. Note that Python packs the arguments into a tuple, even if the function receives only one value:\n",
    "\n",
    "`('pepperoni',)\n",
    "('mushrooms', 'green peppers', 'extra cheese')`\n",
    "\n",
    "Now we can replace the `print()` call with a loop that runs through the list of toppings and describe the pizza being ordered:"
   ]
  },
  {
   "cell_type": "code",
   "execution_count": 16,
   "metadata": {},
   "outputs": [
    {
     "name": "stdout",
     "output_type": "stream",
     "text": [
      "\n",
      "Making a pizza with the following toppings:\n",
      "- pepperoni\n",
      "\n",
      "Making a pizza with the following toppings:\n",
      "- mushrooms\n",
      "- green peppers\n",
      "- extra cheese\n"
     ]
    }
   ],
   "source": [
    "def make_pizza(*toppings):\n",
    "    \"\"\"Summarize the pizza we are about to make\"\"\"\n",
    "    print(f\"\\nMaking a pizza with the following toppings:\")\n",
    "    for topping in toppings:\n",
    "        print(f\"- {topping}\")\n",
    "\n",
    "make_pizza('pepperoni')\n",
    "make_pizza('mushrooms', 'green peppers', 'extra cheese')"
   ]
  },
  {
   "cell_type": "markdown",
   "metadata": {},
   "source": [
    "The function responds apprpriately, whether it receives one value or three values."
   ]
  },
  {
   "cell_type": "markdown",
   "metadata": {},
   "source": [
    "### Mixing Positional and Arbtirary Arguments\n",
    "If you want a function to accept several different kinds of arguments, the parameter that accepts an arbitrary number of arguments must be placed last in the function definition. Python matches positional and keyword arguments first and then collects any remaining arguments in the final parameter.\n",
    "\n",
    "For example, if the function needs to take in a size for the pizza, that parameter must come before the parameter `*toppings`:"
   ]
  },
  {
   "cell_type": "code",
   "execution_count": 17,
   "metadata": {
    "scrolled": true
   },
   "outputs": [
    {
     "name": "stdout",
     "output_type": "stream",
     "text": [
      "\n",
      "Making a 16-inch pizza with the following toppings:\n",
      "- pepperoni\n",
      "\n",
      "Making a 12-inch pizza with the following toppings:\n",
      "- mushrooms\n",
      "- green peppers\n",
      "- extra cheese\n"
     ]
    }
   ],
   "source": [
    "def make_pizza(size, *toppings):\n",
    "    \"\"\"Summarize the pizza we are about to make\"\"\"\n",
    "    print(f\"\\nMaking a {size}-inch pizza with the following toppings:\")\n",
    "    for topping in toppings:\n",
    "        print(f\"- {topping}\")\n",
    "\n",
    "make_pizza(16, 'pepperoni')\n",
    "make_pizza(12, 'mushrooms', 'green peppers', 'extra cheese')"
   ]
  },
  {
   "cell_type": "markdown",
   "metadata": {},
   "source": [
    "In the function definition, Python assigns the first value it receives to the parameter `size`. All other values that come after are stored in the tuple `toppings`. The function calls include an argument for the size first, followed by as many toppings as needed.\n",
    "\n",
    "Now each pizza has a size and a number of toppings, and each piece of information is printed in the proper place, showing size first and toppings after.'\n",
    "\n",
    "**Note** You'll often see the generic parameter name *args, which collects arbitrary positional arguments like this."
   ]
  },
  {
   "cell_type": "markdown",
   "metadata": {},
   "source": [
    "### Using Arbitrary Keyword Arguments\n",
    "Sometimes you'll want to accept an arbitrary number of arguments, but you won't know ahead of time what kind of information will be passed to the function. In this case, you can write functions that accept as many key-value pairs as the calling statement provides. One example involves building user profiles: you know you'll get information about a user, but you're not sure what kind of information you'll receive. The function `build_profile()` in the following example always take in a first and last name, but it accepts an artitrary number of keyword arguments as well:"
   ]
  },
  {
   "cell_type": "code",
   "execution_count": 2,
   "metadata": {},
   "outputs": [
    {
     "name": "stdout",
     "output_type": "stream",
     "text": [
      "{'location': 'princeton', 'field': 'physics', 'first_name': 'albert', 'last_name': 'einstein'}\n"
     ]
    }
   ],
   "source": [
    "#user_profile.py\n",
    "\n",
    "def build_profile(first, last, **user_info):\n",
    "    \"\"\"Build a dictionary containing everything we know about a user.\"\"\"\n",
    "    user_info['first_name'] = first\n",
    "    user_info['last_name'] = last\n",
    "    return user_info\n",
    "\n",
    "user_profile = build_profile('albert', 'einstein',\n",
    "                            location= 'princeton',\n",
    "                            field= 'physics')\n",
    "print(user_profile)"
   ]
  },
  {
   "cell_type": "markdown",
   "metadata": {},
   "source": [
    "The definition of `build_profile()` expects a first and last name, and then it allows the user to pass in as many name-value paris as they want. The double asterisks before the parameter `**user_info` cause Python to create an empty dictionary called `user_info` and pack whatever name-value pairs it receives into this dictionary. Within the function, you can access the key-value pairs in `user_info` just as you would for any dictionary.\n",
    "\n",
    "In the body of `build_profile()` we add the first and last names to the `user_info` dictionary because we'll always receive  these two pieces of information from the user (at line 5) and they haven't been placed into the dictionay yet. Then we return the `user_info` dictionary to the function call line.\n",
    "\n",
    "We call `build_profile()`, passing it the first name 'albert', the last name 'einstein', and the two key-value pairs `location= 'princeton'` and `field= 'physics'`. We assign the returned `profile` to `user_profiles` and print `user_profile`.\n",
    "\n",
    "The returned dictionary contains the user's first and last names and in this case, the location and field of study as well. The function would work no matter how many additional key-value pairs are provided in the function call. \n",
    "\n",
    "You can mix positional, keyword, and arbitrary values in many different ways when writing your own functions. It's useful to know that all these argument types exist because you'll see them often when you start reading other people's code. It takes practice to learn to use the different types correctly and to know when to use each type. For now, remember to use the simplest approach that gets the job done. As you progress you'll learn to use the most efficient approach each time.\n",
    "\n",
    "**NOTE:** You'll often see the parameter name `**kwargs` used to collect non-specific keyword arguments."
   ]
  },
  {
   "cell_type": "markdown",
   "metadata": {},
   "source": [
    "### TRY IT YOURSELF\n",
    "**8-12. Sandwiches:** Write a function that accepts a list of items a person wants on a sandwich. The function should have one parameter that collects as many items as the function call provides, and it should print a summary of the sandwich that's being ordered. Call the function three times, using a different number of arguments each time."
   ]
  },
  {
   "cell_type": "code",
   "execution_count": 10,
   "metadata": {},
   "outputs": [
    {
     "name": "stdout",
     "output_type": "stream",
     "text": [
      "\n",
      "Making a sandwich with the following: \n",
      "-bologna\n",
      "-cheese\n",
      "\n",
      "Total items: 2\n",
      "\n",
      "Making a sandwich with the following: \n",
      "-bologna\n",
      "-cheese\n",
      "-ham\n",
      "\n",
      "Total items: 3\n",
      "\n",
      "Making a sandwich with the following: \n",
      "-bologna\n",
      "-cheese\n",
      "-chorizo\n",
      "-sausage\n",
      "\n",
      "Total items: 4\n"
     ]
    }
   ],
   "source": [
    "def sandwich(*items):\n",
    "    print(\"\\nMaking a sandwich with the following: \")\n",
    "    for item in items:\n",
    "        print(f\"-{item}\")\n",
    "    print(f\"\\nTotal items: {len(items)}\")\n",
    "\n",
    "sandwich('bologna', 'cheese')\n",
    "sandwich('bologna', 'cheese', 'ham')\n",
    "sandwich('bologna', 'cheese', 'chorizo', 'sausage')"
   ]
  },
  {
   "cell_type": "markdown",
   "metadata": {},
   "source": [
    "**8-13. User Profile:** Start with a copy of *user_profile.py*. Build a profile of yourself by calling `build_profile()`, using your first and last names and three other key-value pairs that describe you."
   ]
  },
  {
   "cell_type": "code",
   "execution_count": 12,
   "metadata": {},
   "outputs": [
    {
     "name": "stdout",
     "output_type": "stream",
     "text": [
      "{'location': 'hell', 'field': 'slackerism', 'favorite_food': 'ramen', 'first_name': 'vinnie', 'last_name': 'lam'}\n"
     ]
    }
   ],
   "source": [
    "def build_profile(first, last, **user_info):\n",
    "    \"\"\"Build a dictionary containing everything we know about a user.\"\"\"\n",
    "    user_info['first_name'] = first\n",
    "    user_info['last_name'] = last\n",
    "    return user_info\n",
    "\n",
    "user_profile = build_profile('vinnie', 'lam',\n",
    "                            location= 'hell',\n",
    "                            field= 'slackerism',\n",
    "                            favorite_food= 'ramen')\n",
    "print(user_profile)"
   ]
  },
  {
   "cell_type": "markdown",
   "metadata": {},
   "source": [
    "**8-14. Cars:** Write a function that stores information about a car in a dictionary. The function should always receive a manufacturer and a model name. It should then accept an arbitrary number of keyword arguments. Call the function with the required information and two other name-value pairs, such as a color or an optional feature. Your function should work for a call like this one:\n",
    "`car = make_car('subaru', 'outback', color= 'blue', tow_package=True)`\n",
    "Print the dictionary that's returned to make sure all the information was stored correctly."
   ]
  },
  {
   "cell_type": "code",
   "execution_count": 15,
   "metadata": {},
   "outputs": [
    {
     "name": "stdout",
     "output_type": "stream",
     "text": [
      "{'color': 'blue', 'tow_package': True, 'car_make': 'subaru', 'car_model': 'outback'}\n"
     ]
    }
   ],
   "source": [
    "def make_car(make, model, **car_info):\n",
    "    car_info['car_make'] = make\n",
    "    car_info['car_model'] = model\n",
    "    return car_info\n",
    "\n",
    "car = make_car('subaru', 'outback', color= 'blue', tow_package=True)\n",
    "print(car)"
   ]
  },
  {
   "cell_type": "markdown",
   "metadata": {},
   "source": [
    "## Storing Your Functions in Modules\n",
    "One advantage of functions is the way they separate blocks of code from your main program. By using descriptive names for your functions, your main program will be much easier to follow. you can go a setp futher by storing your functions in a separate file called a *module* and the *importing* that module into your main program. An `import` statement tells Python to make the code in a module available in the currently running program file.\n",
    "\n",
    "Storing your functions in a separate file allows you to hide the details of your program's code and focus on its higher-level logic. It also allows you to reuse functions in many different programs. When you store your fuunctions in separate files, you can share those files with other programmers without having to share your entire program. Knowing how to import functions also allows you to use libraries of functions that other programmers have written.\n",
    "\n",
    "There are several ways to import a module, and I'll show you each of these briefly."
   ]
  },
  {
   "cell_type": "markdown",
   "metadata": {},
   "source": [
    "### Importing an Entire Module\n",
    "To start importing functions, we first need to create a module. A *module* is a file ending in *.py* that contains the code you want to import into your program. Let's make a module that contains the function make_pizza(). To make this module, we'll remove everything from the file *pizza.py* except the function `make_pizza():"
   ]
  },
  {
   "cell_type": "code",
   "execution_count": null,
   "metadata": {},
   "outputs": [],
   "source": [
    "def make_pizza(size, *toppings):\n",
    "    \"\"\"Summarize the pizza we are about to make\"\"\"\n",
    "    print(f\"\\nMaking a {size}-inch pizza with the following toppings:\")\n",
    "    for topping in toppings:\n",
    "        print(f\"- {topping}\")"
   ]
  },
  {
   "cell_type": "markdown",
   "metadata": {},
   "source": [
    "Now we'll make a separate file called *making_pizza.py* in the same directory as *pizza.py*. This file imports the module we just created and then makes two calls to `make_pizza()`:"
   ]
  },
  {
   "cell_type": "code",
   "execution_count": 17,
   "metadata": {},
   "outputs": [
    {
     "name": "stdout",
     "output_type": "stream",
     "text": [
      "\n",
      "Making a 16-inch pizza with the following toppings:\n",
      "- pepperoni\n",
      "\n",
      "Making a 12-inch pizza with the following toppings:\n",
      "- mushrooms\n",
      "- green peppers\n",
      "- extra cheese\n"
     ]
    }
   ],
   "source": [
    "import pizza\n",
    "\n",
    "pizza.make_pizza(16, 'pepperoni')\n",
    "pizza.make_pizza(12, 'mushrooms', 'green peppers', 'extra cheese')"
   ]
  },
  {
   "cell_type": "markdown",
   "metadata": {},
   "source": [
    "When python reads the file, the line `import pizza` tells Python to open the file *pizza.py* and copy all the functions from it into this program. You don't actually see code being copied between files because Python copies the code behind the scenes just before the program runs. All you need to know is that any function defined in *pizza.py* will now be available in *making_pizzas.py*.\n",
    "\n",
    "To call a function from an imported module, enter the name of the module you imported, `pizza`, followed by the name of the function, `make_pizza()`, separated by a dot (as in line 3 and 4). This code produces the same output as the original program that didn't import a module.\n",
    "\n",
    "This first approach to importing, in which you simply write `import` followed by the name of the module, makes every function from the module available in your program. If you use this kind of `import` statement to import an entire module name `module_name.py`, each function in the module is available through the following syntax:\n",
    "`module_name.function_name()`"
   ]
  },
  {
   "cell_type": "markdown",
   "metadata": {},
   "source": [
    "### Importing Specific Functions\n",
    "You can also import a specific function from a module. Here's the general syntax for this approach:\n",
    "\n",
    "`from module_name import function_name`\n",
    "\n",
    "You can import as many functions as you want from a module by separating each function's name with a comma:\n",
    "\n",
    "`from module_name import function_0, function_1, function_2`\n",
    "\n",
    "The *making_pizzas.py* example would look like this if we want to import just the function we're going to use:"
   ]
  },
  {
   "cell_type": "code",
   "execution_count": 19,
   "metadata": {},
   "outputs": [
    {
     "name": "stdout",
     "output_type": "stream",
     "text": [
      "\n",
      "Making a 16-inch pizza with the following toppings:\n",
      "- pepperoni\n",
      "\n",
      "Making a 12-inch pizza with the following toppings:\n",
      "- mushrooms\n",
      "- green peppers\n",
      "- extra cheese\n"
     ]
    }
   ],
   "source": [
    "from pizza import make_pizza\n",
    "\n",
    "make_pizza(16, 'pepperoni')\n",
    "make_pizza(12, 'mushrooms', 'green peppers', 'extra cheese')"
   ]
  },
  {
   "cell_type": "markdown",
   "metadata": {},
   "source": [
    "With this syntax, you don't need to use the dot notation when you call a function. Because we've explicitly imported the function `make_pizza()` in the `import` statement, we can call it by name when we use the function."
   ]
  },
  {
   "cell_type": "markdown",
   "metadata": {},
   "source": [
    "### Using as to Give a Function an Alias\n",
    "If the name of a function you're importing might conflict with an existing name in your program or if the function name is long, you can use a short, unique *alias*-an alternate name similar to a nickname for the function. You'll give this special nickname when you import the function.\n",
    "\n",
    "Here we give the function `make_pizza()` an alias, `mp()`, by importing `make_pizza` as `mp`. The `as` keyword renames a function using the alias you provided:"
   ]
  },
  {
   "cell_type": "code",
   "execution_count": 21,
   "metadata": {},
   "outputs": [
    {
     "name": "stdout",
     "output_type": "stream",
     "text": [
      "\n",
      "Making a 16-inch pizza with the following toppings:\n",
      "- pepperoni\n",
      "\n",
      "Making a 12-inch pizza with the following toppings:\n",
      "- mushrooms\n",
      "- green peppers\n",
      "- extra cheese\n"
     ]
    }
   ],
   "source": [
    "from pizza import make_pizza as mp\n",
    "\n",
    "mp(16, 'pepperoni')\n",
    "mp(12, 'mushrooms', 'green peppers', 'extra cheese')"
   ]
  },
  {
   "cell_type": "markdown",
   "metadata": {},
   "source": [
    "The `import` statement here renames the function `make_pizza()` to `mp()` in this program. Any time we want to call `make_pizza()` we can simply write `mp()` instead, and Python will run the code in `make_pizza()` while avoiding any confusion with another `make_pizza()` function you might have written in this program file.\n",
    "\n",
    "The general syntax for providing an alias is:\n",
    "\n",
    "`from module_name import function_name as fn`"
   ]
  },
  {
   "cell_type": "markdown",
   "metadata": {},
   "source": [
    "### Using as to Give a Module an Alias\n",
    "\n",
    "You can also provide an alias for a module name. Giving a module a short alias, like `p` for `pizza`, allows you to call the module's functions more quickly. Calling `p.make_pizza()` is more concise than calling `pizza.make_pizza()`:"
   ]
  },
  {
   "cell_type": "code",
   "execution_count": 23,
   "metadata": {},
   "outputs": [
    {
     "name": "stdout",
     "output_type": "stream",
     "text": [
      "\n",
      "Making a 16-inch pizza with the following toppings:\n",
      "- pepperoni\n",
      "\n",
      "Making a 12-inch pizza with the following toppings:\n",
      "- mushrooms\n",
      "- green peppers\n",
      "- extra cheese\n"
     ]
    }
   ],
   "source": [
    "import pizza as p\n",
    "\n",
    "p.make_pizza(16, 'pepperoni')\n",
    "p.make_pizza(12, 'mushrooms', 'green peppers', 'extra cheese')"
   ]
  },
  {
   "cell_type": "markdown",
   "metadata": {},
   "source": [
    "The module `pizza` is given the alias `p` in the `import` statement, but all of the module's function retain their original names. Calling the functions by writing `p.make_pizza()` is not only more concise than writing `pizza.make_pizza()`, but also redirects your attention from the module name and allows you to focus on the descriptive names of its functions. These function names, which clearly tell you what each function does, are more important to the readability of your code than using the full module name.\n",
    "\n",
    "The general syntax for this approach is: `import module_name as mn`"
   ]
  },
  {
   "cell_type": "markdown",
   "metadata": {},
   "source": [
    "### Importing All Functions in a Module\n",
    "You can tell Python to import every function in a module by using the asterisk (\\*) operator:"
   ]
  },
  {
   "cell_type": "code",
   "execution_count": 24,
   "metadata": {},
   "outputs": [
    {
     "name": "stdout",
     "output_type": "stream",
     "text": [
      "\n",
      "Making a 16-inch pizza with the following toppings:\n",
      "- pepperoni\n",
      "\n",
      "Making a 12-inch pizza with the following toppings:\n",
      "- mushrooms\n",
      "- green peppers\n",
      "- extra cheese\n"
     ]
    }
   ],
   "source": [
    "from pizza import *\n",
    "\n",
    "make_pizza(16, 'pepperoni')\n",
    "make_pizza(12, 'mushrooms', 'green peppers', 'extra cheese')"
   ]
  },
  {
   "cell_type": "markdown",
   "metadata": {},
   "source": [
    "The asterisk in the `import` statement tells Python to copy every function from the module `pizza` into this program file. Because every function is imported, you can call each function by name without using the dot notation. However, it's best not to use this approach when you're working with larger modules that you didn't write: if the module has a function name that matches an exisitng name in your project, you can get some unexpected results. Python may see several functions or variables with the same name, and instead of importing all the functions separately, it will overwrite the functions.\n",
    "\n",
    "The best approach is to import the function or functions you want, or import the entire module and use the dot notation. This leads to clear code that's easy to read and understand. I include this section so you'll recognize `import` statements like the following when you see them in other people's code: `from module_name import *`"
   ]
  },
  {
   "cell_type": "markdown",
   "metadata": {},
   "source": [
    "## Styling Functions\n",
    "You need to keep a few details in mind when you're styling functions. Functions should have descriptive names, and these names should use lowercase letters and underscores. Descriptive names help you and others understand what your code is trying to do. Module names should use these conventions as well.\n",
    "\n",
    "Every function should have a comment that explains concisely what the function does. This comment should appear immediately after the function, other programmers can use the function by reading only the description in the docstring. They should be albe to trust that the code works as described, and as long as they know the name of the function, the arguments it needs, and the kind of value it returns, they should be able to use it in their programs.\n",
    "\n",
    "If you specify a default value for a parameter, no spaces should be used on either side of the equal sign: `def function_name(parameter_0, parameter_1='default value')`\n",
    "\n",
    "The same convention should be used for keyword arguments in function calls: `function_name(value_0, paramter_1='value')`\n",
    "\n",
    "PEP 8 recommends that you limit lines of code to 79 characters so every line is visible in a reasonably sized editor window. If a set of parameters causes a function's definition to be longer than 79 characters, press ENTER adter the opening parenthesesis on the definition line. On the next line, press TAB twice to separate the list of the arguments from the body of the function, which will only be indented one level.\n",
    "\n",
    "Most editors automatically line up any additional lines or parameters to match indentation you have established on the first line:"
   ]
  },
  {
   "cell_type": "markdown",
   "metadata": {},
   "source": [
    "`def function_name(\n",
    "        parameter_0, parameter_1, parameter_2,\n",
    "        parameter_3, parameter_4, parameter_5):\n",
    "    function body...`"
   ]
  },
  {
   "cell_type": "markdown",
   "metadata": {},
   "source": [
    "If your program or module has more than one function, you can separate each by two blank lines to make it easier to see where one function ends and the next one begins.\n",
    "\n",
    "All `import` statements should be written at the beginning of a file. The only exception is if you use comments at the beginning of your file to describe the overall program."
   ]
  },
  {
   "cell_type": "markdown",
   "metadata": {},
   "source": [
    "### TRY IT YOURSELF\n",
    "**8-15. Printing Models:** Put the functions for the example *printing_models.py* in a separate file called *printing_functions.py*. Write an `import` statement at the top of the *printing_models.py(, and modify the file to use the imported functions."
   ]
  },
  {
   "cell_type": "code",
   "execution_count": 27,
   "metadata": {},
   "outputs": [
    {
     "name": "stdout",
     "output_type": "stream",
     "text": [
      "Printing model: dodecahedron\n",
      "Printing model: robot pendant\n",
      "Printing model: phone case\n",
      "\n",
      "The following models have been printed:\n",
      "dodecahedron\n",
      "robot pendant\n",
      "phone case\n"
     ]
    }
   ],
   "source": [
    "from printing_models import print_models\n",
    "from printing_models import show_completed_models\n",
    "\n",
    "unprinted_designs = ['phone case', 'robot pendant', 'dodecahedron']\n",
    "completed_models = []\n",
    "\n",
    "print_models(unprinted_designs, completed_models)\n",
    "show_completed_models(completed_models)\n"
   ]
  },
  {
   "cell_type": "markdown",
   "metadata": {},
   "source": [
    "**8-16. Imports:** Using a program you wrote that has one function in it, store that function in a separate file. Import the function into your main program file, and call the function using each of these approaches:\n",
    "\n",
    "`import module_name\\\n",
    "from module_name import function_name\\\n",
    "from moudle_name import function_name as fn\\\n",
    "import module_name as mn\\\n",
    "from module_name import`"
   ]
  },
  {
   "cell_type": "code",
   "execution_count": 28,
   "metadata": {},
   "outputs": [],
   "source": [
    "import printing_models\n",
    "from printing_models import print_models as pm\n",
    "from printing_models import print_models\n",
    "import printing_models as pm\n",
    "from printing_models import *"
   ]
  },
  {
   "cell_type": "markdown",
   "metadata": {},
   "source": [
    "# Summary\n",
    "In this chapter you learned how to write functions and to pass arguments so that your functions have access to the information they need to do their work. You learned how to use positional and keyword arguments, and how to accept an arbitrary number of arguments. You saw functions that display output and functions that return values. You learned how to use functions with lists, dictionaries, `if` statements, and `while` loops. You also saw how to store your functions in separate files called *modules*, so your program files will be simpler and easier to understand. Finally, you learned to style your functions so your programs will continue to be well-structured and as easy as possible for you and others to read.\n",
    "\n",
    "One of your goals as a programmer should be to write simple code that does what you want it to, and functions help you do this. They allow you to write blocks of code and leave them alone once you know they work. When you know a function does its job correctly, you can trust that it will continue to work and move on to your next coding task.\n",
    "\n",
    "Fucntions allow you to write code once and then reuse that code as many times as you want. When you need to run the code in a function, all you need to do is write a one-liner call and the function does its job. Whenyou need to modify a function's behavior, you only have to modify one block of code, and your change takes effect everywhere you've made a call to that function. \n",
    "\n",
    "Using functions makes your programs easier to read, and good functio names summarize what each part of a program does. Reading a series of function calls gives you a much quicker sense of what a program does than reading a long series of code blocks.\n",
    "\n",
    "Functions also make your code easier to test and debug.  When the bulk of your program's work is done by a set of functions, each of which has a specific job, it's much easier to test and maintain the code you've written. You can write a separate program that calls each function and tests whether each function works in all the siutations it may encounter. When you do this, you can be confident that your functions will work properly each time you call them. "
   ]
  }
 ],
 "metadata": {
  "kernelspec": {
   "display_name": "Python 3",
   "language": "python",
   "name": "python3"
  },
  "language_info": {
   "codemirror_mode": {
    "name": "ipython",
    "version": 3
   },
   "file_extension": ".py",
   "mimetype": "text/x-python",
   "name": "python",
   "nbconvert_exporter": "python",
   "pygments_lexer": "ipython3",
   "version": "3.7.1"
  }
 },
 "nbformat": 4,
 "nbformat_minor": 4
}
