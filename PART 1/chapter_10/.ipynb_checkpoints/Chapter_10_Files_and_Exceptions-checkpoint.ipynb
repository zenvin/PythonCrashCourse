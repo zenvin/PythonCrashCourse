{
 "cells": [
  {
   "cell_type": "markdown",
   "metadata": {},
   "source": [
    "# Chapter 10: Files and Exception\n",
    "Now that you've mastered the basic skills, you need ot write organized programs that are easy to use, it's time to think about making your programs even more relevanta and usable. In this chapter you'll learn to work with files so your programs can quickly analyze lots of data. \n",
    "\n",
    "You'll learn to handle errors so your programs don't crash when they encounter unexpected situations. You'll learn  about *exceptions*, which are special objects Python creates to manage errors that airse while a program is running. You/ll also learn about the `json` module, which allows you to save user data so it isn't lost when your program stops running.\n",
    "\n",
    "Learning to work with files and save data will make your programs easier for people to use. Users will be able to choose what data to enter and when to enter it. Users will be able to choose what data to enter and when to enter it. People can run your program, do some work, and then close the program and pick up where they left off later. Learning to handle exceptions will help you deal with situations in which files don't exist and deal with other problems that can cause your programs to crash. This will make your program more robust when they encounter bad data, whether it comes from innocent mistakes or from malicious attempts to break your programs."
   ]
  },
  {
   "cell_type": "markdown",
   "metadata": {},
   "source": [
    "## Reading from a File\n",
    "Text files can hold an incredible amount of data. We can write a program that reads in the contents of a text file and rewrites the file with the formatting that allows a browser to display it. \n",
    "\n",
    "The first step in working with a text file is to read the information from the text file into memory. You can read the entire contents of a file or you can work through the file one line at a time."
   ]
  },
  {
   "cell_type": "markdown",
   "metadata": {},
   "source": [
    "### Reading an Entire file\n",
    "Let's start with a file that contains *pi* to 30 decimal places, with 10 decimal places per line (pi_digits.txt).\n",
    "\n",
    "Here's the program that opens the file, reads it and prints the contents of the file to the screen:"
   ]
  },
  {
   "cell_type": "code",
   "execution_count": 1,
   "metadata": {},
   "outputs": [
    {
     "name": "stdout",
     "output_type": "stream",
     "text": [
      "3.1415926535 \n",
      "  8979323846 \n",
      "  2643383279\n",
      "\n"
     ]
    }
   ],
   "source": [
    "#file_reader.py \n",
    "\n",
    "with open('pi_digits.txt') as file_object:\n",
    "    contents = file_object.read()\n",
    "print(contents)"
   ]
  },
  {
   "cell_type": "markdown",
   "metadata": {},
   "source": [
    "line 3: `open()` To do any work with a file, even just printing its contents, you first need to *open* the file to access it. The `open()` functions needs one argument: the name of the file you want to open.  Python looks for this file in the directory where the program that's currently being executed is stored. In this, *file_reader.py* is currently running, so Python looks for *pi_digits.txt* in the directory where *file_reader.py* is stored. The `open()` function returns an object representing the file. Here, `open('pi_digits.txt')` returns an object representing *pi_digits.txt*. Python assigns this object to `file_object`, which we'll work with later in the program.\n",
    "\n",
    "The keyword `with` closes the file once access to it is no longer needed. \n",
    "\n",
    "**Note**: We call `open()` in the program but not `close()`. You could open and close the file by calling `open()` and `close()`, but if a bug in your program prevents the `close()` mehtod from being executed, the file may never close. Improperly closed files can cause data to be lost or corrupted. And if you call `close()` too early in your program, you'll find yourself trying to work with a *closed* file (a file you can't access), which leads to more errors. It's not always easy to know exactly when you should close a file, but with the structure shown here, Python will figure that out for you. All you have to do is open the file and work with it as desired, trusting that Python will close it automatically when the `with` block finishes execution.\n",
    "\n",
    "Once we have a file object representing *pi_digits.txt*, we use the `read()` method in line 4 to read the entire contents of the file and store it as one long string in `contents`. When we print the value of contents, we get the entire file back, but the difference the output has anothe extra black line at the end of the output. The blank line appears because `read()` returns an empty string when it reaches the end of the file; this empty string shows up as a blank line. \n",
    "\n",
    "To remove the extra blank line `rstrip()` in the call to `print()`:"
   ]
  },
  {
   "cell_type": "code",
   "execution_count": 2,
   "metadata": {},
   "outputs": [
    {
     "name": "stdout",
     "output_type": "stream",
     "text": [
      "3.1415926535 \n",
      "  8979323846 \n",
      "  2643383279\n"
     ]
    }
   ],
   "source": [
    "with open('pi_digits.txt') as file_object:\n",
    "    contents = file_object.read()\n",
    "print(contents.rstrip())"
   ]
  },
  {
   "cell_type": "markdown",
   "metadata": {},
   "source": [
    "**Quick Recap:** To use a text file, we have to open it as an object_file, and then read it. Then we can print it or manipulate it however we want."
   ]
  },
  {
   "cell_type": "markdown",
   "metadata": {},
   "source": [
    "### File Paths\n",
    "\n",
    "There are two types of file paths :*relative file path* and *absolute file path*.\n",
    "\n",
    "*Relative file paths* look for a given location relative to the directory where the currently running program file is stored. Example: `with open('text_files/filename.txt') as file_object:`\n",
    "\n",
    "*Absolute file paths* is when you tell Python exactly where the file is on your computer regardless of where the program that's being executed is stored. Absolute file path are normally longer than relative file paths so it's helpful to assign them to a variable and then apss that variable to `open()`:\n",
    "\n",
    "`file_path = '/home/ehmatthes/other_files/text_files/filename.txt'\n",
    "with open(file_path) as file_object`\n",
    "\n",
    "**NOTE:** Windows system use a backslash (\\) instead of a forward slash (/) when displaying file paths, but you can still use forward slashes in your code.\n",
    "\n",
    "**ALSO NOTE:** If you try to use backslashes in a file path, you'll get an error because the backslah is used to escape characters in strings. For example, in the path \"C:\\path\\to\\file.txt\", the sequence \\t is interpreted as a tab. If you need to use backslashes, you can escape each on in the path, like this: \"C:\\\\path\\\\to\\\\file.txt\"."
   ]
  },
  {
   "cell_type": "markdown",
   "metadata": {},
   "source": [
    "### Reading Line by Line\n",
    "Use a `for` loop on the file to object to examine each line from a file one at a time:"
   ]
  },
  {
   "cell_type": "code",
   "execution_count": 3,
   "metadata": {},
   "outputs": [
    {
     "name": "stdout",
     "output_type": "stream",
     "text": [
      "3.1415926535 \n",
      "\n",
      "  8979323846 \n",
      "\n",
      "  2643383279\n",
      "\n"
     ]
    }
   ],
   "source": [
    "filename = 'pi_digits.txt'\n",
    "\n",
    "with open(filename) as file_object:\n",
    "    for line in file_object:\n",
    "        print(line)"
   ]
  },
  {
   "cell_type": "markdown",
   "metadata": {},
   "source": [
    "At line one we assign the name of the file we're reading from the variable `filename`. We easily swap out 'pi_digits.txt' for the name of another file we want to work with. \n",
    "\n",
    "At line 3, after we call `open()`, an object representing the file and its contents is assigned to the variable `file_object`. We again use the `with` syntax to let Python open and close the file properly. \n",
    "\n",
    "At line 4, we work through each line in the file by looping over the file object.\n",
    "\n",
    "An invisible newline character is at the end of each line in the text file. The `print` function adds its own newline each time we call it, so we end up with two newline characters at the end of each line: one from the file, and one from print(). Using `rstrip()` on each line in the `print()` call eliminates these extra blank lines:"
   ]
  },
  {
   "cell_type": "code",
   "execution_count": 4,
   "metadata": {},
   "outputs": [
    {
     "name": "stdout",
     "output_type": "stream",
     "text": [
      "3.1415926535\n",
      "  8979323846\n",
      "  2643383279\n"
     ]
    }
   ],
   "source": [
    "filename = 'pi_digits.txt'\n",
    "\n",
    "with open(filename) as file_object:\n",
    "    for line in file_object:\n",
    "        print(line.rstrip())"
   ]
  },
  {
   "cell_type": "markdown",
   "metadata": {},
   "source": [
    "### Making a List of Lines from a File\n",
    "When we use `with`, the file object returned from `read()` is only available within the `with` block. If we want to access the file's content outside of the `with` block, we will need to store the file's lines in a list inside the block and then work with that list. \n",
    "\n",
    "The following example stores the lines of 'pi_digits.txt' in a list inside the `with` block and then prints the line outside the `with` block:"
   ]
  },
  {
   "cell_type": "code",
   "execution_count": 7,
   "metadata": {},
   "outputs": [
    {
     "name": "stdout",
     "output_type": "stream",
     "text": [
      "3.1415926535\n",
      "  8979323846\n",
      "  2643383279\n"
     ]
    }
   ],
   "source": [
    "filename = 'pi_digits.txt'\n",
    "\n",
    "with open(filename) as file_object:\n",
    "    lines = file_object.readlines()\n",
    "    \n",
    "for line in lines:\n",
    "    print(line.rstrip())"
   ]
  },
  {
   "cell_type": "markdown",
   "metadata": {},
   "source": [
    "The `readlines()` method at line 3 takes each line from the file and stores it in a list. The list is then assigned to `lines`, which we can continue to work with after the `with` block ends. At line 6 we use a smiple `for` loop to print line in lines (with the rstrip() too)."
   ]
  },
  {
   "cell_type": "markdown",
   "metadata": {},
   "source": [
    "### Working with a File's Content\n",
    "Builing a single string containing all digits in the file with no whitespace in it:"
   ]
  },
  {
   "cell_type": "code",
   "execution_count": 8,
   "metadata": {},
   "outputs": [
    {
     "name": "stdout",
     "output_type": "stream",
     "text": [
      "3.1415926535  8979323846  2643383279\n",
      "36\n"
     ]
    }
   ],
   "source": [
    "filename = 'pi_digits.txt'\n",
    "\n",
    "with open(filename) as file_object:\n",
    "    lines = file_object.readlines()\n",
    "    \n",
    "pi_string = ''\n",
    "for line in lines:\n",
    "    pi_string += line.rstrip()\n",
    "    \n",
    "print(pi_string)\n",
    "print(len(pi_string))"
   ]
  },
  {
   "cell_type": "markdown",
   "metadata": {},
   "source": [
    "We start by opening the file and storing each line of digits in a list. \n",
    "\n",
    "At line 6 we create a variable `pi_string` to hold the digits of *pi*.\n",
    "At line 7 we create a loop that adds each line of digits to `pi_string` and removes the newline character from each line.\n",
    "At line 10 we print the string and at line 11 how long the string is:\n",
    "\n",
    "`3.1415926535  8979323846  2643383279\n",
    "36`\n",
    "\n",
    "The variable `pi_string` contains whitespace that was on the left side on the digits in each line. We will use `strip()` instead of `rstrip()`:"
   ]
  },
  {
   "cell_type": "code",
   "execution_count": 9,
   "metadata": {},
   "outputs": [
    {
     "name": "stdout",
     "output_type": "stream",
     "text": [
      "3.141592653589793238462643383279\n",
      "32\n"
     ]
    }
   ],
   "source": [
    "filename = 'pi_digits.txt'\n",
    "\n",
    "with open(filename) as file_object:\n",
    "    lines = file_object.readlines()\n",
    "    \n",
    "pi_string = ''\n",
    "for line in lines:\n",
    "    pi_string += line.strip()\n",
    "    \n",
    "print(pi_string)\n",
    "print(len(pi_string))\n"
   ]
  },
  {
   "cell_type": "markdown",
   "metadata": {},
   "source": [
    "**NOTE:** Python interprets all text from a text file as a string. If you read in a number and want to work with that value in a numberical context, you'll need to use `int()` to convert it to an integer or the `float()` fucntion to convert it to a float."
   ]
  },
  {
   "cell_type": "markdown",
   "metadata": {},
   "source": []
  },
  {
   "cell_type": "markdown",
   "metadata": {},
   "source": [
    "### Large Files: One Million Digits\n",
    "Say the pi text file is one million digits long, we can pass a different file to our program and if we want, we can limit how many digits to print (say 50 decimal places):"
   ]
  },
  {
   "cell_type": "code",
   "execution_count": 10,
   "metadata": {},
   "outputs": [
    {
     "name": "stdout",
     "output_type": "stream",
     "text": [
      "3.14159265358979323846264338327950288419716939937510...\n",
      "1000002\n"
     ]
    }
   ],
   "source": [
    "filename = 'pi_million_digits.txt'\n",
    "\n",
    "with open(filename) as file_object:\n",
    "    lines = file_object.readlines()\n",
    "    \n",
    "pi_string = ''\n",
    "for line in lines:\n",
    "    pi_string += line.strip()\n",
    "    \n",
    "print(f\"{pi_string[:52]}...\")\n",
    "print(len(pi_string))"
   ]
  },
  {
   "cell_type": "markdown",
   "metadata": {},
   "source": [
    "Python has no inherent limit to how much data you can work with; you can work with as much data as your system's memory can handle."
   ]
  },
  {
   "cell_type": "markdown",
   "metadata": {},
   "source": [
    "### Is Your Birthday Contained in Pi?\n",
    "Program to see if a user's birthday is within Pi. Well at least in the first one million digits of pi."
   ]
  },
  {
   "cell_type": "code",
   "execution_count": 13,
   "metadata": {},
   "outputs": [
    {
     "name": "stdout",
     "output_type": "stream",
     "text": [
      "3.14159265358979323846264338327950288419716939937510...\n",
      "1000002\n",
      "Enter your birthday, in the form mmddyy: 000000\n",
      "Your birthday does not appear in the first million digits of pi.\n"
     ]
    }
   ],
   "source": [
    "filename = 'pi_million_digits.txt'\n",
    "\n",
    "with open(filename) as file_object:\n",
    "    lines = file_object.readlines()\n",
    "    \n",
    "pi_string = ''\n",
    "for line in lines:\n",
    "    pi_string += line.strip()\n",
    "    \n",
    "print(f\"{pi_string[:52]}...\")\n",
    "print(len(pi_string))\n",
    "\n",
    "birthday = input(\"Enter your birthday, in the form mmddyy: \")\n",
    "if birthday in pi_string:\n",
    "    print(\"Your birthday appears in the first million digits of pi!\")\n",
    "else:\n",
    "    print(\"Your birthday does not appear in the first million digits of pi.\")"
   ]
  },
  {
   "cell_type": "markdown",
   "metadata": {},
   "source": [
    "### TRY IT YOURSELF\n",
    "**10-1. Learning Python:** Create a text file, `learning_python.txt`, to summarize what you have learned in Python. Start with *In Python you can ...*  Write a program that reads the file, and prints what you wrote three times: once by reading the entire file, once by looping over the file object, and once by storing the lines in a list and then working them outside the `with` block."
   ]
  },
  {
   "cell_type": "code",
   "execution_count": 22,
   "metadata": {},
   "outputs": [
    {
     "name": "stdout",
     "output_type": "stream",
     "text": [
      "\n",
      "Printing by reading the entire file:\n",
      "In Python you can print messages.\n",
      "In Python you store variables.\n",
      "In Python you can make programs.\n",
      "In Python you can read text files.\n",
      "In Python you can do many things.\n",
      "\n",
      "Printing by looping over the file object:\n",
      "In Python you can print messages.\n",
      "In Python you store variables.\n",
      "In Python you can make programs.\n",
      "In Python you can read text files.\n",
      "In Python you can do many things.\n",
      "\n",
      "Printing by storing the lines in a list and then working them outside the with block\n",
      "In Python you can print messages.\n",
      "In Python you store variables.\n",
      "In Python you can make programs.\n",
      "In Python you can read text files.\n",
      "In Python you can do many things.\n"
     ]
    }
   ],
   "source": [
    "filename = \"learning_python.txt\"\n",
    "\n",
    "# Printing by reading the entire file:\n",
    "print(f\"\\nPrinting by reading the entire file:\")\n",
    "with open(filename) as file_object:\n",
    "    contents = file_object.read()\n",
    "    print(contents)\n",
    "    \n",
    "# Printing by looping over the file object:\n",
    "print(f\"\\nPrinting by looping over the file object:\")\n",
    "with open(filename) as lines:\n",
    "    for line in lines:\n",
    "        print(line.rstrip())\n",
    "        \n",
    "# Printing by storing the lines in a list and then working them outside the with block\"\n",
    "list = ''\n",
    "with open(filename) as lines:\n",
    "    for line in lines:\n",
    "        list += line\n",
    "print(f\"\\nPrinting by storing the lines in a list and then working them outside the with block\")\n",
    "print(list)"
   ]
  },
  {
   "cell_type": "markdown",
   "metadata": {},
   "source": [
    "**10-2.Learning C** Use the `replace()` method to replace any all instances of *Python* with *C* or any other language."
   ]
  },
  {
   "cell_type": "code",
   "execution_count": 31,
   "metadata": {},
   "outputs": [
    {
     "name": "stdout",
     "output_type": "stream",
     "text": [
      "\n",
      "Printing by storing the lines in a list and then working them outside the with block\n",
      "In Python you can print messages.\n",
      "In Python you store variables.\n",
      "In Python you can make programs.\n",
      "In Python you can read text files.\n",
      "In Python you can do many things.\n",
      "\n",
      "Replacing Python with Javascript.\n",
      "In Javascript you can print messages.\n",
      "In Javascript you store variables.\n",
      "In Javascript you can make programs.\n",
      "In Javascript you can read text files.\n",
      "In Javascript you can do many things.\n"
     ]
    }
   ],
   "source": [
    "filename = \"learning_python.txt\"\n",
    "\n",
    "content = ''\n",
    "\n",
    "with open(filename) as lines:\n",
    "    for line in lines:\n",
    "        content += line\n",
    "print(f\"\\nPrinting by storing the lines in a list and then working them outside the with block\")\n",
    "print(content)\n",
    "print(f\"\\nReplacing Python with Javascript:\")\n",
    "javascript_content = content.replace('Python', 'Javascript')\n",
    "print(javascript_content)"
   ]
  },
  {
   "cell_type": "markdown",
   "metadata": {},
   "source": [
    "### Writing to an Empty File\n",
    "To write to a text file, you need to call `open()` with a second argument telling Python that you want to write to the file:"
   ]
  },
  {
   "cell_type": "code",
   "execution_count": 35,
   "metadata": {},
   "outputs": [],
   "source": [
    "# write_message.py\n",
    "\n",
    "filename = 'programming.txt'\n",
    "\n",
    "with open('programming.txt', 'w') as file_object:\n",
    "    file_object.write('I love programming.')"
   ]
  },
  {
   "cell_type": "markdown",
   "metadata": {},
   "source": [
    "The call to `open()` in this example has two arguments (line 5). First argument is the name of the file we want to open. The second argument, 'w', tells Python that we want to open the file in *write mode*. You can open a file in *read mode* ('r'), *write mode* ('w'), *append mode* ('a') or a mode that allows you to read and write to the file ('r+'). If you omit the mode argument, Python opens the file in read-only mode by default.\n",
    "\n",
    "The `open()` function automatically creates the file you're writing to if it doesn't exist. However, if the file does exist, opening it in write mode will erase the contents of the file before returning the file object.\n",
    "\n",
    "At line 6, we use the `write()` method on the file object to write a string to the file. \n",
    "\n",
    "**NOTE:** Python can only write stings to a text file. If you want to store numerical data in a text file, you'll have to convert the data to a string format first using the `str()` function."
   ]
  },
  {
   "cell_type": "markdown",
   "metadata": {},
   "source": [
    "### Writing Multiple Lines\n",
    "The `write()` function doesn't add any new lines to the text you write. So if you write more than one line without including newline characters, your file may not look the way you want it to:"
   ]
  },
  {
   "cell_type": "code",
   "execution_count": 36,
   "metadata": {},
   "outputs": [],
   "source": [
    "filename = 'programming.txt'\n",
    "\n",
    "with open('programming.txt', 'w') as file_object:\n",
    "    file_object.write('I love programming.')\n",
    "    file_object.write('I love creating new games.')"
   ]
  },
  {
   "cell_type": "markdown",
   "metadata": {},
   "source": [
    "The lines are squished together: `I love programming.I love creating new games.`\n",
    "\n",
    "Including newlines in your calls to `write()` makes each string appear on its own line:"
   ]
  },
  {
   "cell_type": "code",
   "execution_count": 37,
   "metadata": {},
   "outputs": [],
   "source": [
    "filename = 'programming.txt'\n",
    "\n",
    "with open('programming.txt', 'w') as file_object:\n",
    "    file_object.write('I love programming.\\n')\n",
    "    file_object.write('I love creating new games.\\n')"
   ]
  },
  {
   "cell_type": "markdown",
   "metadata": {},
   "source": [
    "The output now appears on separate lines:\n",
    "\n",
    "`I love programming.\n",
    "I love creating new games.`\n",
    "\n",
    "You can also use spaces, tab characters, and blank lines to format your out, just as you've been doing with terminal-based output."
   ]
  },
  {
   "cell_type": "markdown",
   "metadata": {},
   "source": [
    "### Appending to a File\n",
    "If you want to add content to a file instead of writing over exisiting content, you can open the file in *append mode*. When you open a file in append mode, Python doesn't erase the contents of the file before returning the file object. Any lines you write to the file will be added at th end of the file. If the file doesn't exist, Python will create an empty file for you.\n",
    "\n",
    "Let's modify *write_message.py* by adding some new reasons we love programming to the existing file *programming.txt*:"
   ]
  },
  {
   "cell_type": "code",
   "execution_count": 38,
   "metadata": {},
   "outputs": [],
   "source": [
    "filename = 'programming.txt'\n",
    "\n",
    "with open(filename, 'a') as file_object:\n",
    "    file_object.write(\"I also love finding meaning in large datasets.\\n\")\n",
    "    file_object.write(\"I love creating apps that can run in a browsers.\\n\")"
   ]
  },
  {
   "cell_type": "markdown",
   "metadata": {},
   "source": [
    "At line 3 we used the 'a' argument to open the file for appending rather than writing over the exisitng file. At line 4 we write two new lines, which are added to *programming.txt*:"
   ]
  },
  {
   "cell_type": "markdown",
   "metadata": {},
   "source": [
    "`I love programming.\n",
    "I love creating new games.\n",
    "I also love finding meaning in large datasets.\n",
    "I love creating apps that can run in a browsers.`"
   ]
  },
  {
   "cell_type": "markdown",
   "metadata": {},
   "source": [
    "### TRY IT YOURSELF\n",
    "**10-3. Guest:** Write a program that prompts the user for their name. When they respond, write their name to a file called *guest.txt*."
   ]
  },
  {
   "cell_type": "code",
   "execution_count": 41,
   "metadata": {},
   "outputs": [
    {
     "name": "stdout",
     "output_type": "stream",
     "text": [
      "What is your name: VinnieV\n"
     ]
    }
   ],
   "source": [
    "filename = 'guest_book.txt'\n",
    "\n",
    "with open(filename, 'w') as file_object:\n",
    "    name = input(\"What is your name: \")\n",
    "    file_object.write(f\"{name}\\n\")\n",
    "    "
   ]
  },
  {
   "cell_type": "markdown",
   "metadata": {},
   "source": [
    "**10-4. Guest Book:** Write a `while` loop that prompts users for their name. When they enter their name, print a greeting to the screen and add a line recording their visit in a file called *guest_book.txt*. Make sure each entry appears on a new line in the file."
   ]
  },
  {
   "cell_type": "code",
   "execution_count": 1,
   "metadata": {},
   "outputs": [
    {
     "name": "stdout",
     "output_type": "stream",
     "text": [
      "Enter 'quit' when finished: \n",
      "\n",
      "What is your name: bef\n",
      "Hello Bef, thank you for stopping by.\n",
      "What is your name: quit\n"
     ]
    }
   ],
   "source": [
    "filename = 'guest_book.txt'\n",
    "\n",
    "print(\"Enter 'quit' when finished: \\n\")\n",
    "\n",
    "with open(filename, 'a') as file_object:\n",
    "    while True:\n",
    "        name = input(\"What is your name: \")\n",
    "        if name == 'quit':\n",
    "            break\n",
    "        else:\n",
    "            print(f\"Hello {name.title()}, thank you for stopping by.\")\n",
    "            file_object.write(f\"{name} visited.\\n\")\n",
    "        "
   ]
  },
  {
   "cell_type": "markdown",
   "metadata": {},
   "source": [
    "**10-5. Programming Poll:** Write a `while` loop that asks people why they like programming. Each time someone enters a reason, add their reason to a file that stores all the responses."
   ]
  },
  {
   "cell_type": "code",
   "execution_count": 2,
   "metadata": {},
   "outputs": [
    {
     "name": "stdout",
     "output_type": "stream",
     "text": [
      "Enter 'quit' to exit.\n",
      "\n",
      "Why do you like programming?Because it lets me think\n",
      "Why do you like programming?I want to be a proficient programmer\n",
      "Why do you like programming?I need money\n",
      "Why do you like programming?quit\n"
     ]
    }
   ],
   "source": [
    "filename = 'responses.txt'\n",
    "\n",
    "print(\"Enter 'quit' to exit.\\n\")\n",
    "\n",
    "while True:\n",
    "    response = input(\"Why do you like programming?\")\n",
    "    if response == 'quit':\n",
    "        break\n",
    "    else:\n",
    "        with open(filename, 'a') as file_object:\n",
    "            file_object.write(f\"{response}\\n\")"
   ]
  },
  {
   "cell_type": "markdown",
   "metadata": {},
   "source": [
    "## Exceptions\n",
    "Python uses special objects called *exception* to manage erros that arise during a program's execution. Whenever an error occurs that makes Python unsure what to do next, it creates an exception object. If you write code that handles the exception, the program will continue running. If you don't handle the exception, the program will halt and show a *traceback*, which includes a report of the exception that was raised. \n",
    "\n",
    "Exceptions are handled with `try-except` blocks. A `try-except` block asks Python to do something, but it also tells Python what to do if an exception is raised. When you use the `try-except` blocks, your program will continue running even if things start to go wrong. Users will see a friendly error message instead of a confusing traceback."
   ]
  },
  {
   "cell_type": "markdown",
   "metadata": {},
   "source": [
    "### Handling the ZeroDivisionError Exception\n",
    "When we try to divide by zero, we'll get an error and a traceback:"
   ]
  },
  {
   "cell_type": "code",
   "execution_count": 3,
   "metadata": {},
   "outputs": [
    {
     "ename": "ZeroDivisionError",
     "evalue": "division by zero",
     "output_type": "error",
     "traceback": [
      "\u001b[1;31m---------------------------------------------------------------------------\u001b[0m",
      "\u001b[1;31mZeroDivisionError\u001b[0m                         Traceback (most recent call last)",
      "\u001b[1;32m<ipython-input-3-fad870a50e27>\u001b[0m in \u001b[0;36m<module>\u001b[1;34m\u001b[0m\n\u001b[1;32m----> 1\u001b[1;33m \u001b[0mprint\u001b[0m\u001b[1;33m(\u001b[0m\u001b[1;36m5\u001b[0m\u001b[1;33m/\u001b[0m\u001b[1;36m0\u001b[0m\u001b[1;33m)\u001b[0m\u001b[1;33m\u001b[0m\u001b[1;33m\u001b[0m\u001b[0m\n\u001b[0m",
      "\u001b[1;31mZeroDivisionError\u001b[0m: division by zero"
     ]
    }
   ],
   "source": [
    "print(5/0)"
   ]
  },
  {
   "cell_type": "markdown",
   "metadata": {},
   "source": [
    "The error reported in the tracebeack is the ZeroDivisionError which is an exception object. We can use this information to modify our program and tell Python what to do when this kind of exception occurs.\n",
    "\n",
    "### Using try-except Block\n",
    "When we think an error might occur, we can write a `try-except` block to tell Python to *try* running some code, and what to do it the code results in a particular kind of exception.\n",
    "\n",
    "Example of `try-except` block for handling the ZeroDivisionError exception:"
   ]
  },
  {
   "cell_type": "code",
   "execution_count": 4,
   "metadata": {},
   "outputs": [
    {
     "name": "stdout",
     "output_type": "stream",
     "text": [
      "You can't divide by zero!\n"
     ]
    }
   ],
   "source": [
    "try:\n",
    "    print(5/0)\n",
    "except ZeroDivisionError:\n",
    "    print(\"You can't divide by zero!\")"
   ]
  },
  {
   "cell_type": "markdown",
   "metadata": {},
   "source": [
    "Python runs the try block first, if it works, it moves on. If the try block returns an error as stated in line 3, it will execute that block (print message).\n",
    "\n",
    "### Using Exceptions to Prevent Crashes\n",
    "Handling errors correctly is especially important when the program has more work to do after the error occurs. This happens often in programs that prompt users for input. If the program responds to invalid input appropriately, it can prompt for more valid input instead of crashing. \n",
    "\n",
    "An example of a simple calculator that does only division:"
   ]
  },
  {
   "cell_type": "code",
   "execution_count": 5,
   "metadata": {},
   "outputs": [
    {
     "name": "stdout",
     "output_type": "stream",
     "text": [
      "Give me two numbers, and I'll divide them.\n",
      "Enter 'q' to quit.\n",
      "\n",
      "First number: 5\n",
      "Second number: 0\n"
     ]
    },
    {
     "ename": "ZeroDivisionError",
     "evalue": "division by zero",
     "output_type": "error",
     "traceback": [
      "\u001b[1;31m---------------------------------------------------------------------------\u001b[0m",
      "\u001b[1;31mZeroDivisionError\u001b[0m                         Traceback (most recent call last)",
      "\u001b[1;32m<ipython-input-5-f979fe2a8abf>\u001b[0m in \u001b[0;36m<module>\u001b[1;34m\u001b[0m\n\u001b[0;32m     11\u001b[0m     \u001b[1;32mif\u001b[0m \u001b[0msecond_number\u001b[0m \u001b[1;33m==\u001b[0m \u001b[1;34m'q'\u001b[0m\u001b[1;33m:\u001b[0m\u001b[1;33m\u001b[0m\u001b[1;33m\u001b[0m\u001b[0m\n\u001b[0;32m     12\u001b[0m         \u001b[1;32mbreak\u001b[0m\u001b[1;33m\u001b[0m\u001b[1;33m\u001b[0m\u001b[0m\n\u001b[1;32m---> 13\u001b[1;33m     \u001b[0manswer\u001b[0m \u001b[1;33m=\u001b[0m \u001b[0mint\u001b[0m\u001b[1;33m(\u001b[0m\u001b[0mfirst_number\u001b[0m\u001b[1;33m)\u001b[0m \u001b[1;33m/\u001b[0m \u001b[0mint\u001b[0m\u001b[1;33m(\u001b[0m\u001b[0msecond_number\u001b[0m\u001b[1;33m)\u001b[0m\u001b[1;33m\u001b[0m\u001b[1;33m\u001b[0m\u001b[0m\n\u001b[0m\u001b[0;32m     14\u001b[0m     \u001b[0mprint\u001b[0m\u001b[1;33m(\u001b[0m\u001b[0manswer\u001b[0m\u001b[1;33m)\u001b[0m\u001b[1;33m\u001b[0m\u001b[1;33m\u001b[0m\u001b[0m\n",
      "\u001b[1;31mZeroDivisionError\u001b[0m: division by zero"
     ]
    }
   ],
   "source": [
    "# division_calculator.py\n",
    "\n",
    "print(\"Give me two numbers, and I'll divide them.\")\n",
    "print(\"Enter 'q' to quit.\")\n",
    "\n",
    "while True:\n",
    "    first_number = input(\"\\nFirst number: \")\n",
    "    if first_number == 'q':\n",
    "        break\n",
    "    second_number = input(\"Second number: \")\n",
    "    if second_number == 'q':\n",
    "        break\n",
    "    answer = int(first_number) / int(second_number)\n",
    "    print(answer)"
   ]
  },
  {
   "cell_type": "markdown",
   "metadata": {},
   "source": [
    "The above gave use a ZeroDivsionError and the program crashed. Revealing traceback to users is not good as they will not understand, but more importantly, it might provide malicious users with information that they can use to plan a way to attack.\n",
    "\n",
    "### The else Block\n",
    "Let's make the program error resistant by wrapping the line that might produce erros in a `try-except` block.  The error occurs on the line that performs the division, so that's where we'll put the `try-except` block. This example also includes an `else` block. Any code that depends on the `try` block executing successfully goes in the `else` block:"
   ]
  },
  {
   "cell_type": "code",
   "execution_count": 1,
   "metadata": {},
   "outputs": [
    {
     "name": "stdout",
     "output_type": "stream",
     "text": [
      "Give me two numbers, and I'll divide them.\n",
      "Enter 'q' to quit.\n",
      "\n",
      "First number: 5\n",
      "Second number: 0\n",
      "You can't divide by zero!\n",
      "\n",
      "First number: q\n"
     ]
    }
   ],
   "source": [
    "print(\"Give me two numbers, and I'll divide them.\")\n",
    "print(\"Enter 'q' to quit.\")\n",
    "\n",
    "while True:\n",
    "    first_number = input(\"\\nFirst number: \")\n",
    "    if first_number == 'q':\n",
    "        break\n",
    "    second_number = input(\"Second number: \")\n",
    "    if second_number == 'q':\n",
    "        break\n",
    "    try:\n",
    "        answer = int(first_number) / int(second_number)\n",
    "    except ZeroDivisionError:\n",
    "        print(\"You can't divide by zero!\")\n",
    "    else:\n",
    "        print(answer)"
   ]
  },
  {
   "cell_type": "markdown",
   "metadata": {},
   "source": [
    "The 'try' block and the 'else' block are related. Any code that depends on the `try` block succeeding is added to the `else` block. In this case, if the division block is successful, we use the else block to print the results.\n",
    "\n",
    "The except block tells Python how to respond to the `ZeroDivisionError` error. If the `try` block fails, the `except` block will print a friendly message telling the user how to void this kind of error. The program will continue to run as above.\n",
    "\n",
    "The `try-except-else` block works like this: Python attempts to run the code in the `try` block. The only code that should go in the `try` block is code that might cause an exception to be raised. Sometimes you'll have additional code that should run only if the `try` block was successful; this code goes in the `else` block. The `except` block tells Python what to do in case a certain exception arises when it tries to run the code in the `try` block.\n",
    "\n",
    "END ON PAGE 197"
   ]
  }
 ],
 "metadata": {
  "kernelspec": {
   "display_name": "Python 3",
   "language": "python",
   "name": "python3"
  },
  "language_info": {
   "codemirror_mode": {
    "name": "ipython",
    "version": 3
   },
   "file_extension": ".py",
   "mimetype": "text/x-python",
   "name": "python",
   "nbconvert_exporter": "python",
   "pygments_lexer": "ipython3",
   "version": "3.7.1"
  }
 },
 "nbformat": 4,
 "nbformat_minor": 4
}
