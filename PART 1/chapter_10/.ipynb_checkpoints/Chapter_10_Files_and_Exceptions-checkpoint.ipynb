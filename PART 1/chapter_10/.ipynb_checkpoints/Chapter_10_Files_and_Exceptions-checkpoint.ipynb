{
 "cells": [
  {
   "cell_type": "markdown",
   "metadata": {},
   "source": [
    "# Chapter 10: Files and Exception\n",
    "Now that you've mastered the basic skills, you need ot write organized programs that are easy to use, it's time to think about making your programs even more relevanta and usable. In this chapter you'll learn to work with files so your programs can quickly analyze lots of data. \n",
    "\n",
    "You'll learn to handle errors so your programs don't crash when they encounter unexpected situations. You'll learn  about *exceptions*, which are special objects Python creates to manage errors that airse while a program is running. You/ll also learn about the `json` module, which allows you to save user data so it isn't lost when your program stops running.\n",
    "\n",
    "Learning to work with files and save data will make your programs easier for people to use. Users will be able to choose what data to enter and when to enter it. Users will be able to choose what data to enter and when to enter it. People can run your program, do some work, and then close the program and pick up where they left off later. Learning to handle exceptions will help you deal with situations in which files don't exist and deal with other problems that can cause your programs to crash. This will make your program more robust when they encounter bad data, whether it comes from innocent mistakes or from malicious attempts to break your programs."
   ]
  },
  {
   "cell_type": "markdown",
   "metadata": {},
   "source": [
    "## Reading from a File\n",
    "Text files can hold an incredible amount of data. We can write a program that reads in the contents of a text file and rewrites the file with the formatting that allows a browser to display it. \n",
    "\n",
    "The first step in working with a text file is to read the information from the text file into memory. You can read the entire contents of a file or you can work through the file one line at a time."
   ]
  },
  {
   "cell_type": "markdown",
   "metadata": {},
   "source": [
    "### Reading an Entire file\n",
    "Let's start with a file that contains *pi* to 30 decimal places, with 10 decimal places per line (pi_digits.txt).\n",
    "\n",
    "Here's the program that opens the file, reads it and prints the contents of the file to the screen:"
   ]
  },
  {
   "cell_type": "code",
   "execution_count": 1,
   "metadata": {},
   "outputs": [
    {
     "name": "stdout",
     "output_type": "stream",
     "text": [
      "3.1415926535 \n",
      "  8979323846 \n",
      "  2643383279\n",
      "\n"
     ]
    }
   ],
   "source": [
    "#file_reader.py \n",
    "\n",
    "with open('pi_digits.txt') as file_object:\n",
    "    contents = file_object.read()\n",
    "print(contents)"
   ]
  },
  {
   "cell_type": "markdown",
   "metadata": {},
   "source": [
    "line 3: `open()` To do any work with a file, even just printing its contents, you first need to *open* the file to access it. The `open()` functions needs one argument: the name of the file you want to open.  Python looks for this file in the directory where the program that's currently being executed is stored. In this, *file_reader.py* is currently running, so Python looks for *pi_digits.txt* in the directory where *file_reader.py* is stored. The `open()` function returns an object representing the file. Here, `open('pi_digits.txt')` returns an object representing *pi_digits.txt*. Python assigns this object to `file_object`, which we'll work with later in the program.\n",
    "\n",
    "The keyword `with` closes the file once access to it is no longer needed. \n",
    "\n",
    "**Note**: We call `open()` in the program but not `close()`. You could open and close the file by calling `open()` and `close()`, but if a bug in your program prevents the `close()` mehtod from being executed, the file may never close. Improperly closed files can cause data to be lost or corrupted. And if you call `close()` too early in your program, you'll find yourself trying to work with a *closed* file (a file you can't access), which leads to more errors. It's not always easy to know exactly when you should close a file, but with the structure shown here, Python will figure that out for you. All you have to do is open the file and work with it as desired, trusting that Python will close it automatically when the `with` block finishes execution.\n",
    "\n",
    "Once we have a file object representing *pi_digits.txt*, we use the `read()` method in line 4 to read the entire contents of the file and store it as one long string in `contents`. When we print the value of contents, we get the entire file back, but the difference the output has anothe extra black line at the end of the output. The blank line appears because `read()` returns an empty string when it reaches the end of the file; this empty string shows up as a blank line. \n",
    "\n",
    "To remove the extra blank line `rstrip()` in the call to `print()`:"
   ]
  },
  {
   "cell_type": "code",
   "execution_count": 2,
   "metadata": {},
   "outputs": [
    {
     "name": "stdout",
     "output_type": "stream",
     "text": [
      "3.1415926535 \n",
      "  8979323846 \n",
      "  2643383279\n"
     ]
    }
   ],
   "source": [
    "with open('pi_digits.txt') as file_object:\n",
    "    contents = file_object.read()\n",
    "print(contents.rstrip())"
   ]
  },
  {
   "cell_type": "markdown",
   "metadata": {},
   "source": [
    "**Quick Recap:** To use a text file, we have to open it as an object_file, and then read it. Then we can print it or manipulate it however we want."
   ]
  },
  {
   "cell_type": "markdown",
   "metadata": {},
   "source": [
    "### File Paths\n",
    "\n",
    "There are two types of file paths :*relative file path* and *absolute file path*.\n",
    "\n",
    "*Relative file paths* look for a given location relative to the directory where the currently running program file is stored. Example: `with open('text_files/filename.txt') as file_object:`\n",
    "\n",
    "*Absolute file paths* is when you tell Python exactly where the file is on your computer regardless of where the program that's being executed is stored. Absolute file path are normally longer than relative file paths so it's helpful to assign them to a variable and then apss that variable to `open()`:\n",
    "\n",
    "`file_path = '/home/ehmatthes/other_files/text_files/filename.txt'\n",
    "with open(file_path) as file_object`\n",
    "\n",
    "**NOTE:** Windows system use a backslash (\\) instead of a forward slash (/) when displaying file paths, but you can still use forward slashes in your code.\n",
    "\n",
    "**ALSO NOTE:** If you try to use backslashes in a file path, you'll get an error because the backslah is used to escape characters in strings. For example, in the path \"C:\\path\\to\\file.txt\", the sequence \\t is interpreted as a tab. If you need to use backslashes, you can escape each on in the path, like this: \"C:\\\\path\\\\to\\\\file.txt\"."
   ]
  },
  {
   "cell_type": "markdown",
   "metadata": {},
   "source": [
    "### Reading Line by Line\n",
    "Use a `for` loop on the file to object to examine each line from a file one at a time:"
   ]
  },
  {
   "cell_type": "code",
   "execution_count": 3,
   "metadata": {},
   "outputs": [
    {
     "name": "stdout",
     "output_type": "stream",
     "text": [
      "3.1415926535 \n",
      "\n",
      "  8979323846 \n",
      "\n",
      "  2643383279\n",
      "\n"
     ]
    }
   ],
   "source": [
    "filename = 'pi_digits.txt'\n",
    "\n",
    "with open(filename) as file_object:\n",
    "    for line in file_object:\n",
    "        print(line)"
   ]
  },
  {
   "cell_type": "markdown",
   "metadata": {},
   "source": [
    "At line one we assign the name of the file we're reading from the variable `filename`. We easily swap out 'pi_digits.txt' for the name of another file we want to work with. \n",
    "\n",
    "At line 3, after we call `open()`, an object representing the file and its contents is assigned to the variable `file_object`. We again use the `with` syntax to let Python open and close the file properly. \n",
    "\n",
    "At line 4, we work through each line in the file by looping over the file object.\n",
    "\n",
    "An invisible newline character is at the end of each line in the text file. The `print` function adds its own newline each time we call it, so we end up with two newline characters at the end of each line: one from the file, and one from print(). Using `rstrip()` on each line in the `print()` call eliminates these extra blank lines:"
   ]
  },
  {
   "cell_type": "code",
   "execution_count": 4,
   "metadata": {},
   "outputs": [
    {
     "name": "stdout",
     "output_type": "stream",
     "text": [
      "3.1415926535\n",
      "  8979323846\n",
      "  2643383279\n"
     ]
    }
   ],
   "source": [
    "filename = 'pi_digits.txt'\n",
    "\n",
    "with open(filename) as file_object:\n",
    "    for line in file_object:\n",
    "        print(line.rstrip())"
   ]
  },
  {
   "cell_type": "markdown",
   "metadata": {},
   "source": [
    "### Making a List of Lines from a File\n",
    "When we use `with`, the file object returned from `read()` is only available within the `with` block. If we want to access the file's content outside of the `with` block, we will need to store the file's lines in a list inside the block and then work with that list. \n",
    "\n",
    "The following example stores the lines of 'pi_digits.txt' in a list inside the `with` block and then prints the line outside the `with` block:"
   ]
  },
  {
   "cell_type": "code",
   "execution_count": 7,
   "metadata": {},
   "outputs": [
    {
     "name": "stdout",
     "output_type": "stream",
     "text": [
      "3.1415926535\n",
      "  8979323846\n",
      "  2643383279\n"
     ]
    }
   ],
   "source": [
    "filename = 'pi_digits.txt'\n",
    "\n",
    "with open(filename) as file_object:\n",
    "    lines = file_object.readlines()\n",
    "    \n",
    "for line in lines:\n",
    "    print(line.rstrip())"
   ]
  },
  {
   "cell_type": "markdown",
   "metadata": {},
   "source": [
    "The `readlines()` method at line 3 takes each line from the file and stores it in a list. The list is then assigned to `lines`, which we can continue to work with after the `with` block ends. At line 6 we use a smiple `for` loop to print line in lines (with the rstrip() too)."
   ]
  },
  {
   "cell_type": "markdown",
   "metadata": {},
   "source": [
    "### Working with a File's Content\n",
    "Builing a single string containing all digits in the file with no whitespace in it:"
   ]
  },
  {
   "cell_type": "code",
   "execution_count": 8,
   "metadata": {},
   "outputs": [
    {
     "name": "stdout",
     "output_type": "stream",
     "text": [
      "3.1415926535  8979323846  2643383279\n",
      "36\n"
     ]
    }
   ],
   "source": [
    "filename = 'pi_digits.txt'\n",
    "\n",
    "with open(filename) as file_object:\n",
    "    lines = file_object.readlines()\n",
    "    \n",
    "pi_string = ''\n",
    "for line in lines:\n",
    "    pi_string += line.rstrip()\n",
    "    \n",
    "print(pi_string)\n",
    "print(len(pi_string))"
   ]
  },
  {
   "cell_type": "markdown",
   "metadata": {},
   "source": [
    "We start by opening the file and storing each line of digits in a list. \n",
    "\n",
    "At line 6 we create a variable `pi_string` to hold the digits of *pi*.\n",
    "At line 7 we create a loop that adds each line of digits to `pi_string` and removes the newline character from each line.\n",
    "At line 10 we print the string and at line 11 how long the string is:\n",
    "\n",
    "`3.1415926535  8979323846  2643383279\n",
    "36`\n",
    "\n",
    "The variable `pi_string` contains whitespace that was on the left side on the digits in each line. We will use `strip()` instead of `rstrip()`:"
   ]
  },
  {
   "cell_type": "code",
   "execution_count": 9,
   "metadata": {},
   "outputs": [
    {
     "name": "stdout",
     "output_type": "stream",
     "text": [
      "3.141592653589793238462643383279\n",
      "32\n"
     ]
    }
   ],
   "source": [
    "filename = 'pi_digits.txt'\n",
    "\n",
    "with open(filename) as file_object:\n",
    "    lines = file_object.readlines()\n",
    "    \n",
    "pi_string = ''\n",
    "for line in lines:\n",
    "    pi_string += line.strip()\n",
    "    \n",
    "print(pi_string)\n",
    "print(len(pi_string))\n"
   ]
  },
  {
   "cell_type": "markdown",
   "metadata": {},
   "source": [
    "**NOTE:** Python interprets all text from a text file as a string. If you read in a number and want to work with that value in a numberical context, you'll need to use `int()` to convert it to an integer or the `float()` fucntion to convert it to a float."
   ]
  },
  {
   "cell_type": "markdown",
   "metadata": {},
   "source": []
  },
  {
   "cell_type": "markdown",
   "metadata": {},
   "source": [
    "### Large Files: One Million Digits\n",
    "Say the pi text file is one million digits long, we can pass a different file to our program and if we want, we can limit how many digits to print (say 50 decimal places):"
   ]
  },
  {
   "cell_type": "code",
   "execution_count": 10,
   "metadata": {},
   "outputs": [
    {
     "name": "stdout",
     "output_type": "stream",
     "text": [
      "3.14159265358979323846264338327950288419716939937510...\n",
      "1000002\n"
     ]
    }
   ],
   "source": [
    "filename = 'pi_million_digits.txt'\n",
    "\n",
    "with open(filename) as file_object:\n",
    "    lines = file_object.readlines()\n",
    "    \n",
    "pi_string = ''\n",
    "for line in lines:\n",
    "    pi_string += line.strip()\n",
    "    \n",
    "print(f\"{pi_string[:52]}...\")\n",
    "print(len(pi_string))"
   ]
  },
  {
   "cell_type": "markdown",
   "metadata": {},
   "source": [
    "Python has no inherent limit to how much data you can work with; you can work with as much data as your system's memory can handle."
   ]
  },
  {
   "cell_type": "markdown",
   "metadata": {},
   "source": [
    "### Is Your Birthday Contained in Pi?\n",
    "Program to see if a user's birthday is within Pi. Well at least in the first one million digits of pi."
   ]
  },
  {
   "cell_type": "code",
   "execution_count": 13,
   "metadata": {},
   "outputs": [
    {
     "name": "stdout",
     "output_type": "stream",
     "text": [
      "3.14159265358979323846264338327950288419716939937510...\n",
      "1000002\n",
      "Enter your birthday, in the form mmddyy: 000000\n",
      "Your birthday does not appear in the first million digits of pi.\n"
     ]
    }
   ],
   "source": [
    "filename = 'pi_million_digits.txt'\n",
    "\n",
    "with open(filename) as file_object:\n",
    "    lines = file_object.readlines()\n",
    "    \n",
    "pi_string = ''\n",
    "for line in lines:\n",
    "    pi_string += line.strip()\n",
    "    \n",
    "print(f\"{pi_string[:52]}...\")\n",
    "print(len(pi_string))\n",
    "\n",
    "birthday = input(\"Enter your birthday, in the form mmddyy: \")\n",
    "if birthday in pi_string:\n",
    "    print(\"Your birthday appears in the first million digits of pi!\")\n",
    "else:\n",
    "    print(\"Your birthday does not appear in the first million digits of pi.\")"
   ]
  },
  {
   "cell_type": "markdown",
   "metadata": {},
   "source": [
    "### TRY IT YOURSELF\n",
    "**10-1. Learning Python:** Create a text file, `learning_python.txt`, to summarize what you have learned in Python. Start with *In Python you can ...*  Write a program that reads the file, and prints what you wrote three times: once by reading the entire file, once by looping over the file object, and once by storing the lines in a list and then working them outside the `with` block."
   ]
  },
  {
   "cell_type": "code",
   "execution_count": 22,
   "metadata": {},
   "outputs": [
    {
     "name": "stdout",
     "output_type": "stream",
     "text": [
      "\n",
      "Printing by reading the entire file:\n",
      "In Python you can print messages.\n",
      "In Python you store variables.\n",
      "In Python you can make programs.\n",
      "In Python you can read text files.\n",
      "In Python you can do many things.\n",
      "\n",
      "Printing by looping over the file object:\n",
      "In Python you can print messages.\n",
      "In Python you store variables.\n",
      "In Python you can make programs.\n",
      "In Python you can read text files.\n",
      "In Python you can do many things.\n",
      "\n",
      "Printing by storing the lines in a list and then working them outside the with block\n",
      "In Python you can print messages.\n",
      "In Python you store variables.\n",
      "In Python you can make programs.\n",
      "In Python you can read text files.\n",
      "In Python you can do many things.\n"
     ]
    }
   ],
   "source": [
    "filename = \"learning_python.txt\"\n",
    "\n",
    "# Printing by reading the entire file:\n",
    "print(f\"\\nPrinting by reading the entire file:\")\n",
    "with open(filename) as file_object:\n",
    "    contents = file_object.read()\n",
    "    print(contents)\n",
    "    \n",
    "# Printing by looping over the file object:\n",
    "print(f\"\\nPrinting by looping over the file object:\")\n",
    "with open(filename) as lines:\n",
    "    for line in lines:\n",
    "        print(line.rstrip())\n",
    "        \n",
    "# Printing by storing the lines in a list and then working them outside the with block\"\n",
    "list = ''\n",
    "with open(filename) as lines:\n",
    "    for line in lines:\n",
    "        list += line\n",
    "print(f\"\\nPrinting by storing the lines in a list and then working them outside the with block\")\n",
    "print(list)"
   ]
  },
  {
   "cell_type": "markdown",
   "metadata": {},
   "source": [
    "**10-2.Learning C** Use the `replace()` method to replace any all instances of *Python* with *C* or any other language."
   ]
  },
  {
   "cell_type": "code",
   "execution_count": 31,
   "metadata": {},
   "outputs": [
    {
     "name": "stdout",
     "output_type": "stream",
     "text": [
      "\n",
      "Printing by storing the lines in a list and then working them outside the with block\n",
      "In Python you can print messages.\n",
      "In Python you store variables.\n",
      "In Python you can make programs.\n",
      "In Python you can read text files.\n",
      "In Python you can do many things.\n",
      "\n",
      "Replacing Python with Javascript.\n",
      "In Javascript you can print messages.\n",
      "In Javascript you store variables.\n",
      "In Javascript you can make programs.\n",
      "In Javascript you can read text files.\n",
      "In Javascript you can do many things.\n"
     ]
    }
   ],
   "source": [
    "filename = \"learning_python.txt\"\n",
    "\n",
    "content = ''\n",
    "\n",
    "with open(filename) as lines:\n",
    "    for line in lines:\n",
    "        content += line\n",
    "print(f\"\\nPrinting by storing the lines in a list and then working them outside the with block\")\n",
    "print(content)\n",
    "print(f\"\\nReplacing Python with Javascript:\")\n",
    "javascript_content = content.replace('Python', 'Javascript')\n",
    "print(javascript_content)"
   ]
  },
  {
   "cell_type": "markdown",
   "metadata": {},
   "source": [
    "### Writing to an Empty File\n",
    "To write to a text file, you need to call `open()` with a second argument telling Python that you want to write to the file:"
   ]
  },
  {
   "cell_type": "code",
   "execution_count": 35,
   "metadata": {},
   "outputs": [],
   "source": [
    "# write_message.py\n",
    "\n",
    "filename = 'programming.txt'\n",
    "\n",
    "with open('programming.txt', 'w') as file_object:\n",
    "    file_object.write('I love programming.')"
   ]
  },
  {
   "cell_type": "markdown",
   "metadata": {},
   "source": [
    "The call to `open()` in this example has two arguments (line 5). First argument is the name of the file we want to open. The second argument, 'w', tells Python that we want to open the file in *write mode*. You can open a file in *read mode* ('r'), *write mode* ('w'), *append mode* ('a') or a mode that allows you to read and write to the file ('r+'). If you omit the mode argument, Python opens the file in read-only mode by default.\n",
    "\n",
    "The `open()` function automatically creates the file you're writing to if it doesn't exist. However, if the file does exist, opening it in write mode will erase the contents of the file before returning the file object.\n",
    "\n",
    "At line 6, we use the `write()` method on the file object to write a string to the file. \n",
    "\n",
    "**NOTE:** Python can only write stings to a text file. If you want to store numerical data in a text file, you'll have to convert the data to a string format first using the `str()` function."
   ]
  },
  {
   "cell_type": "markdown",
   "metadata": {},
   "source": [
    "### Writing Multiple Lines\n",
    "The `write()` function doesn't add any new lines to the text you write. So if you write more than one line without including newline characters, your file may not look the way you want it to:"
   ]
  },
  {
   "cell_type": "code",
   "execution_count": 36,
   "metadata": {},
   "outputs": [],
   "source": [
    "filename = 'programming.txt'\n",
    "\n",
    "with open('programming.txt', 'w') as file_object:\n",
    "    file_object.write('I love programming.')\n",
    "    file_object.write('I love creating new games.')"
   ]
  },
  {
   "cell_type": "markdown",
   "metadata": {},
   "source": [
    "The lines are squished together: `I love programming.I love creating new games.`\n",
    "\n",
    "Including newlines in your calls to `write()` makes each string appear on its own line:"
   ]
  },
  {
   "cell_type": "code",
   "execution_count": 37,
   "metadata": {},
   "outputs": [],
   "source": [
    "filename = 'programming.txt'\n",
    "\n",
    "with open('programming.txt', 'w') as file_object:\n",
    "    file_object.write('I love programming.\\n')\n",
    "    file_object.write('I love creating new games.\\n')"
   ]
  },
  {
   "cell_type": "markdown",
   "metadata": {},
   "source": [
    "The output now appears on separate lines:\n",
    "\n",
    "`I love programming.\n",
    "I love creating new games.`\n",
    "\n",
    "You can also use spaces, tab characters, and blank lines to format your out, just as you've been doing with terminal-based output."
   ]
  },
  {
   "cell_type": "markdown",
   "metadata": {},
   "source": [
    "### Appending to a File\n",
    "If you want to add content to a file instead of writing over exisiting content, you can open the file in *append mode*. When you open a file in append mode, Python doesn't erase the contents of the file before returning the file object. Any lines you write to the file will be added at th end of the file. If the file doesn't exist, Python will create an empty file for you.\n",
    "\n",
    "Let's modify *write_message.py* by adding some new reasons we love programming to the existing file *programming.txt*:"
   ]
  },
  {
   "cell_type": "code",
   "execution_count": 38,
   "metadata": {},
   "outputs": [],
   "source": [
    "filename = 'programming.txt'\n",
    "\n",
    "with open(filename, 'a') as file_object:\n",
    "    file_object.write(\"I also love finding meaning in large datasets.\\n\")\n",
    "    file_object.write(\"I love creating apps that can run in a browsers.\\n\")"
   ]
  },
  {
   "cell_type": "markdown",
   "metadata": {},
   "source": [
    "At line 3 we used the 'a' argument to open the file for appending rather than writing over the exisitng file. At line 4 we write two new lines, which are added to *programming.txt*:"
   ]
  },
  {
   "cell_type": "markdown",
   "metadata": {},
   "source": [
    "`I love programming.\n",
    "I love creating new games.\n",
    "I also love finding meaning in large datasets.\n",
    "I love creating apps that can run in a browsers.`"
   ]
  },
  {
   "cell_type": "markdown",
   "metadata": {},
   "source": [
    "### TRY IT YOURSELF\n",
    "**10-3. Guest:** Write a program that prompts the user for their name. When they respond, write their name to a file called *guest.txt*."
   ]
  },
  {
   "cell_type": "code",
   "execution_count": 41,
   "metadata": {},
   "outputs": [
    {
     "name": "stdout",
     "output_type": "stream",
     "text": [
      "What is your name: VinnieV\n"
     ]
    }
   ],
   "source": [
    "filename = 'guest_book.txt'\n",
    "\n",
    "with open(filename, 'w') as file_object:\n",
    "    name = input(\"What is your name: \")\n",
    "    file_object.write(f\"{name}\\n\")\n",
    "    "
   ]
  },
  {
   "cell_type": "markdown",
   "metadata": {},
   "source": [
    "**10-4. Guest Book:** Write a `while` loop that prompts users for their name. When they enter their name, print a greeting to the screen and add a line recording their visit in a file called *guest_book.txt*. Make sure each entry appears on a new line in the file."
   ]
  },
  {
   "cell_type": "code",
   "execution_count": 1,
   "metadata": {},
   "outputs": [
    {
     "name": "stdout",
     "output_type": "stream",
     "text": [
      "Enter 'quit' when finished: \n",
      "\n",
      "What is your name: bef\n",
      "Hello Bef, thank you for stopping by.\n",
      "What is your name: quit\n"
     ]
    }
   ],
   "source": [
    "filename = 'guest_book.txt'\n",
    "\n",
    "print(\"Enter 'quit' when finished: \\n\")\n",
    "\n",
    "with open(filename, 'a') as file_object:\n",
    "    while True:\n",
    "        name = input(\"What is your name: \")\n",
    "        if name == 'quit':\n",
    "            break\n",
    "        else:\n",
    "            print(f\"Hello {name.title()}, thank you for stopping by.\")\n",
    "            file_object.write(f\"{name} visited.\\n\")\n",
    "        "
   ]
  },
  {
   "cell_type": "markdown",
   "metadata": {},
   "source": [
    "**10-5. Programming Poll:** Write a `while` loop that asks people why they like programming. Each time someone enters a reason, add their reason to a file that stores all the responses."
   ]
  },
  {
   "cell_type": "code",
   "execution_count": 2,
   "metadata": {},
   "outputs": [
    {
     "name": "stdout",
     "output_type": "stream",
     "text": [
      "Enter 'quit' to exit.\n",
      "\n",
      "Why do you like programming?Because it lets me think\n",
      "Why do you like programming?I want to be a proficient programmer\n",
      "Why do you like programming?I need money\n",
      "Why do you like programming?quit\n"
     ]
    }
   ],
   "source": [
    "filename = 'responses.txt'\n",
    "\n",
    "print(\"Enter 'quit' to exit.\\n\")\n",
    "\n",
    "while True:\n",
    "    response = input(\"Why do you like programming?\")\n",
    "    if response == 'quit':\n",
    "        break\n",
    "    else:\n",
    "        with open(filename, 'a') as file_object:\n",
    "            file_object.write(f\"{response}\\n\")"
   ]
  },
  {
   "cell_type": "markdown",
   "metadata": {},
   "source": [
    "## Exceptions\n",
    "Python uses special objects called *exception* to manage erros that arise during a program's execution. Whenever an error occurs that makes Python unsure what to do next, it creates an exception object. If you write code that handles the exception, the program will continue running. If you don't handle the exception, the program will halt and show a *traceback*, which includes a report of the exception that was raised. \n",
    "\n",
    "Exceptions are handled with `try-except` blocks. A `try-except` block asks Python to do something, but it also tells Python what to do if an exception is raised. When you use the `try-except` blocks, your program will continue running even if things start to go wrong. Users will see a friendly error message instead of a confusing traceback."
   ]
  },
  {
   "cell_type": "markdown",
   "metadata": {},
   "source": [
    "### Handling the ZeroDivisionError Exception\n",
    "When we try to divide by zero, we'll get an error and a traceback:"
   ]
  },
  {
   "cell_type": "code",
   "execution_count": 3,
   "metadata": {},
   "outputs": [
    {
     "ename": "ZeroDivisionError",
     "evalue": "division by zero",
     "output_type": "error",
     "traceback": [
      "\u001b[1;31m---------------------------------------------------------------------------\u001b[0m",
      "\u001b[1;31mZeroDivisionError\u001b[0m                         Traceback (most recent call last)",
      "\u001b[1;32m<ipython-input-3-fad870a50e27>\u001b[0m in \u001b[0;36m<module>\u001b[1;34m\u001b[0m\n\u001b[1;32m----> 1\u001b[1;33m \u001b[0mprint\u001b[0m\u001b[1;33m(\u001b[0m\u001b[1;36m5\u001b[0m\u001b[1;33m/\u001b[0m\u001b[1;36m0\u001b[0m\u001b[1;33m)\u001b[0m\u001b[1;33m\u001b[0m\u001b[1;33m\u001b[0m\u001b[0m\n\u001b[0m",
      "\u001b[1;31mZeroDivisionError\u001b[0m: division by zero"
     ]
    }
   ],
   "source": [
    "print(5/0)"
   ]
  },
  {
   "cell_type": "markdown",
   "metadata": {},
   "source": [
    "The error reported in the tracebeack is the ZeroDivisionError which is an exception object. We can use this information to modify our program and tell Python what to do when this kind of exception occurs.\n",
    "\n",
    "### Using try-except Block\n",
    "When we think an error might occur, we can write a `try-except` block to tell Python to *try* running some code, and what to do it the code results in a particular kind of exception.\n",
    "\n",
    "Example of `try-except` block for handling the ZeroDivisionError exception:"
   ]
  },
  {
   "cell_type": "code",
   "execution_count": 4,
   "metadata": {},
   "outputs": [
    {
     "name": "stdout",
     "output_type": "stream",
     "text": [
      "You can't divide by zero!\n"
     ]
    }
   ],
   "source": [
    "try:\n",
    "    print(5/0)\n",
    "except ZeroDivisionError:\n",
    "    print(\"You can't divide by zero!\")"
   ]
  },
  {
   "cell_type": "markdown",
   "metadata": {},
   "source": [
    "Python runs the try block first, if it works, it moves on. If the try block returns an error as stated in line 3, it will execute that block (print message).\n",
    "\n",
    "### Using Exceptions to Prevent Crashes\n",
    "Handling errors correctly is especially important when the program has more work to do after the error occurs. This happens often in programs that prompt users for input. If the program responds to invalid input appropriately, it can prompt for more valid input instead of crashing. \n",
    "\n",
    "An example of a simple calculator that does only division:"
   ]
  },
  {
   "cell_type": "code",
   "execution_count": 5,
   "metadata": {},
   "outputs": [
    {
     "name": "stdout",
     "output_type": "stream",
     "text": [
      "Give me two numbers, and I'll divide them.\n",
      "Enter 'q' to quit.\n",
      "\n",
      "First number: 5\n",
      "Second number: 0\n"
     ]
    },
    {
     "ename": "ZeroDivisionError",
     "evalue": "division by zero",
     "output_type": "error",
     "traceback": [
      "\u001b[1;31m---------------------------------------------------------------------------\u001b[0m",
      "\u001b[1;31mZeroDivisionError\u001b[0m                         Traceback (most recent call last)",
      "\u001b[1;32m<ipython-input-5-f979fe2a8abf>\u001b[0m in \u001b[0;36m<module>\u001b[1;34m\u001b[0m\n\u001b[0;32m     11\u001b[0m     \u001b[1;32mif\u001b[0m \u001b[0msecond_number\u001b[0m \u001b[1;33m==\u001b[0m \u001b[1;34m'q'\u001b[0m\u001b[1;33m:\u001b[0m\u001b[1;33m\u001b[0m\u001b[1;33m\u001b[0m\u001b[0m\n\u001b[0;32m     12\u001b[0m         \u001b[1;32mbreak\u001b[0m\u001b[1;33m\u001b[0m\u001b[1;33m\u001b[0m\u001b[0m\n\u001b[1;32m---> 13\u001b[1;33m     \u001b[0manswer\u001b[0m \u001b[1;33m=\u001b[0m \u001b[0mint\u001b[0m\u001b[1;33m(\u001b[0m\u001b[0mfirst_number\u001b[0m\u001b[1;33m)\u001b[0m \u001b[1;33m/\u001b[0m \u001b[0mint\u001b[0m\u001b[1;33m(\u001b[0m\u001b[0msecond_number\u001b[0m\u001b[1;33m)\u001b[0m\u001b[1;33m\u001b[0m\u001b[1;33m\u001b[0m\u001b[0m\n\u001b[0m\u001b[0;32m     14\u001b[0m     \u001b[0mprint\u001b[0m\u001b[1;33m(\u001b[0m\u001b[0manswer\u001b[0m\u001b[1;33m)\u001b[0m\u001b[1;33m\u001b[0m\u001b[1;33m\u001b[0m\u001b[0m\n",
      "\u001b[1;31mZeroDivisionError\u001b[0m: division by zero"
     ]
    }
   ],
   "source": [
    "# division_calculator.py\n",
    "\n",
    "print(\"Give me two numbers, and I'll divide them.\")\n",
    "print(\"Enter 'q' to quit.\")\n",
    "\n",
    "while True:\n",
    "    first_number = input(\"\\nFirst number: \")\n",
    "    if first_number == 'q':\n",
    "        break\n",
    "    second_number = input(\"Second number: \")\n",
    "    if second_number == 'q':\n",
    "        break\n",
    "    answer = int(first_number) / int(second_number)\n",
    "    print(answer)"
   ]
  },
  {
   "cell_type": "markdown",
   "metadata": {},
   "source": [
    "The above gave use a ZeroDivsionError and the program crashed. Revealing traceback to users is not good as they will not understand, but more importantly, it might provide malicious users with information that they can use to plan a way to attack.\n",
    "\n",
    "### The else Block\n",
    "Let's make the program error resistant by wrapping the line that might produce erros in a `try-except` block.  The error occurs on the line that performs the division, so that's where we'll put the `try-except` block. This example also includes an `else` block. Any code that depends on the `try` block executing successfully goes in the `else` block:"
   ]
  },
  {
   "cell_type": "code",
   "execution_count": 1,
   "metadata": {},
   "outputs": [
    {
     "name": "stdout",
     "output_type": "stream",
     "text": [
      "Give me two numbers, and I'll divide them.\n",
      "Enter 'q' to quit.\n",
      "\n",
      "First number: 5\n",
      "Second number: 0\n",
      "You can't divide by zero!\n",
      "\n",
      "First number: q\n"
     ]
    }
   ],
   "source": [
    "print(\"Give me two numbers, and I'll divide them.\")\n",
    "print(\"Enter 'q' to quit.\")\n",
    "\n",
    "while True:\n",
    "    first_number = input(\"\\nFirst number: \")\n",
    "    if first_number == 'q':\n",
    "        break\n",
    "    second_number = input(\"Second number: \")\n",
    "    if second_number == 'q':\n",
    "        break\n",
    "    try:\n",
    "        answer = int(first_number) / int(second_number)\n",
    "    except ZeroDivisionError:\n",
    "        print(\"You can't divide by zero!\")\n",
    "    else:\n",
    "        print(answer)"
   ]
  },
  {
   "cell_type": "markdown",
   "metadata": {},
   "source": [
    "The 'try' block and the 'else' block are related. Any code that depends on the `try` block succeeding is added to the `else` block. In this case, if the division block is successful, we use the else block to print the results.\n",
    "\n",
    "The except block tells Python how to respond to the `ZeroDivisionError` error. If the `try` block fails, the `except` block will print a friendly message telling the user how to void this kind of error. The program will continue to run as above.\n",
    "\n",
    "The `try-except-else` block works like this: Python attempts to run the code in the `try` block. The only code that should go in the `try` block is code that might cause an exception to be raised. Sometimes you'll have additional code that should run only if the `try` block was successful; this code goes in the `else` block. The `except` block tells Python what to do in case a certain exception arises when it tries to run the code in the `try` block.\n",
    "\n",
    "### Handling the FileNotFoundError Exception\n",
    "`FileNotFoundError` deals with missing files. The file you're looking for might be in a different location, the filename may be misspelled, or the file may not exist at all. You can handle all of these situations with the `try-except` block.\n",
    "\n",
    "Example of what happens when we try to read a file that doesn't exist:"
   ]
  },
  {
   "cell_type": "code",
   "execution_count": 1,
   "metadata": {},
   "outputs": [
    {
     "ename": "FileNotFoundError",
     "evalue": "[Errno 2] No such file or directory: 'alice.txt'",
     "output_type": "error",
     "traceback": [
      "\u001b[1;31m---------------------------------------------------------------------------\u001b[0m",
      "\u001b[1;31mFileNotFoundError\u001b[0m                         Traceback (most recent call last)",
      "\u001b[1;32m<ipython-input-1-71fa91c2ae6b>\u001b[0m in \u001b[0;36m<module>\u001b[1;34m\u001b[0m\n\u001b[0;32m      1\u001b[0m \u001b[0mfilename\u001b[0m \u001b[1;33m=\u001b[0m \u001b[1;34m'alice.txt'\u001b[0m\u001b[1;33m\u001b[0m\u001b[1;33m\u001b[0m\u001b[0m\n\u001b[0;32m      2\u001b[0m \u001b[1;33m\u001b[0m\u001b[0m\n\u001b[1;32m----> 3\u001b[1;33m \u001b[1;32mwith\u001b[0m \u001b[0mopen\u001b[0m\u001b[1;33m(\u001b[0m\u001b[0mfilename\u001b[0m\u001b[1;33m,\u001b[0m \u001b[0mencoding\u001b[0m\u001b[1;33m=\u001b[0m\u001b[1;34m'utf-8'\u001b[0m\u001b[1;33m)\u001b[0m \u001b[1;32mas\u001b[0m \u001b[0mf\u001b[0m\u001b[1;33m:\u001b[0m\u001b[1;33m\u001b[0m\u001b[1;33m\u001b[0m\u001b[0m\n\u001b[0m\u001b[0;32m      4\u001b[0m     \u001b[0mcontents\u001b[0m \u001b[1;33m=\u001b[0m \u001b[0mf\u001b[0m\u001b[1;33m.\u001b[0m\u001b[0mread\u001b[0m\u001b[1;33m\u001b[0m\u001b[1;33m\u001b[0m\u001b[0m\n",
      "\u001b[1;31mFileNotFoundError\u001b[0m: [Errno 2] No such file or directory: 'alice.txt'"
     ]
    }
   ],
   "source": [
    "filename = 'alice.txt'\n",
    "\n",
    "with open(filename, encoding='utf-8') as f:\n",
    "    contents = f.read"
   ]
  },
  {
   "cell_type": "markdown",
   "metadata": {},
   "source": [
    "Two changes to note from above: the use of the variable `f` to represent the file object, which is a common convention. The second is the use of the `encoding` argument. This argument is needed when your system's default encoding doesn't match the encoding of thefile that's being read. \n",
    "\n",
    "Python can't read from a missing file and returns the exception error: FileNotFoundError. The `open()` produces the error in the exampl above, so to handle it, the `try` block will begin with the line that contains `open()`:"
   ]
  },
  {
   "cell_type": "code",
   "execution_count": 2,
   "metadata": {},
   "outputs": [
    {
     "name": "stdout",
     "output_type": "stream",
     "text": [
      "Sorry, the file {filename} does not exist.\n"
     ]
    }
   ],
   "source": [
    "filename = 'alice.txt'\n",
    "\n",
    "try:\n",
    "    with open(filename, encoding='utf-8') as f:\n",
    "        contents = f.read()\n",
    "except FileNotFoundError:\n",
    "    print(\"Sorry, the file {filename} does not exist.\")"
   ]
  },
  {
   "cell_type": "markdown",
   "metadata": {},
   "source": [
    "### Analyzing Text\n",
    "Many classic works of literature are available as simple text files because they are in the public domain. Project Gutenberg maintains a collection of literary works that are available inthe public domain.\n",
    "\n",
    "We'll use the `split()`to try to count the number of words in a text. The `split()` can build a list of words from a string."
   ]
  },
  {
   "cell_type": "code",
   "execution_count": 3,
   "metadata": {},
   "outputs": [
    {
     "data": {
      "text/plain": [
       "['Alice', 'in', 'Wonderland']"
      ]
     },
     "execution_count": 3,
     "metadata": {},
     "output_type": "execute_result"
    }
   ],
   "source": [
    "title = \"Alice in Wonderland\"\n",
    "title.split()"
   ]
  },
  {
   "cell_type": "markdown",
   "metadata": {},
   "source": [
    "The `split()` method separates a string into parts wherever it finds a space and stores all the parts of the string in a list. The result is a list of words from the string, although some punctuation may also appear with some of the words. \n",
    "\n",
    "Using the `split()` method on the entire text and then count how many items are in the list to get a rough idea of how many words are in the text:"
   ]
  },
  {
   "cell_type": "code",
   "execution_count": 4,
   "metadata": {},
   "outputs": [
    {
     "name": "stdout",
     "output_type": "stream",
     "text": [
      "The file alice.txt has about 29465 words.\n"
     ]
    }
   ],
   "source": [
    "filename = 'alice.txt'\n",
    "\n",
    "try:\n",
    "    with open(filename, encoding='utf-8') as f:\n",
    "        contents = f.read()\n",
    "except FileNotFoundError:\n",
    "    print(\"Sorry, the file {filename} does not exist.\")\n",
    "else:\n",
    "    # Count the approximate number of words in the file.\n",
    "    words = contents.split()\n",
    "    num_words = len(words)\n",
    "    print(f\"The file {filename} has about {num_words} words.\")"
   ]
  },
  {
   "cell_type": "markdown",
   "metadata": {},
   "source": [
    "At line 10 we take the string `contents`, which now contains the entire text of *Alice in Wonderland* as one long string, and use the `split()` mehtod to produce a list of all the words in the book. When we use `len()` on this list to examine its length, we get a good approximation of the number of words in the original string (line 11). At line 12 we print a message to report how many words are in the file. All of this was placed in the `else` block because it work only if the code in the `try` block was successfully executed. \n",
    "\n",
    "### Working with Multiple Files\n",
    "Creating a function called `count_words()` and adding more books to count. Creating the function `count_words()` makes it easier to run the analysis for multiple books:"
   ]
  },
  {
   "cell_type": "code",
   "execution_count": 5,
   "metadata": {},
   "outputs": [
    {
     "name": "stdout",
     "output_type": "stream",
     "text": [
      "The file alice.txt has about 29465 words.\n"
     ]
    }
   ],
   "source": [
    "def count_words(filename):\n",
    "    \"\"\"Count the approximate number of words in a file.\"\"\"\n",
    "    try:\n",
    "        with open(filename, encoding='utf-8') as f:\n",
    "            contents = f.read()\n",
    "    except FileNotFoundError:\n",
    "        print(\"Sorry, the file {filename} does not exist.\")\n",
    "    else:\n",
    "        words = contents.split()\n",
    "        num_words = len(words)\n",
    "        print(f\"The file {filename} has about {num_words} words.\")\n",
    "        \n",
    "filename = 'alice.txt'\n",
    "count_words(filename)"
   ]
  },
  {
   "cell_type": "markdown",
   "metadata": {},
   "source": [
    "Most of the code is unchanged. We simply indented it and moved it into the body of `count_words()`. It's a good habit to keep comments up to date when you're modifying a program. so we changed the comment to a docstring and reworded it slightly (at line 2).\n",
    "\n",
    "Now we can write a loop to count the words in any text we want to analyze. We do this by storing the names of the files we want to analyze in a list, and then we call `count_words()` for each file in the list."
   ]
  },
  {
   "cell_type": "code",
   "execution_count": 7,
   "metadata": {},
   "outputs": [
    {
     "name": "stdout",
     "output_type": "stream",
     "text": [
      "The file alice.txt has about 29465 words.\n",
      "Sorry, the file {filename} does not exist.\n",
      "The file moby_dick.txt has about 215830 words.\n",
      "The file little_women.txt has about 189079 words.\n"
     ]
    }
   ],
   "source": [
    "def count_words(filename):\n",
    "    \"\"\"Count the approximate number of words in a file.\"\"\"\n",
    "    try:\n",
    "        with open(filename, encoding='utf-8') as f:\n",
    "            contents = f.read()\n",
    "    except FileNotFoundError:\n",
    "        print(\"Sorry, the file {filename} does not exist.\")\n",
    "    else:\n",
    "        words = contents.split()\n",
    "        num_words = len(words)\n",
    "        print(f\"The file {filename} has about {num_words} words.\")\n",
    "        \n",
    "filenames = ['alice.txt', 'siddhartha.txt', 'moby_dick.txt', 'little_women.txt']\n",
    "for filename in filenames:\n",
    "    count_words(filename)"
   ]
  },
  {
   "cell_type": "markdown",
   "metadata": {},
   "source": [
    "### Failing Silently\n",
    "Sometimes you don't want to report an exception, you can fail silently as if nothing happened. To make a program fail silently, you write a `try` block as usual, but you explicitly tell Python to do nothing in the `except` block. Python has a `pass` statement that tells it to do nothing in a block:"
   ]
  },
  {
   "cell_type": "code",
   "execution_count": 8,
   "metadata": {},
   "outputs": [
    {
     "name": "stdout",
     "output_type": "stream",
     "text": [
      "The file alice.txt has about 29465 words.\n",
      "The file moby_dick.txt has about 215830 words.\n",
      "The file little_women.txt has about 189079 words.\n"
     ]
    }
   ],
   "source": [
    "def count_words(filename):\n",
    "    \"\"\"Count the approximate number of words in a file.\"\"\"\n",
    "    try:\n",
    "        with open(filename, encoding='utf-8') as f:\n",
    "            contents = f.read()\n",
    "    except FileNotFoundError:\n",
    "        pass\n",
    "    else:\n",
    "        words = contents.split()\n",
    "        num_words = len(words)\n",
    "        print(f\"The file {filename} has about {num_words} words.\")\n",
    "        \n",
    "filenames = ['alice.txt', 'siddhartha.txt', 'moby_dick.txt', 'little_women.txt']\n",
    "for filename in filenames:\n",
    "    count_words(filename)"
   ]
  },
  {
   "cell_type": "markdown",
   "metadata": {},
   "source": [
    "The statement also acts as a place holder. It's a reminder that you're choosing to do nothing at a specific point in your program's execution and that you might want to do something there later. For example, in this program we might decide to write any missing file names to a file called *missing_files.txt*. Our users wouldn't see this file, but we'd be able to read thr file and deal with any missing texts."
   ]
  },
  {
   "cell_type": "markdown",
   "metadata": {},
   "source": [
    "### TRY IT YOURSELF\n",
    "\n",
    "**10-6. Addition:** `ValueError` happens when a program Python tries to convert a user input into integer `int()`. Write a program that prompts for two numbers. Add them together and print the result. Catch the `ValueError` if either input value is not a number, print a friendly error message. Test your program by entering two numbers and then by entering some text instead of a number. "
   ]
  },
  {
   "cell_type": "code",
   "execution_count": 12,
   "metadata": {},
   "outputs": [
    {
     "name": "stdout",
     "output_type": "stream",
     "text": [
      "Please give me a number: asd\n",
      "asd is not a number. Please give a number\n"
     ]
    }
   ],
   "source": [
    "try:\n",
    "    number = input(\"Please give me a number: \")\n",
    "    number = int(number)\n",
    "except ValueError:\n",
    "    print(f\"{number} is not a number. Please give a number.\")\n",
    "else:\n",
    "    print(number)"
   ]
  },
  {
   "cell_type": "markdown",
   "metadata": {},
   "source": [
    "**10-7. Addition Calculator:** Wrap our code from Exercise 10-6 in a `while` loop so the user can continue entering numbers even if they make a mistake and enter a text instead of a number."
   ]
  },
  {
   "cell_type": "code",
   "execution_count": 1,
   "metadata": {},
   "outputs": [
    {
     "name": "stdout",
     "output_type": "stream",
     "text": [
      "Please give me the first number: 5\n",
      "Please give me the second number: 5\n",
      "1.0\n",
      "Please give me the first number: a\n",
      "Please give me the second number: 6\n",
      "Please ensure you've entered a numerical value.\n",
      "Please give me the first number: q\n"
     ]
    }
   ],
   "source": [
    "print(\"Enter 'q' to quit.\")\n",
    "\n",
    "while True:\n",
    "    first_number = input(\"Please give me the first number: \")\n",
    "    if first_number == 'q':\n",
    "        break\n",
    "    second_number = input(\"Please give me the second number: \")\n",
    "    if second_number == 'q':\n",
    "        break\n",
    "    try:\n",
    "        number = int(first_number) / int(second_number)\n",
    "    except ValueError:\n",
    "        print(\"Please ensure you've entered a numerical value.\")\n",
    "        pass\n",
    "    else:\n",
    "        print(number)"
   ]
  },
  {
   "cell_type": "markdown",
   "metadata": {},
   "source": [
    "**10-8 & 10-9 Cats and Dogs:** Make two files, *cats.txt* and *dogs.txt*. Store at least three names of cats in the first files and three names of dogs in the second file. Write a program that tires to read these files and print the contents of the file to the screen. Wrap your code in a `try-except` block to catch the `FileNotFound` error, and print a friendly message if a file is missing. Move one of the files to a different location on your system, and make sure the code in the except block executes properly.\n",
    "\n"
   ]
  },
  {
   "cell_type": "code",
   "execution_count": 12,
   "metadata": {},
   "outputs": [],
   "source": [
    "cats_name = 'cats.txt'\n",
    "dogs_name = 'dogs.txt'\n",
    "\n",
    "def read_file(file):\n",
    "    try:\n",
    "        with open(file) as f:\n",
    "            file_contents = f.read()\n",
    "    except FileNotFoundError:\n",
    "        print(\"The file is missing.\")\n",
    "    else:\n",
    "        print(f\"{file_contents.title()}\\n\")\n",
    "\n",
    "read_file(cats_name)\n",
    "read_file(dogs_name)\n",
    "    \n",
    "    "
   ]
  },
  {
   "cell_type": "markdown",
   "metadata": {},
   "source": [
    "**10-10. Common Words:** Find a few text you'd like to analyza. Download the text files for these works. Use the `count()` method to find out how many times a word or phrase appears in a string. Notice that converting the string to lowercase using `lower()` catches all appearances of the word you're looking for, regardless of how it's formatted. \n",
    "\n",
    "Write a program tha reads the files you found at Project Gutenberg and determines how many times the word 'the' appears in each text. This will be an approxiamation because it will also count words such as 'the' and 'there'. Try with a space 'the ' in the string and see how much lower your count is."
   ]
  },
  {
   "cell_type": "code",
   "execution_count": 27,
   "metadata": {},
   "outputs": [
    {
     "name": "stdout",
     "output_type": "stream",
     "text": [
      "'The' appears 5946 times in meditations.txt.\n",
      "'The ' with a space appears 2579 times in meditations.txt.\n"
     ]
    }
   ],
   "source": [
    "def count_the(filename):\n",
    "    try:\n",
    "        with open(filename) as f:\n",
    "            file_contents = f.read()\n",
    "            file_contents = file_contents.lower()\n",
    "    except FileNotFoundError:\n",
    "        print(\"File not found.\")\n",
    "    else:\n",
    "        the_count = file_contents.count('the')\n",
    "        print(f\"'The' appears {the_count} times in {file}.\")\n",
    "        the_count = file_contents.count('the ')\n",
    "        print(f\"'The ' with a space appears {the_count} times in {file}.\")\n",
    "        \n",
    "filename = 'meditations.txt'\n",
    "count_the(filename)"
   ]
  },
  {
   "cell_type": "markdown",
   "metadata": {},
   "source": [
    "## Storing Data\n",
    "The `json` module (*Javascript Object notation*) allows you to dump simple Python data structures into a file and load the data from the file the next time the program runs. You can also use `json` to share data between different Python programs. `json` is a useful and portable format that be used with many other programming languages. \n",
    "\n",
    "### Using `json.dump()` and `json.load()`\n",
    "Let's write a short program that stores a set of numbers and another program that reads these numbers back into memory. The first will use `json.dump()` to store the set of numbers and the second program will use `json.load()`. \n",
    "\n",
    "The `json.dump()` function takes two arguments: a piece of data to store and a file object it can use to store the data. Here's how you can use `json.dump()` to store a list of numbers:\n",
    "\n"
   ]
  },
  {
   "cell_type": "code",
   "execution_count": 32,
   "metadata": {},
   "outputs": [],
   "source": [
    "import json\n",
    "\n",
    "numbers = [2, 3, 5, 7, 11, 13, 23]\n",
    "\n",
    "filename = 'numbers.json'\n",
    "with open(filename, 'w') as f:\n",
    "    json.dump(numbers, f)"
   ]
  },
  {
   "cell_type": "markdown",
   "metadata": {},
   "source": [
    "First we import `json` module and the create a list of numbers. At line 5, we choose a filename in which to store the list of numbers. It's customary to use the file extension *.json* to indicate that the data in the file is stored in JSON format. Then we open the file in write mode, which allows `json` to write the data to the file at line 6. At line 7, we use the `json.dump()` function to store the list `numbers` in the file *numbers.json*.\n",
    "\n",
    "Now we'll write a program that uses `json.load()` to read the list back into memory:"
   ]
  },
  {
   "cell_type": "code",
   "execution_count": 33,
   "metadata": {},
   "outputs": [
    {
     "name": "stdout",
     "output_type": "stream",
     "text": [
      "[2, 3, 5, 7, 11, 13, 23]\n"
     ]
    }
   ],
   "source": [
    "import json\n",
    "\n",
    "filename = 'numbers.json'\n",
    "with open(filename) as f:\n",
    "    numbers = json.load(f)\n",
    "\n",
    "print(numbers)"
   ]
  },
  {
   "cell_type": "markdown",
   "metadata": {},
   "source": [
    "At line line 3 we make sure to read form the same file we wrote to. This time when we open the file, we openit in read mode (note: there was no 'r' in line 4). At line 5, we use the `json.load()` function to load the information stored in *numbers.json*, and we assign it to the variable `numbers`. Finally we print the recovered list of numbers and see that it's the same list created earlier.\n",
    "\n",
    "### Saving and Reading User-Generated Data\n",
    "Saving data with `json` is useful when you're working with user-generated data, because if you don't store your user's information somehow, you'll lose it when the program stops running. Let's look at an example where we prompt the user for their name the first time they run a program and then remember their name when they run the program again."
   ]
  },
  {
   "cell_type": "code",
   "execution_count": 2,
   "metadata": {},
   "outputs": [
    {
     "name": "stdout",
     "output_type": "stream",
     "text": [
      "What is your name? Vinnie\n",
      "We'll remember you when you come back, Vinnie!\n"
     ]
    }
   ],
   "source": [
    "import json\n",
    "\n",
    "username = input(\"What is your name? \")\n",
    "\n",
    "filename = 'username.json'\n",
    "with open(filename, 'w') as f:\n",
    "    json.dump(username, f)\n",
    "    print(f\"We'll remember you when you come back, {username}!\")"
   ]
  },
  {
   "cell_type": "markdown",
   "metadata": {},
   "source": [
    "At line 3 we prompt for a username to store. Next, we use `json.dump()`, passing it a username and a file object, to store the username in a file (line 7). Then we print a message informing the user that we've stored their information (line 8).\n",
    "\n",
    "Now let's write a new program that greets a user whose name has already been stored:"
   ]
  },
  {
   "cell_type": "code",
   "execution_count": 3,
   "metadata": {},
   "outputs": [
    {
     "name": "stdout",
     "output_type": "stream",
     "text": [
      "Welcome back, Vinnie!\n"
     ]
    }
   ],
   "source": [
    "import json\n",
    "\n",
    "filename = 'username.json'\n",
    "\n",
    "with open(filename) as f:\n",
    "    username = json.load(f)\n",
    "    print(f\"Welcome back, {username}!\")"
   ]
  },
  {
   "cell_type": "markdown",
   "metadata": {},
   "source": [
    "At line 6, we use `json.load()` to read the information stored in *username.json* and assign it to the variable `username`. Now that we've recovered the username, we can welcome them back.\n",
    "\n",
    "We need to combine the two programs into one file.  When someone runs *remember_me.py* we want to retrieve their username from memory if possible; therefore, we'll start with a `try` block that attempts to recover the username. If the file *username.json* doesn't exist, we'll have the `except` block prompt for a username and store it in *username.json* for next time:"
   ]
  },
  {
   "cell_type": "code",
   "execution_count": 9,
   "metadata": {},
   "outputs": [
    {
     "name": "stdout",
     "output_type": "stream",
     "text": [
      "Welcome back, Big Monskey!\n"
     ]
    }
   ],
   "source": [
    "import json\n",
    "\n",
    "# Load the username, if it has been stored previously.\n",
    "#  Otherwise, prompt for the username and store it.\n",
    "filename = 'username.json'\n",
    "\n",
    "try:\n",
    "    with open(filename) as f:\n",
    "        username = json.load(f)\n",
    "except FileNotFoundError:\n",
    "    username = input(\"What is your name? \")\n",
    "    with open(filename, 'w') as f:\n",
    "        json.dump(username, f)\n",
    "        print(f\"We'll remember you when you come back, {username.title()}!\")\n",
    "else:\n",
    "    print(f\"Welcome back, {username.title()}!\")"
   ]
  },
  {
   "cell_type": "markdown",
   "metadata": {},
   "source": [
    "At line 8, we try to open the file *username.json*. If this file exists, we read the username back into the memory at line 9 and print a message welcoming back the user in the `else` block. If this is the first time the user runs the program, *username.json* won't exist and a `FileNotFoundError` will occur (line 10). Python will move on to the `except` block where we prompt the user to enter their username at line 11. We then use `json.dump()` to store the username and print a greeting at line 12.\n",
    "\n",
    "### Refactoring\n",
    "Refactoring is the process where you improve your code by breaking your code into a series of functions that have specific jobs.\n",
    "\n",
    "We can refactor the code above by moving the bulk of the logic into one or more functions. The focus the code above is to greet the user. so we can move all of our existing code into a function valled `greet_user()`:"
   ]
  },
  {
   "cell_type": "code",
   "execution_count": 10,
   "metadata": {},
   "outputs": [
    {
     "name": "stdout",
     "output_type": "stream",
     "text": [
      "Welcome back, Big Monskey!\n"
     ]
    }
   ],
   "source": [
    "import json\n",
    "\n",
    "def greet_user():\n",
    "    \"\"\"Greet the user by name.\"\"\"\n",
    "    filename = 'username.json'\n",
    "\n",
    "    try:\n",
    "        with open(filename) as f:\n",
    "            username = json.load(f)\n",
    "    except FileNotFoundError:\n",
    "        username = input(\"What is your name? \")\n",
    "        with open(filename, 'w') as f:\n",
    "            json.dump(username, f)\n",
    "            print(f\"We'll remember you when you come back, {username.title()}!\")\n",
    "    else:\n",
    "        print(f\"Welcome back, {username.title()}!\")\n",
    "\n",
    "greet_user()"
   ]
  },
  {
   "cell_type": "markdown",
   "metadata": {},
   "source": [
    "Since we're using a function now, we add a docstring that reflects how the program currently works. The file is a little cleaner, the function `greet_user()` is doing more than just greeting the user--it's also retrieving a stored username if one exists and prompting for a new username if one doesn't exist.\n",
    "\n",
    "Let's refactor it further, we'll start by moving the code for retrieving a stored username to a separate function:"
   ]
  },
  {
   "cell_type": "code",
   "execution_count": 13,
   "metadata": {},
   "outputs": [
    {
     "name": "stdout",
     "output_type": "stream",
     "text": [
      "Welcome back, Zennie!\n"
     ]
    }
   ],
   "source": [
    "import json\n",
    "\n",
    "def get_stored_username():\n",
    "    \"\"\"Get stored username if available.\"\"\"\n",
    "    filename = 'username.json'\n",
    "    try:\n",
    "        with open(filename) as f:\n",
    "            username = json.load(f)\n",
    "    except FileNotFoundError:\n",
    "        return None\n",
    "    else:\n",
    "        return username\n",
    "\n",
    "def greet_user():\n",
    "    \"\"\"Greet the user by name.\"\"\"\n",
    "    username = get_stored_username()\n",
    "    if username:\n",
    "        print(f\"Welcome back, {username.title()}!\")\n",
    "    else:\n",
    "        username = input(\"What is your name? \")\n",
    "        with open(filename, 'w') as f:\n",
    "            json.dump(username, f)\n",
    "            print(f\"We'll remember you when you come back, {username.title()}!\")\n",
    "            \n",
    "greet_user()"
   ]
  },
  {
   "cell_type": "markdown",
   "metadata": {},
   "source": [
    "A function should either return the value you're expecting, or it should return `None` as shown in the `get_stored_username()` function. \n",
    "\n",
    "Let's factor one more block of code out of `greet_user()`.  If the username does not exist, we should move the code that prompts for a new username to a function dedicated to that purpose:"
   ]
  },
  {
   "cell_type": "code",
   "execution_count": 16,
   "metadata": {},
   "outputs": [
    {
     "name": "stdout",
     "output_type": "stream",
     "text": [
      "Welcome back, Zennie!\n"
     ]
    }
   ],
   "source": [
    "import json\n",
    "\n",
    "def get_stored_username():\n",
    "    \"\"\"Get stored username if available.\"\"\"\n",
    "    filename = 'username.json'\n",
    "    try:\n",
    "        with open(filename) as f:\n",
    "            username = json.load(f)\n",
    "    except FileNotFoundError:\n",
    "        return None\n",
    "    else:\n",
    "        return username\n",
    "\n",
    "def get_new_username():\n",
    "    \"\"\"Prompt or a new username\"\"\"\n",
    "    username = input(\"What is your name? \")\n",
    "    filename = 'username.json'\n",
    "    with open(filename, 'w') as f:\n",
    "        json.dump(username, f)\n",
    "    return username\n",
    "\n",
    "def greet_user():\n",
    "    \"\"\"Greet the user by name.\"\"\"\n",
    "    username = get_stored_username()\n",
    "    if username:\n",
    "        print(f\"Welcome back, {username.title()}!\")\n",
    "    else:\n",
    "        username = get_new_username()\n",
    "        print(f\"We'll remember you when you come back, {username.title()}!\")\n",
    "            \n",
    "greet_user()"
   ]
  },
  {
   "cell_type": "markdown",
   "metadata": {},
   "source": [
    "Each function in the finale version has a single, clear purpose. We call `greet_user()`, that function prints an appropriate message: it wither welcomes back an exisiting user or greets a new user. It does this by calling `get_stored_username()`, which is responsible only for retrieving a stored username if one exists. Finally, `greet_user()` calls `get_new_username()` if necessary, which is responsible only for getting a new username and storing it. This compartmentalization of work is an essential part of writing clear code that will be easy to maintain and extend.\n",
    "\n",
    "### TRY IT YOURSELF\n",
    "**10-11.Favorite Number:** Write a program that prompts for the user's favorite number. user `json.dump()` to store this number in a file. Write a separate program that reads in this value and prints the message, \"I know your favorite number! It's _ _ _ .\""
   ]
  },
  {
   "cell_type": "code",
   "execution_count": 26,
   "metadata": {},
   "outputs": [
    {
     "name": "stdout",
     "output_type": "stream",
     "text": [
      "What is your favorite number? 29\n"
     ]
    }
   ],
   "source": [
    "import json\n",
    "filename = 'fav_num.json'\n",
    "\n",
    "favorite_number = input(\"What is your favorite number? \")\n",
    "with open(filename, 'w') as f:\n",
    "    json.dump(favorite_number, f)"
   ]
  },
  {
   "cell_type": "code",
   "execution_count": 28,
   "metadata": {},
   "outputs": [
    {
     "name": "stdout",
     "output_type": "stream",
     "text": [
      "I know what your favorite number is. It's 29!\n"
     ]
    }
   ],
   "source": [
    "import json\n",
    "filename = 'fav_num.json'\n",
    "\n",
    "with open(filename) as f:\n",
    "    fav_num = json.load(f)\n",
    "    print(f\"I know what your favorite number is. It's {fav_num}!\")"
   ]
  },
  {
   "cell_type": "markdown",
   "metadata": {},
   "source": [
    "**10-12. Favorite Number Remembered:** Combine the two programs from 10-11 into one file. If the number is already stored, report the favorite number to the user. If not, prompt for the uer's favorite numberand store it in a file. Run the program twice to see that it works."
   ]
  },
  {
   "cell_type": "code",
   "execution_count": 37,
   "metadata": {},
   "outputs": [
    {
     "name": "stdout",
     "output_type": "stream",
     "text": [
      "I know what your favorite number is. It's 368!\n"
     ]
    }
   ],
   "source": [
    "import json\n",
    "\n",
    "def get_fav_num(filename):\n",
    "    \"\"\"See if a favorite number has already been saved.\"\"\"\n",
    "    try:   \n",
    "        with open(filename) as f:\n",
    "            fav_num = json.load(f)\n",
    "            print(f\"I know what your favorite number is. It's {fav_num}!\")\n",
    "    except FileNotFoundError:\n",
    "        favorite_number = input(\"What is your favorite number? \")\n",
    "        with open(filename, 'w') as f:\n",
    "            json.dump(favorite_number, f)\n",
    "            \n",
    "filename = 'fav_num.json'\n",
    "get_fav_num(filename)"
   ]
  },
  {
   "cell_type": "markdown",
   "metadata": {},
   "source": [
    "**10-13. Verify User:** The final listing for *remember_my.py* assumes either that the user has already entered their username or that the program is running for the first time. We should modify it in case the current user is not the person who last used the program.\n",
    "Before printing a welcome back message in `greet_user()`, ask the user if this is the correct username. If it's not, call `get_new_username()` to get the correct username."
   ]
  },
  {
   "cell_type": "code",
   "execution_count": null,
   "metadata": {},
   "outputs": [],
   "source": []
  },
  {
   "cell_type": "code",
   "execution_count": 41,
   "metadata": {},
   "outputs": [
    {
     "name": "stdout",
     "output_type": "stream",
     "text": [
      "Are you Kenny, enter 'y' for yes and 'n' for no. n\n",
      "What is your name? Bond\n",
      "We'll remember you when you come back, Bond!\n"
     ]
    }
   ],
   "source": [
    "import json\n",
    "\n",
    "def get_stored_username():\n",
    "    \"\"\"Get stored username if available.\"\"\"\n",
    "    filename = 'username.json'\n",
    "    try:\n",
    "        with open(filename) as f:\n",
    "            username = json.load(f)\n",
    "    except FileNotFoundError:\n",
    "        return None\n",
    "    else:\n",
    "        return username\n",
    "\n",
    "def get_new_username():\n",
    "    \"\"\"Prompt or a new username\"\"\"\n",
    "    username = input(\"What is your name? \")\n",
    "    filename = 'username.json'\n",
    "    with open(filename, 'w') as f:\n",
    "        json.dump(username, f)\n",
    "    return username\n",
    "\n",
    "def greet_user():\n",
    "    \"\"\"Greet the user by name.\"\"\"\n",
    "    username = get_stored_username()\n",
    "    answer = input(f\"Are you {username}, enter 'y' for yes and 'n' for no. \")\n",
    "    if answer == 'y':\n",
    "        print(f\"Welcome back, {username.title()}!\")\n",
    "        return\n",
    "    \n",
    "    username = get_new_username()\n",
    "    print(f\"We'll remember you when you come back, {username.title()}!\")\n",
    "            \n",
    "greet_user()"
   ]
  },
  {
   "cell_type": "markdown",
   "metadata": {},
   "source": []
  }
 ],
 "metadata": {
  "kernelspec": {
   "display_name": "Python 3",
   "language": "python",
   "name": "python3"
  },
  "language_info": {
   "codemirror_mode": {
    "name": "ipython",
    "version": 3
   },
   "file_extension": ".py",
   "mimetype": "text/x-python",
   "name": "python",
   "nbconvert_exporter": "python",
   "pygments_lexer": "ipython3",
   "version": "3.7.1"
  }
 },
 "nbformat": 4,
 "nbformat_minor": 4
}
