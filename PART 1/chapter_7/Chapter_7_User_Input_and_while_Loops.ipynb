{
 "cells": [
  {
   "cell_type": "markdown",
   "metadata": {},
   "source": [
    "# Chapter 7 User Input and While Loops\n",
    "\n",
    "### How the input() Function Works\n",
    "\n",
    "The input() function pauses your program and waits for the user to enter some text. \n",
    "    Once Python receives the user's input, it assigns that input to a variable to make it convenient for you to work with.\n",
    "\n",
    "For example, the following program asks the user to enter some text, then displays that message back to the user."
   ]
  },
  {
   "cell_type": "code",
   "execution_count": 1,
   "metadata": {},
   "outputs": [
    {
     "name": "stdout",
     "output_type": "stream",
     "text": [
      "Tell me something, and I will repeat it back to you: Hello Bobby\n",
      "Hello Bobby\n"
     ]
    }
   ],
   "source": [
    "message = input(\"Tell me something, and I will repeat it back to you: \")\n",
    "print(message)"
   ]
  },
  {
   "cell_type": "markdown",
   "metadata": {},
   "source": [
    "The input() function takes on argument: the <i>prompt</i>, or instructions, that we want to display to the user so they know what to do.\n",
    "\n",
    "<b>Writing Clear Prompts</b>\n",
    "\n",
    "Each time you use the input() function, you should include a clear, easy-to-follow prompt that tells the user exactly what kind of information you're looking for.\n",
    "\n",
    "Any statement that tells the user what to enter should work. For example:"
   ]
  },
  {
   "cell_type": "code",
   "execution_count": 2,
   "metadata": {
    "scrolled": true
   },
   "outputs": [
    {
     "name": "stdout",
     "output_type": "stream",
     "text": [
      "Please enter your name: Johnny\n",
      "\n",
      "Hello, Johnny!\n"
     ]
    }
   ],
   "source": [
    "name = input(\"Please enter your name: \")\n",
    "print(f\"\\nHello, {name}!\")"
   ]
  },
  {
   "cell_type": "markdown",
   "metadata": {},
   "source": [
    "Add a space at the end of your prompts (after the colon in the preceding example) to separate the prompt from the user's response and to make it clear to your user where to enter their text. For example:\n",
    "\n",
    "Please enter your name: Johnny\n",
    "Hello, Johnny!\n",
    "\n",
    "Sometimes you'll want to write a prompt that's longer than one line. You can assingn your prompt to variable and pass that variable to the input() function. This allows you to build your prompt over several lines, then write a clean input() statement."
   ]
  },
  {
   "cell_type": "code",
   "execution_count": 3,
   "metadata": {},
   "outputs": [
    {
     "name": "stdout",
     "output_type": "stream",
     "text": [
      "If you tell us who you are, we can personalize the messages you see.\n",
      "What is your first name? Sub-Zero\n",
      "\n",
      "Hello, Sub-Zero!\n"
     ]
    }
   ],
   "source": [
    "prompt = \"If you tell us who you are, we can personalize the messages you see.\"\n",
    "prompt += \"\\nWhat is your first name? \"\n",
    "\n",
    "name = input(prompt)\n",
    "print(f\"\\nHello, {name}!\")"
   ]
  },
  {
   "cell_type": "markdown",
   "metadata": {},
   "source": [
    "The example above shows one way to build a multi-line string. The first line assigns the first part of the message to the variable `prompt`. In the second line, the operator += takes the string that was assigned to `prompt` and adds the new string onto the end.\n",
    "\n",
    "The prompt now spans two lines, again with a space after the question mark for clarity:\n",
    "***\n",
    "If you tell us who you are, we can personalize the messages you see.\n",
    "\n",
    "What is your first name? <b>Sub-Zero</b>\n",
    "\n",
    "Hello, Sub-Zero!\n",
    "***"
   ]
  },
  {
   "cell_type": "markdown",
   "metadata": {},
   "source": [
    "### Using int() to Accept Numberical Input\n",
    "\n",
    "When you use the input() function, Python interprets everything the user enters as a string. Consider the following interpreter session, which asks for the user's age:\n",
    "***"
   ]
  },
  {
   "cell_type": "code",
   "execution_count": 8,
   "metadata": {},
   "outputs": [
    {
     "name": "stdout",
     "output_type": "stream",
     "text": [
      "How old are you? 21\n"
     ]
    },
    {
     "data": {
      "text/plain": [
       "'21'"
      ]
     },
     "execution_count": 8,
     "metadata": {},
     "output_type": "execute_result"
    }
   ],
   "source": [
    "age = input(\"How old are you? \")\n",
    "age"
   ]
  },
  {
   "cell_type": "markdown",
   "metadata": {},
   "source": [
    "***\n",
    "Python returns the string '21' not the actual integer of 21. We know it's a string because there's quotes around the number.\n",
    "\n",
    "If you try to use the input as as number, you'll get an error:\n",
    "***"
   ]
  },
  {
   "cell_type": "code",
   "execution_count": 1,
   "metadata": {
    "scrolled": true
   },
   "outputs": [
    {
     "name": "stdout",
     "output_type": "stream",
     "text": [
      "How old are you?21\n"
     ]
    },
    {
     "ename": "TypeError",
     "evalue": "'>=' not supported between instances of 'str' and 'int'",
     "output_type": "error",
     "traceback": [
      "\u001b[1;31m---------------------------------------------------------------------------\u001b[0m",
      "\u001b[1;31mTypeError\u001b[0m                                 Traceback (most recent call last)",
      "\u001b[1;32m<ipython-input-1-2f1edb8428db>\u001b[0m in \u001b[0;36m<module>\u001b[1;34m\u001b[0m\n\u001b[0;32m      1\u001b[0m \u001b[0mage\u001b[0m \u001b[1;33m=\u001b[0m \u001b[0minput\u001b[0m\u001b[1;33m(\u001b[0m\u001b[1;34m\"How old are you?\"\u001b[0m\u001b[1;33m)\u001b[0m\u001b[1;33m\u001b[0m\u001b[1;33m\u001b[0m\u001b[0m\n\u001b[1;32m----> 2\u001b[1;33m \u001b[0mage\u001b[0m \u001b[1;33m>=\u001b[0m \u001b[1;36m18\u001b[0m\u001b[1;33m\u001b[0m\u001b[1;33m\u001b[0m\u001b[0m\n\u001b[0m",
      "\u001b[1;31mTypeError\u001b[0m: '>=' not supported between instances of 'str' and 'int'"
     ]
    }
   ],
   "source": [
    "age = input(\"How old are you?\")\n",
    "age >= 18"
   ]
  },
  {
   "cell_type": "markdown",
   "metadata": {},
   "source": [
    "Python can't compare two different type of variables. It produces an error because it can't compare a string variable to an integer.\n",
    "\n",
    "We can resolve this by using the `int()` function, which tells Python to treat the input as a numberical value. The `int()` function converts a string representation of a number to a numerical representation as shown here:\n",
    "***"
   ]
  },
  {
   "cell_type": "code",
   "execution_count": 7,
   "metadata": {},
   "outputs": [
    {
     "name": "stdout",
     "output_type": "stream",
     "text": [
      "How old are you? 21\n"
     ]
    },
    {
     "data": {
      "text/plain": [
       "True"
      ]
     },
     "execution_count": 7,
     "metadata": {},
     "output_type": "execute_result"
    }
   ],
   "source": [
    "age = input(\"How old are you? \")\n",
    "age = int(age)\n",
    "age >= 18"
   ]
  },
  {
   "cell_type": "markdown",
   "metadata": {},
   "source": [
    "***\n",
    "How do we use `int()` in an actual program? Consider a program that determines whether people are tall enough to ride a roller coaster:\n",
    "***"
   ]
  },
  {
   "cell_type": "code",
   "execution_count": 2,
   "metadata": {},
   "outputs": [
    {
     "name": "stdout",
     "output_type": "stream",
     "text": [
      "How tall are you, in inches? 71\n",
      "\n",
      "Your're tall enough to ride!\n"
     ]
    }
   ],
   "source": [
    "height = input(\"How tall are you, in inches? \")\n",
    "height = int(height)\n",
    "\n",
    "if height >= 48:\n",
    "    print(f\"\\nYour're tall enough to ride!\")\n",
    "else:\n",
    "    print(\"\\nYou'll be able to ride when you're a little older.\")"
   ]
  },
  {
   "cell_type": "markdown",
   "metadata": {},
   "source": [
    "<b>When you use numberical input to do calculations and comparisions, be sure to convert the input value to a numerical representation first.</b>"
   ]
  },
  {
   "cell_type": "markdown",
   "metadata": {},
   "source": [
    "### The Modulo Operator\n",
    "\n",
    "Another useful tool for working with numerical information is the <i>modulo operator</i> `%`, which divides one number by another number and returns the remainder:\n",
    "***"
   ]
  },
  {
   "cell_type": "code",
   "execution_count": 3,
   "metadata": {},
   "outputs": [
    {
     "data": {
      "text/plain": [
       "1"
      ]
     },
     "execution_count": 3,
     "metadata": {},
     "output_type": "execute_result"
    }
   ],
   "source": [
    "4 % 3"
   ]
  },
  {
   "cell_type": "code",
   "execution_count": 4,
   "metadata": {},
   "outputs": [
    {
     "data": {
      "text/plain": [
       "2"
      ]
     },
     "execution_count": 4,
     "metadata": {},
     "output_type": "execute_result"
    }
   ],
   "source": [
    "5 % 3"
   ]
  },
  {
   "cell_type": "code",
   "execution_count": 5,
   "metadata": {},
   "outputs": [
    {
     "data": {
      "text/plain": [
       "0"
      ]
     },
     "execution_count": 5,
     "metadata": {},
     "output_type": "execute_result"
    }
   ],
   "source": [
    "6 % 3"
   ]
  },
  {
   "cell_type": "code",
   "execution_count": 6,
   "metadata": {},
   "outputs": [
    {
     "data": {
      "text/plain": [
       "1"
      ]
     },
     "execution_count": 6,
     "metadata": {},
     "output_type": "execute_result"
    }
   ],
   "source": [
    "7 % 3"
   ]
  },
  {
   "cell_type": "markdown",
   "metadata": {},
   "source": [
    "The modulo operator doesn't tell you how times one number fits into another; it just tells you what the remainder is.\n",
    "\n",
    "When one number is divisible by another number, the remainder is 0, so the modulo operator always returns 0. You can use this fact to determine if a number is even or odd:\n",
    "***"
   ]
  },
  {
   "cell_type": "code",
   "execution_count": 7,
   "metadata": {},
   "outputs": [
    {
     "name": "stdout",
     "output_type": "stream",
     "text": [
      "Enter a number, and I'll tell you if it's even or odd: 42\n",
      "\n",
      "The number 42 is even.\n"
     ]
    }
   ],
   "source": [
    "#even_or_odd.py\n",
    "\n",
    "number = input(\"Enter a number, and I'll tell you if it's even or odd: \")\n",
    "number = int(number)\n",
    "\n",
    "if number % 2 == 0:\n",
    "    print(f\"\\nThe number {number} is even.\")\n",
    "else:\n",
    "    print(f\"\\nThe number {number} is odd.\")"
   ]
  },
  {
   "cell_type": "markdown",
   "metadata": {},
   "source": [
    "***\n",
    "Even numbers are always divisible by two, so if the modulo of a number and two is zero (here, if number % 2 = 0) the number is even. Otherwise, it's odd.\n",
    "***\n",
    "### Try it yourself\n",
    "<b>7-1 Rental Car:</b>\n",
    "Write a program that ask the user what kind of rental car they would like. Print a message about that car, such as \"Let me see if I can find you a Subaru.\""
   ]
  },
  {
   "cell_type": "code",
   "execution_count": 10,
   "metadata": {
    "scrolled": true
   },
   "outputs": [
    {
     "name": "stdout",
     "output_type": "stream",
     "text": [
      "What make of car would you like for for your rental? toyota\n",
      "Let me see if I can find you a Toyota for your rental today.\n"
     ]
    }
   ],
   "source": [
    "#7-1 Rental Car\n",
    "car = input(\"What make of car would you like for for your rental? \")\n",
    "print(f\"Let me see if I can find you a {car.title()} for your rental today.\")"
   ]
  },
  {
   "cell_type": "markdown",
   "metadata": {},
   "source": [
    "<b>7-2 Restaurant Seating</b>\n",
    "Write a program that asks the user how many people are in their dinner group. If the answer is more than eight, print a message saying they'll have to wait for a table. Otherwise, report that their table is ready."
   ]
  },
  {
   "cell_type": "code",
   "execution_count": 12,
   "metadata": {},
   "outputs": [
    {
     "name": "stdout",
     "output_type": "stream",
     "text": [
      "How many people are in your dinner group this evening? 9\n",
      "With a group of 9 there will be a wait of twenty minutes.\n"
     ]
    }
   ],
   "source": [
    "dinner_group = input(\"How many people are in your dinner group this evening? \")\n",
    "dinner_group = int(dinner_group)\n",
    "\n",
    "if dinner_group > 8:\n",
    "    print(f\"With a group of {dinner_group} there will be a wait of twenty minutes.\")\n",
    "else:\n",
    "    print(f\"A table is ready for your group of {dinner_group}.\")\n",
    "    "
   ]
  },
  {
   "cell_type": "code",
   "execution_count": 13,
   "metadata": {},
   "outputs": [
    {
     "name": "stdout",
     "output_type": "stream",
     "text": [
      "How many people are in your dinner group this evening? 3\n",
      "A table is ready for your group of 3.\n"
     ]
    }
   ],
   "source": [
    "dinner_group = input(\"How many people are in your dinner group this evening? \")\n",
    "dinner_group = int(dinner_group)\n",
    "\n",
    "if dinner_group > 8:\n",
    "    print(f\"With a group of {dinner_group} there will be a wait of twenty minutes.\")\n",
    "else:\n",
    "    print(f\"A table is ready for your group of {dinner_group}.\")"
   ]
  },
  {
   "cell_type": "markdown",
   "metadata": {},
   "source": [
    "<b>7-3 Multiples of Ten</b> Ask the user for a number, and then report whether the number is a multiple of 10 or not."
   ]
  },
  {
   "cell_type": "code",
   "execution_count": 15,
   "metadata": {},
   "outputs": [
    {
     "name": "stdout",
     "output_type": "stream",
     "text": [
      "Given a number, this program will tell you if the number is divisible by ten.\n",
      "What is the number you would like to use? 15\n",
      "15 is not divisible by ten.\n"
     ]
    }
   ],
   "source": [
    "#7-3.py\n",
    "prompt = \"Given a number, this program will tell you if the number is divisible by ten.\"\n",
    "prompt += \"\\nWhat is the number you would like to use? \"\n",
    "\n",
    "number = input(prompt)\n",
    "number = int(number)\n",
    "\n",
    "if number % 10 == 0:\n",
    "    print(f\"The {number} is divisible by ten.\")\n",
    "else:\n",
    "    print(f\"{number} is not divisible by ten.\")"
   ]
  },
  {
   "cell_type": "code",
   "execution_count": 16,
   "metadata": {},
   "outputs": [
    {
     "name": "stdout",
     "output_type": "stream",
     "text": [
      "Given a number, this program will tell you if the number is divisible by ten.\n",
      "What is the number you would like to use? 12659300\n",
      "The 12659300 is divisible by ten.\n"
     ]
    }
   ],
   "source": [
    "#7-3.py\n",
    "prompt = \"Given a number, this program will tell you if the number is divisible by ten.\"\n",
    "prompt += \"\\nWhat is the number you would like to use? \"\n",
    "\n",
    "number = input(prompt)\n",
    "number = int(number)\n",
    "\n",
    "if number % 10 == 0:\n",
    "    print(f\"The {number} is divisible by ten.\")\n",
    "else:\n",
    "    print(f\"{number} is not divisible by ten.\")"
   ]
  },
  {
   "cell_type": "markdown",
   "metadata": {},
   "source": [
    "## Introducing `while` Loops\n",
    "\n",
    "The `for` loop takes a collection of items and executes a block of code once for each item in the collection. In contrast, the `while` loop runs as long as, or <i>while</i>, a certain condition is true.\n",
    "\n",
    "### The `while` Loop in Action\n",
    "You can use a while loop to count up through a series of numbers. For example, the following while loop counts from 1 to 5:\n",
    "***"
   ]
  },
  {
   "cell_type": "code",
   "execution_count": 17,
   "metadata": {
    "scrolled": true
   },
   "outputs": [
    {
     "name": "stdout",
     "output_type": "stream",
     "text": [
      "1\n",
      "2\n",
      "3\n",
      "4\n",
      "5\n"
     ]
    }
   ],
   "source": [
    "#counting.py\n",
    "\n",
    "current_number = 1 \n",
    "while current_number <= 5: \n",
    "    print(current_number)\n",
    "    current_number += 1"
   ]
  },
  {
   "cell_type": "markdown",
   "metadata": {},
   "source": [
    "In line 3, we start by assigning `current_number` value to 1. The `while` loop is then set to keep running as long as the value of `current_number` is less than or equal to 5. The code inside the loop prints the value of `current_number` and then adds 1 to that value with `current_number` += 1. \n",
    "\n",
    "Python will continue the loop (printing `current_number` and adding 1 to it) until `current_number` is greater than 5."
   ]
  },
  {
   "cell_type": "markdown",
   "metadata": {},
   "source": [
    "### Letting the User Choose When to Quit\n",
    "We can make a <i>parrot.py</i> program run as long as the user wants by putting most of the program inside a while loop. We'll define a <i>quit value</i> and then keep the program running as long as the user has not entered the quit value:\n",
    "***"
   ]
  },
  {
   "cell_type": "code",
   "execution_count": 18,
   "metadata": {},
   "outputs": [
    {
     "name": "stdout",
     "output_type": "stream",
     "text": [
      "\n",
      "Tell me something, and I will repeat it back to you:\n",
      "Enter 'quit' to end the program.I will be a millionaire\n",
      "I will be a millionaire\n",
      "\n",
      "Tell me something, and I will repeat it back to you:\n",
      "Enter 'quit' to end the program.More money, less problems\n",
      "More money, less problems\n",
      "\n",
      "Tell me something, and I will repeat it back to you:\n",
      "Enter 'quit' to end the program.what is the meaning of life\n",
      "what is the meaning of life\n",
      "\n",
      "Tell me something, and I will repeat it back to you:\n",
      "Enter 'quit' to end the program.quit\n",
      "quit\n"
     ]
    }
   ],
   "source": [
    "#parrot.py\n",
    "\n",
    "prompt = \"\\nTell me something, and I will repeat it back to you:\"\n",
    "prompt += \"\\nEnter 'quit' to end the program.\"\n",
    "\n",
    "message = \"\"\n",
    "while message != 'quit':\n",
    "    message = input(prompt)\n",
    "    print(message)"
   ]
  },
  {
   "cell_type": "markdown",
   "metadata": {},
   "source": [
    "We define a prompt that tells the user their two options: entering a message or entering the quit value. We need to set the empty message variable first because Python needs something to compare for the while loop to work. Even though the message variable is an empty string, it will make sense to Python and allow it to perform the comparison that makes the while loop work.The while loop runs as along as the value of message is not 'quit'.\n",
    "\n",
    "This program works well, except that it prints the word 'quit' as if it were an actual message. A simple `if` test fixes this:\n",
    "***"
   ]
  },
  {
   "cell_type": "code",
   "execution_count": 20,
   "metadata": {
    "scrolled": true
   },
   "outputs": [
    {
     "name": "stdout",
     "output_type": "stream",
     "text": [
      "\n",
      "Tell me something, and I will repeat it back to you:\n",
      "Enter 'quit' to end the program.Hi there!\n",
      "Hi there!\n",
      "\n",
      "Tell me something, and I will repeat it back to you:\n",
      "Enter 'quit' to end the program.quit\n"
     ]
    }
   ],
   "source": [
    "prompt = \"\\nTell me something, and I will repeat it back to you:\"\n",
    "prompt += \"\\nEnter 'quit' to end the program.\"\n",
    "\n",
    "message = \"\"\n",
    "while message != 'quit':\n",
    "    message = input(prompt)\n",
    "    \n",
    "    if message != 'quit':\n",
    "        print(message)"
   ]
  },
  {
   "cell_type": "markdown",
   "metadata": {},
   "source": [
    "Now the program makes a quick check before displaying the message and only prints the message if it does not match the quit value.\n",
    "***"
   ]
  },
  {
   "cell_type": "markdown",
   "metadata": {},
   "source": [
    "<b>Using a Flag</b>\n",
    "\n",
    "In the previous example, we had the program perform certain tasks while a given condition was true. What what about more complicated programs in which many different events could cause the programs to stop running?\n",
    "\n",
    "If many possible events might occur to stop the program, trying to test all these conditions in one `while` statement becomes complicated and difficult.\n",
    "\n",
    "For a program that should run only as long as many conditions are true, you can define one variable that determines whether or not the entire program is active. This variable, called <i>flag</i>, acts as a signal to the program. We canwrite out prgrams so they run while the flag is set to `True` and stop running when any of several events sets the value of the flag to `False`. As a result, our overall `while` statement needs to check only one condition: whether or not the flag is currently `True`. Then, all our other tests (to see if an event has occured that should set the flag to `False`) can be neatly organized in the rest of the program. \n",
    "\n",
    "Let's add a flag to to *parrot.py* from the previous section. This flag, which we'll call `active` (though you can call it anything), will monitor whether or not the program should continue running:\n",
    "***"
   ]
  },
  {
   "cell_type": "code",
   "execution_count": 21,
   "metadata": {},
   "outputs": [
    {
     "name": "stdout",
     "output_type": "stream",
     "text": [
      "\n",
      "Tell me something, and I will repeat it back to you:\n",
      "Enter 'quit' to end the program.Hi there\n",
      "Hi there\n",
      "\n",
      "Tell me something, and I will repeat it back to you:\n",
      "Enter 'quit' to end the program.What a difference a day make\n",
      "What a difference a day make\n",
      "\n",
      "Tell me something, and I will repeat it back to you:\n",
      "Enter 'quit' to end the program.quit\n"
     ]
    }
   ],
   "source": [
    "prompt = \"\\nTell me something, and I will repeat it back to you:\"\n",
    "prompt += \"\\nEnter 'quit' to end the program.\"\n",
    "\n",
    "active = True\n",
    "\n",
    "while active:\n",
    "    message = input(prompt)\n",
    "\n",
    "    if message == 'quit':\n",
    "        active = False\n",
    "    else:\n",
    "        print(message)"
   ]
  },
  {
   "cell_type": "markdown",
   "metadata": {},
   "source": [
    "We set the variable active to `True` so the program starts in active state. Doing so is simpler because no comparison is made in the `while` statement itself; the logic is taken care of in other parts of the program. As long as the active variable remains `True`, the loop will continue running.\n",
    "\n",
    "In the `if` statement inside the `while` loop, we check the value of `message` once the user enters their input. If the user enters 'quit' we set `active` to `False` and the `while` loop stops. If the user enters anything other than 'quit', we print their input as a message.\n",
    "\n",
    "This program has the same output as the previous example where we placed the conditional test directly in the `while` statement. But now that we have a flag to indicate wheter the overall program is in an active state, it would be easy to add more tests (such as `elif` statements) for events that should cause active to become `False`. This is useful in complicated programs like games in which there may be many events that should each make the program stop running. When any of these events causes the active flag to become `False`, the main game loop will exit, a *Game Over* message can be displayed, and the player can be fiben the option to play again."
   ]
  },
  {
   "cell_type": "markdown",
   "metadata": {},
   "source": [
    "End on page 121 Using a break to exit a loop"
   ]
  }
 ],
 "metadata": {
  "kernelspec": {
   "display_name": "Python 3",
   "language": "python",
   "name": "python3"
  },
  "language_info": {
   "codemirror_mode": {
    "name": "ipython",
    "version": 3
   },
   "file_extension": ".py",
   "mimetype": "text/x-python",
   "name": "python",
   "nbconvert_exporter": "python",
   "pygments_lexer": "ipython3",
   "version": "3.7.1"
  }
 },
 "nbformat": 4,
 "nbformat_minor": 4
}
